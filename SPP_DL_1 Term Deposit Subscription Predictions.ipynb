{
 "cells": [
  {
   "cell_type": "markdown",
   "metadata": {},
   "source": [
    "# Predicting whether a new set of clients will subscribe the term deposit using an ANN(Deep Learning) model."
   ]
  },
  {
   "cell_type": "code",
   "execution_count": null,
   "metadata": {},
   "outputs": [],
   "source": []
  },
  {
   "cell_type": "markdown",
   "metadata": {},
   "source": [
    "# Table Of Contents:\n",
    "####   1. Importing the required libraries\n",
    "####   2. Importing dataset and checking the data\n",
    "####   3. Data Visualization\n",
    "####   4. Data Preprocessing \n",
    "####   5. Creating the train and test data set\n",
    "####   6. Building an artificial neural network model\n",
    "####   7. Predicting the output of 2 custom variables"
   ]
  },
  {
   "cell_type": "code",
   "execution_count": null,
   "metadata": {},
   "outputs": [],
   "source": []
  },
  {
   "cell_type": "markdown",
   "metadata": {},
   "source": [
    "# 1. Importing the required libraries"
   ]
  },
  {
   "cell_type": "code",
   "execution_count": 3,
   "metadata": {},
   "outputs": [],
   "source": [
    "import numpy as np\n",
    "import pandas as pd\n",
    "import matplotlib.pyplot as plt\n",
    "import seaborn as sns\n",
    "import tensorflow as tf"
   ]
  },
  {
   "cell_type": "markdown",
   "metadata": {},
   "source": [
    "# 2. Importing dataset and checking the data¶"
   ]
  },
  {
   "cell_type": "code",
   "execution_count": 4,
   "metadata": {},
   "outputs": [],
   "source": [
    "deposit_df = pd.read_csv(r\"D:\\001_Data\\Not Completed\\Term Deposit\\termDeposit.csv\")"
   ]
  },
  {
   "cell_type": "code",
   "execution_count": 5,
   "metadata": {},
   "outputs": [
    {
     "data": {
      "text/html": [
       "<div>\n",
       "<style scoped>\n",
       "    .dataframe tbody tr th:only-of-type {\n",
       "        vertical-align: middle;\n",
       "    }\n",
       "\n",
       "    .dataframe tbody tr th {\n",
       "        vertical-align: top;\n",
       "    }\n",
       "\n",
       "    .dataframe thead th {\n",
       "        text-align: right;\n",
       "    }\n",
       "</style>\n",
       "<table border=\"1\" class=\"dataframe\">\n",
       "  <thead>\n",
       "    <tr style=\"text-align: right;\">\n",
       "      <th></th>\n",
       "      <th>ID</th>\n",
       "      <th>age</th>\n",
       "      <th>job</th>\n",
       "      <th>marital</th>\n",
       "      <th>education</th>\n",
       "      <th>default</th>\n",
       "      <th>balance</th>\n",
       "      <th>housing</th>\n",
       "      <th>loan</th>\n",
       "      <th>contact</th>\n",
       "      <th>day</th>\n",
       "      <th>month</th>\n",
       "      <th>duration</th>\n",
       "      <th>campaign</th>\n",
       "      <th>pdays</th>\n",
       "      <th>previous</th>\n",
       "      <th>poutcome</th>\n",
       "      <th>subscribed</th>\n",
       "    </tr>\n",
       "  </thead>\n",
       "  <tbody>\n",
       "    <tr>\n",
       "      <th>0</th>\n",
       "      <td>26110</td>\n",
       "      <td>56</td>\n",
       "      <td>admin.</td>\n",
       "      <td>married</td>\n",
       "      <td>unknown</td>\n",
       "      <td>no</td>\n",
       "      <td>1933</td>\n",
       "      <td>no</td>\n",
       "      <td>no</td>\n",
       "      <td>telephone</td>\n",
       "      <td>19</td>\n",
       "      <td>nov</td>\n",
       "      <td>44</td>\n",
       "      <td>2</td>\n",
       "      <td>-1</td>\n",
       "      <td>0</td>\n",
       "      <td>unknown</td>\n",
       "      <td>no</td>\n",
       "    </tr>\n",
       "    <tr>\n",
       "      <th>1</th>\n",
       "      <td>40576</td>\n",
       "      <td>31</td>\n",
       "      <td>unknown</td>\n",
       "      <td>married</td>\n",
       "      <td>secondary</td>\n",
       "      <td>no</td>\n",
       "      <td>3</td>\n",
       "      <td>no</td>\n",
       "      <td>no</td>\n",
       "      <td>cellular</td>\n",
       "      <td>20</td>\n",
       "      <td>jul</td>\n",
       "      <td>91</td>\n",
       "      <td>2</td>\n",
       "      <td>-1</td>\n",
       "      <td>0</td>\n",
       "      <td>unknown</td>\n",
       "      <td>no</td>\n",
       "    </tr>\n",
       "    <tr>\n",
       "      <th>2</th>\n",
       "      <td>15320</td>\n",
       "      <td>27</td>\n",
       "      <td>services</td>\n",
       "      <td>married</td>\n",
       "      <td>secondary</td>\n",
       "      <td>no</td>\n",
       "      <td>891</td>\n",
       "      <td>yes</td>\n",
       "      <td>no</td>\n",
       "      <td>cellular</td>\n",
       "      <td>18</td>\n",
       "      <td>jul</td>\n",
       "      <td>240</td>\n",
       "      <td>1</td>\n",
       "      <td>-1</td>\n",
       "      <td>0</td>\n",
       "      <td>unknown</td>\n",
       "      <td>no</td>\n",
       "    </tr>\n",
       "    <tr>\n",
       "      <th>3</th>\n",
       "      <td>43962</td>\n",
       "      <td>57</td>\n",
       "      <td>management</td>\n",
       "      <td>divorced</td>\n",
       "      <td>tertiary</td>\n",
       "      <td>no</td>\n",
       "      <td>3287</td>\n",
       "      <td>no</td>\n",
       "      <td>no</td>\n",
       "      <td>cellular</td>\n",
       "      <td>22</td>\n",
       "      <td>jun</td>\n",
       "      <td>867</td>\n",
       "      <td>1</td>\n",
       "      <td>84</td>\n",
       "      <td>3</td>\n",
       "      <td>success</td>\n",
       "      <td>yes</td>\n",
       "    </tr>\n",
       "    <tr>\n",
       "      <th>4</th>\n",
       "      <td>29842</td>\n",
       "      <td>31</td>\n",
       "      <td>technician</td>\n",
       "      <td>married</td>\n",
       "      <td>secondary</td>\n",
       "      <td>no</td>\n",
       "      <td>119</td>\n",
       "      <td>yes</td>\n",
       "      <td>no</td>\n",
       "      <td>cellular</td>\n",
       "      <td>4</td>\n",
       "      <td>feb</td>\n",
       "      <td>380</td>\n",
       "      <td>1</td>\n",
       "      <td>-1</td>\n",
       "      <td>0</td>\n",
       "      <td>unknown</td>\n",
       "      <td>no</td>\n",
       "    </tr>\n",
       "  </tbody>\n",
       "</table>\n",
       "</div>"
      ],
      "text/plain": [
       "      ID  age         job   marital  education default  balance housing loan  \\\n",
       "0  26110   56      admin.   married    unknown      no     1933      no   no   \n",
       "1  40576   31     unknown   married  secondary      no        3      no   no   \n",
       "2  15320   27    services   married  secondary      no      891     yes   no   \n",
       "3  43962   57  management  divorced   tertiary      no     3287      no   no   \n",
       "4  29842   31  technician   married  secondary      no      119     yes   no   \n",
       "\n",
       "     contact  day month  duration  campaign  pdays  previous poutcome  \\\n",
       "0  telephone   19   nov        44         2     -1         0  unknown   \n",
       "1   cellular   20   jul        91         2     -1         0  unknown   \n",
       "2   cellular   18   jul       240         1     -1         0  unknown   \n",
       "3   cellular   22   jun       867         1     84         3  success   \n",
       "4   cellular    4   feb       380         1     -1         0  unknown   \n",
       "\n",
       "  subscribed  \n",
       "0         no  \n",
       "1         no  \n",
       "2         no  \n",
       "3        yes  \n",
       "4         no  "
      ]
     },
     "execution_count": 5,
     "metadata": {},
     "output_type": "execute_result"
    }
   ],
   "source": [
    "deposit_df.head()"
   ]
  },
  {
   "cell_type": "code",
   "execution_count": 6,
   "metadata": {},
   "outputs": [
    {
     "data": {
      "text/html": [
       "<div>\n",
       "<style scoped>\n",
       "    .dataframe tbody tr th:only-of-type {\n",
       "        vertical-align: middle;\n",
       "    }\n",
       "\n",
       "    .dataframe tbody tr th {\n",
       "        vertical-align: top;\n",
       "    }\n",
       "\n",
       "    .dataframe thead th {\n",
       "        text-align: right;\n",
       "    }\n",
       "</style>\n",
       "<table border=\"1\" class=\"dataframe\">\n",
       "  <thead>\n",
       "    <tr style=\"text-align: right;\">\n",
       "      <th></th>\n",
       "      <th>ID</th>\n",
       "      <th>age</th>\n",
       "      <th>job</th>\n",
       "      <th>marital</th>\n",
       "      <th>education</th>\n",
       "      <th>default</th>\n",
       "      <th>balance</th>\n",
       "      <th>housing</th>\n",
       "      <th>loan</th>\n",
       "      <th>contact</th>\n",
       "      <th>day</th>\n",
       "      <th>month</th>\n",
       "      <th>duration</th>\n",
       "      <th>campaign</th>\n",
       "      <th>pdays</th>\n",
       "      <th>previous</th>\n",
       "      <th>poutcome</th>\n",
       "      <th>subscribed</th>\n",
       "    </tr>\n",
       "  </thead>\n",
       "  <tbody>\n",
       "    <tr>\n",
       "      <th>31642</th>\n",
       "      <td>36483</td>\n",
       "      <td>29</td>\n",
       "      <td>management</td>\n",
       "      <td>single</td>\n",
       "      <td>tertiary</td>\n",
       "      <td>no</td>\n",
       "      <td>0</td>\n",
       "      <td>yes</td>\n",
       "      <td>no</td>\n",
       "      <td>cellular</td>\n",
       "      <td>12</td>\n",
       "      <td>may</td>\n",
       "      <td>116</td>\n",
       "      <td>2</td>\n",
       "      <td>-1</td>\n",
       "      <td>0</td>\n",
       "      <td>unknown</td>\n",
       "      <td>no</td>\n",
       "    </tr>\n",
       "    <tr>\n",
       "      <th>31643</th>\n",
       "      <td>40178</td>\n",
       "      <td>53</td>\n",
       "      <td>management</td>\n",
       "      <td>divorced</td>\n",
       "      <td>tertiary</td>\n",
       "      <td>no</td>\n",
       "      <td>380</td>\n",
       "      <td>no</td>\n",
       "      <td>yes</td>\n",
       "      <td>cellular</td>\n",
       "      <td>5</td>\n",
       "      <td>jun</td>\n",
       "      <td>438</td>\n",
       "      <td>2</td>\n",
       "      <td>-1</td>\n",
       "      <td>0</td>\n",
       "      <td>unknown</td>\n",
       "      <td>yes</td>\n",
       "    </tr>\n",
       "    <tr>\n",
       "      <th>31644</th>\n",
       "      <td>19710</td>\n",
       "      <td>32</td>\n",
       "      <td>management</td>\n",
       "      <td>single</td>\n",
       "      <td>tertiary</td>\n",
       "      <td>no</td>\n",
       "      <td>312</td>\n",
       "      <td>no</td>\n",
       "      <td>no</td>\n",
       "      <td>cellular</td>\n",
       "      <td>7</td>\n",
       "      <td>aug</td>\n",
       "      <td>37</td>\n",
       "      <td>3</td>\n",
       "      <td>-1</td>\n",
       "      <td>0</td>\n",
       "      <td>unknown</td>\n",
       "      <td>no</td>\n",
       "    </tr>\n",
       "    <tr>\n",
       "      <th>31645</th>\n",
       "      <td>38556</td>\n",
       "      <td>57</td>\n",
       "      <td>technician</td>\n",
       "      <td>married</td>\n",
       "      <td>secondary</td>\n",
       "      <td>no</td>\n",
       "      <td>225</td>\n",
       "      <td>yes</td>\n",
       "      <td>no</td>\n",
       "      <td>telephone</td>\n",
       "      <td>15</td>\n",
       "      <td>may</td>\n",
       "      <td>22</td>\n",
       "      <td>7</td>\n",
       "      <td>337</td>\n",
       "      <td>12</td>\n",
       "      <td>failure</td>\n",
       "      <td>no</td>\n",
       "    </tr>\n",
       "    <tr>\n",
       "      <th>31646</th>\n",
       "      <td>14156</td>\n",
       "      <td>55</td>\n",
       "      <td>management</td>\n",
       "      <td>divorced</td>\n",
       "      <td>secondary</td>\n",
       "      <td>no</td>\n",
       "      <td>204</td>\n",
       "      <td>yes</td>\n",
       "      <td>no</td>\n",
       "      <td>cellular</td>\n",
       "      <td>11</td>\n",
       "      <td>jul</td>\n",
       "      <td>1973</td>\n",
       "      <td>2</td>\n",
       "      <td>-1</td>\n",
       "      <td>0</td>\n",
       "      <td>unknown</td>\n",
       "      <td>yes</td>\n",
       "    </tr>\n",
       "  </tbody>\n",
       "</table>\n",
       "</div>"
      ],
      "text/plain": [
       "          ID  age         job   marital  education default  balance housing  \\\n",
       "31642  36483   29  management    single   tertiary      no        0     yes   \n",
       "31643  40178   53  management  divorced   tertiary      no      380      no   \n",
       "31644  19710   32  management    single   tertiary      no      312      no   \n",
       "31645  38556   57  technician   married  secondary      no      225     yes   \n",
       "31646  14156   55  management  divorced  secondary      no      204     yes   \n",
       "\n",
       "      loan    contact  day month  duration  campaign  pdays  previous  \\\n",
       "31642   no   cellular   12   may       116         2     -1         0   \n",
       "31643  yes   cellular    5   jun       438         2     -1         0   \n",
       "31644   no   cellular    7   aug        37         3     -1         0   \n",
       "31645   no  telephone   15   may        22         7    337        12   \n",
       "31646   no   cellular   11   jul      1973         2     -1         0   \n",
       "\n",
       "      poutcome subscribed  \n",
       "31642  unknown         no  \n",
       "31643  unknown        yes  \n",
       "31644  unknown         no  \n",
       "31645  failure         no  \n",
       "31646  unknown        yes  "
      ]
     },
     "execution_count": 6,
     "metadata": {},
     "output_type": "execute_result"
    }
   ],
   "source": [
    "deposit_df.tail()"
   ]
  },
  {
   "cell_type": "code",
   "execution_count": 7,
   "metadata": {},
   "outputs": [
    {
     "data": {
      "text/plain": [
       "(31647, 18)"
      ]
     },
     "execution_count": 7,
     "metadata": {},
     "output_type": "execute_result"
    }
   ],
   "source": [
    "deposit_df.shape"
   ]
  },
  {
   "cell_type": "code",
   "execution_count": 8,
   "metadata": {},
   "outputs": [
    {
     "name": "stdout",
     "output_type": "stream",
     "text": [
      "<class 'pandas.core.frame.DataFrame'>\n",
      "RangeIndex: 31647 entries, 0 to 31646\n",
      "Data columns (total 18 columns):\n",
      " #   Column      Non-Null Count  Dtype \n",
      "---  ------      --------------  ----- \n",
      " 0   ID          31647 non-null  int64 \n",
      " 1   age         31647 non-null  int64 \n",
      " 2   job         31647 non-null  object\n",
      " 3   marital     31647 non-null  object\n",
      " 4   education   31647 non-null  object\n",
      " 5   default     31647 non-null  object\n",
      " 6   balance     31647 non-null  int64 \n",
      " 7   housing     31647 non-null  object\n",
      " 8   loan        31647 non-null  object\n",
      " 9   contact     31647 non-null  object\n",
      " 10  day         31647 non-null  int64 \n",
      " 11  month       31647 non-null  object\n",
      " 12  duration    31647 non-null  int64 \n",
      " 13  campaign    31647 non-null  int64 \n",
      " 14  pdays       31647 non-null  int64 \n",
      " 15  previous    31647 non-null  int64 \n",
      " 16  poutcome    31647 non-null  object\n",
      " 17  subscribed  31647 non-null  object\n",
      "dtypes: int64(8), object(10)\n",
      "memory usage: 4.3+ MB\n"
     ]
    }
   ],
   "source": [
    "deposit_df.info()"
   ]
  },
  {
   "cell_type": "code",
   "execution_count": 9,
   "metadata": {},
   "outputs": [
    {
     "data": {
      "text/html": [
       "<div>\n",
       "<style scoped>\n",
       "    .dataframe tbody tr th:only-of-type {\n",
       "        vertical-align: middle;\n",
       "    }\n",
       "\n",
       "    .dataframe tbody tr th {\n",
       "        vertical-align: top;\n",
       "    }\n",
       "\n",
       "    .dataframe thead th {\n",
       "        text-align: right;\n",
       "    }\n",
       "</style>\n",
       "<table border=\"1\" class=\"dataframe\">\n",
       "  <thead>\n",
       "    <tr style=\"text-align: right;\">\n",
       "      <th></th>\n",
       "      <th>ID</th>\n",
       "      <th>age</th>\n",
       "      <th>balance</th>\n",
       "      <th>day</th>\n",
       "      <th>duration</th>\n",
       "      <th>campaign</th>\n",
       "      <th>pdays</th>\n",
       "      <th>previous</th>\n",
       "    </tr>\n",
       "  </thead>\n",
       "  <tbody>\n",
       "    <tr>\n",
       "      <th>count</th>\n",
       "      <td>31647.000000</td>\n",
       "      <td>31647.000000</td>\n",
       "      <td>31647.000000</td>\n",
       "      <td>31647.000000</td>\n",
       "      <td>31647.000000</td>\n",
       "      <td>31647.000000</td>\n",
       "      <td>31647.000000</td>\n",
       "      <td>31647.000000</td>\n",
       "    </tr>\n",
       "    <tr>\n",
       "      <th>mean</th>\n",
       "      <td>22563.972162</td>\n",
       "      <td>40.957247</td>\n",
       "      <td>1363.890258</td>\n",
       "      <td>15.835466</td>\n",
       "      <td>258.113534</td>\n",
       "      <td>2.765697</td>\n",
       "      <td>39.576042</td>\n",
       "      <td>0.574272</td>\n",
       "    </tr>\n",
       "    <tr>\n",
       "      <th>std</th>\n",
       "      <td>13075.936990</td>\n",
       "      <td>10.625134</td>\n",
       "      <td>3028.304293</td>\n",
       "      <td>8.337097</td>\n",
       "      <td>257.118973</td>\n",
       "      <td>3.113830</td>\n",
       "      <td>99.317592</td>\n",
       "      <td>2.422529</td>\n",
       "    </tr>\n",
       "    <tr>\n",
       "      <th>min</th>\n",
       "      <td>2.000000</td>\n",
       "      <td>18.000000</td>\n",
       "      <td>-8019.000000</td>\n",
       "      <td>1.000000</td>\n",
       "      <td>0.000000</td>\n",
       "      <td>1.000000</td>\n",
       "      <td>-1.000000</td>\n",
       "      <td>0.000000</td>\n",
       "    </tr>\n",
       "    <tr>\n",
       "      <th>25%</th>\n",
       "      <td>11218.000000</td>\n",
       "      <td>33.000000</td>\n",
       "      <td>73.000000</td>\n",
       "      <td>8.000000</td>\n",
       "      <td>104.000000</td>\n",
       "      <td>1.000000</td>\n",
       "      <td>-1.000000</td>\n",
       "      <td>0.000000</td>\n",
       "    </tr>\n",
       "    <tr>\n",
       "      <th>50%</th>\n",
       "      <td>22519.000000</td>\n",
       "      <td>39.000000</td>\n",
       "      <td>450.000000</td>\n",
       "      <td>16.000000</td>\n",
       "      <td>180.000000</td>\n",
       "      <td>2.000000</td>\n",
       "      <td>-1.000000</td>\n",
       "      <td>0.000000</td>\n",
       "    </tr>\n",
       "    <tr>\n",
       "      <th>75%</th>\n",
       "      <td>33879.500000</td>\n",
       "      <td>48.000000</td>\n",
       "      <td>1431.000000</td>\n",
       "      <td>21.000000</td>\n",
       "      <td>318.500000</td>\n",
       "      <td>3.000000</td>\n",
       "      <td>-1.000000</td>\n",
       "      <td>0.000000</td>\n",
       "    </tr>\n",
       "    <tr>\n",
       "      <th>max</th>\n",
       "      <td>45211.000000</td>\n",
       "      <td>95.000000</td>\n",
       "      <td>102127.000000</td>\n",
       "      <td>31.000000</td>\n",
       "      <td>4918.000000</td>\n",
       "      <td>63.000000</td>\n",
       "      <td>871.000000</td>\n",
       "      <td>275.000000</td>\n",
       "    </tr>\n",
       "  </tbody>\n",
       "</table>\n",
       "</div>"
      ],
      "text/plain": [
       "                 ID           age        balance           day      duration  \\\n",
       "count  31647.000000  31647.000000   31647.000000  31647.000000  31647.000000   \n",
       "mean   22563.972162     40.957247    1363.890258     15.835466    258.113534   \n",
       "std    13075.936990     10.625134    3028.304293      8.337097    257.118973   \n",
       "min        2.000000     18.000000   -8019.000000      1.000000      0.000000   \n",
       "25%    11218.000000     33.000000      73.000000      8.000000    104.000000   \n",
       "50%    22519.000000     39.000000     450.000000     16.000000    180.000000   \n",
       "75%    33879.500000     48.000000    1431.000000     21.000000    318.500000   \n",
       "max    45211.000000     95.000000  102127.000000     31.000000   4918.000000   \n",
       "\n",
       "           campaign         pdays      previous  \n",
       "count  31647.000000  31647.000000  31647.000000  \n",
       "mean       2.765697     39.576042      0.574272  \n",
       "std        3.113830     99.317592      2.422529  \n",
       "min        1.000000     -1.000000      0.000000  \n",
       "25%        1.000000     -1.000000      0.000000  \n",
       "50%        2.000000     -1.000000      0.000000  \n",
       "75%        3.000000     -1.000000      0.000000  \n",
       "max       63.000000    871.000000    275.000000  "
      ]
     },
     "execution_count": 9,
     "metadata": {},
     "output_type": "execute_result"
    }
   ],
   "source": [
    "deposit_df.describe()"
   ]
  },
  {
   "cell_type": "code",
   "execution_count": 10,
   "metadata": {},
   "outputs": [
    {
     "data": {
      "text/plain": [
       "ID            False\n",
       "age           False\n",
       "job           False\n",
       "marital       False\n",
       "education     False\n",
       "default       False\n",
       "balance       False\n",
       "housing       False\n",
       "loan          False\n",
       "contact       False\n",
       "day           False\n",
       "month         False\n",
       "duration      False\n",
       "campaign      False\n",
       "pdays         False\n",
       "previous      False\n",
       "poutcome      False\n",
       "subscribed    False\n",
       "dtype: bool"
      ]
     },
     "execution_count": 10,
     "metadata": {},
     "output_type": "execute_result"
    }
   ],
   "source": [
    "deposit_df.isnull().any()"
   ]
  },
  {
   "cell_type": "markdown",
   "metadata": {},
   "source": [
    "# 3. Data Visualization"
   ]
  },
  {
   "cell_type": "code",
   "execution_count": 27,
   "metadata": {},
   "outputs": [
    {
     "data": {
      "text/plain": [
       "Text(0, 0.5, 'AGE COUNT')"
      ]
     },
     "execution_count": 27,
     "metadata": {},
     "output_type": "execute_result"
    },
    {
     "data": {
      "image/png": "[encoded data removed]",
      "text/plain": [
       "<Figure size 504x360 with 1 Axes>"
      ]
     },
     "metadata": {
      "needs_background": "light"
     },
     "output_type": "display_data"
    }
   ],
   "source": [
    "plt.figure(figsize=(7,5))\n",
    "age_hist = plt.hist(deposit_df['age'], bins=10, color='pink')\n",
    "plt.title('Age distribution histogram')\n",
    "plt.xlabel('AGE GROUP')\n",
    "plt.ylabel('AGE COUNT')"
   ]
  },
  {
   "cell_type": "code",
   "execution_count": 28,
   "metadata": {},
   "outputs": [
    {
     "data": {
      "text/plain": [
       "Text(0, 0.5, 'AGE COUNT')"
      ]
     },
     "execution_count": 28,
     "metadata": {},
     "output_type": "execute_result"
    },
    {
     "data": {
      "image/png": "[encoded data removed]",
      "text/plain": [
       "<Figure size 504x360 with 1 Axes>"
      ]
     },
     "metadata": {
      "needs_background": "light"
     },
     "output_type": "display_data"
    }
   ],
   "source": [
    "plt.figure(figsize=(7,5))\n",
    "sns.boxplot(x='age', data=deposit_df)\n",
    "plt.title('Age Boxplot')\n",
    "plt.xlabel('AGE')\n",
    "plt.ylabel('AGE COUNT')"
   ]
  },
  {
   "cell_type": "code",
   "execution_count": 29,
   "metadata": {},
   "outputs": [
    {
     "data": {
      "text/plain": [
       "Text(0, 0.5, 'JOB COUNT')"
      ]
     },
     "execution_count": 29,
     "metadata": {},
     "output_type": "execute_result"
    },
    {
     "data": {
      "image/png": "[encoded data removed]",
      "text/plain": [
       "<Figure size 1440x720 with 1 Axes>"
      ]
     },
     "metadata": {
      "needs_background": "light"
     },
     "output_type": "display_data"
    }
   ],
   "source": [
    "plt.figure(figsize=(20,10))\n",
    "sns.countplot(x='job', data=deposit_df)\n",
    "plt.title('Countplot of jobs')\n",
    "plt.xlabel('JOBS')\n",
    "plt.ylabel('JOB COUNT')"
   ]
  },
  {
   "cell_type": "code",
   "execution_count": 31,
   "metadata": {},
   "outputs": [
    {
     "data": {
      "text/plain": [
       "Text(0, 0.5, 'COUNT')"
      ]
     },
     "execution_count": 31,
     "metadata": {},
     "output_type": "execute_result"
    },
    {
     "data": {
      "image/png": "[encoded data removed]",
      "text/plain": [
       "<Figure size 504x360 with 1 Axes>"
      ]
     },
     "metadata": {
      "needs_background": "light"
     },
     "output_type": "display_data"
    }
   ],
   "source": [
    "plt.figure(figsize=(7,5))\n",
    "sns.countplot(x='marital', data=deposit_df)\n",
    "plt.title('Countplot of marital status')\n",
    "plt.xlabel('MARITAL STATUS')\n",
    "plt.ylabel('COUNT')"
   ]
  },
  {
   "cell_type": "code",
   "execution_count": 32,
   "metadata": {},
   "outputs": [
    {
     "data": {
      "text/plain": [
       "Text(0, 0.5, 'COUNT')"
      ]
     },
     "execution_count": 32,
     "metadata": {},
     "output_type": "execute_result"
    },
    {
     "data": {
      "image/png": "[encoded data removed]",
      "text/plain": [
       "<Figure size 504x360 with 1 Axes>"
      ]
     },
     "metadata": {
      "needs_background": "light"
     },
     "output_type": "display_data"
    }
   ],
   "source": [
    "plt.figure(figsize=(7,5))\n",
    "sns.countplot(x='education', data=deposit_df)\n",
    "plt.title('Countplot of education status')\n",
    "plt.xlabel('EDUCATION STATUS')\n",
    "plt.ylabel('COUNT')"
   ]
  },
  {
   "cell_type": "code",
   "execution_count": 33,
   "metadata": {},
   "outputs": [
    {
     "data": {
      "text/plain": [
       "Text(0, 0.5, 'COUNT')"
      ]
     },
     "execution_count": 33,
     "metadata": {},
     "output_type": "execute_result"
    },
    {
     "data": {
      "image/png": "[encoded data removed]",
      "text/plain": [
       "<Figure size 504x360 with 1 Axes>"
      ]
     },
     "metadata": {
      "needs_background": "light"
     },
     "output_type": "display_data"
    }
   ],
   "source": [
    "plt.figure(figsize=(7,5))\n",
    "sns.countplot(x='default', data=deposit_df)\n",
    "plt.title('Countplot of loan defaulters')\n",
    "plt.xlabel('DEFAULT STATUS')\n",
    "plt.ylabel('COUNT')"
   ]
  },
  {
   "cell_type": "code",
   "execution_count": 34,
   "metadata": {},
   "outputs": [
    {
     "data": {
      "text/plain": [
       "Text(0, 0.5, 'COUNT')"
      ]
     },
     "execution_count": 34,
     "metadata": {},
     "output_type": "execute_result"
    },
    {
     "data": {
      "image/png": "[encoded data removed]",
      "text/plain": [
       "<Figure size 504x360 with 1 Axes>"
      ]
     },
     "metadata": {
      "needs_background": "light"
     },
     "output_type": "display_data"
    }
   ],
   "source": [
    "plt.figure(figsize=(7,5))\n",
    "age_hist = plt.hist(deposit_df['balance'], bins=10, color='pink')\n",
    "plt.title('Bank balance distribution histogram')\n",
    "plt.xlabel('BANK BALANACE')\n",
    "plt.ylabel('COUNT')"
   ]
  },
  {
   "cell_type": "code",
   "execution_count": 35,
   "metadata": {},
   "outputs": [
    {
     "data": {
      "text/plain": [
       "Text(0, 0.5, 'COUNT')"
      ]
     },
     "execution_count": 35,
     "metadata": {},
     "output_type": "execute_result"
    },
    {
     "data": {
      "image/png": "[encoded data removed]",
      "text/plain": [
       "<Figure size 504x360 with 1 Axes>"
      ]
     },
     "metadata": {
      "needs_background": "light"
     },
     "output_type": "display_data"
    }
   ],
   "source": [
    "plt.figure(figsize=(7,5))\n",
    "sns.countplot(x='housing', data=deposit_df)\n",
    "plt.title('Has a housing loan?')\n",
    "plt.xlabel('HOUSING LOAN STATUS STATUS')\n",
    "plt.ylabel('COUNT')"
   ]
  },
  {
   "cell_type": "code",
   "execution_count": 36,
   "metadata": {},
   "outputs": [
    {
     "data": {
      "text/plain": [
       "Text(0, 0.5, 'COUNT')"
      ]
     },
     "execution_count": 36,
     "metadata": {},
     "output_type": "execute_result"
    },
    {
     "data": {
      "image/png": "[encoded data removed]",
      "text/plain": [
       "<Figure size 504x360 with 1 Axes>"
      ]
     },
     "metadata": {
      "needs_background": "light"
     },
     "output_type": "display_data"
    }
   ],
   "source": [
    "plt.figure(figsize=(7,5))\n",
    "sns.countplot(x='loan', data=deposit_df)\n",
    "plt.title('Has a personal loan?')\n",
    "plt.xlabel('PERSONAL LOAN STATUS STATUS')\n",
    "plt.ylabel('COUNT')"
   ]
  },
  {
   "cell_type": "code",
   "execution_count": 40,
   "metadata": {},
   "outputs": [
    {
     "data": {
      "text/plain": [
       "Text(0, 0.5, 'COUNT')"
      ]
     },
     "execution_count": 40,
     "metadata": {},
     "output_type": "execute_result"
    },
    {
     "data": {
      "image/png": "[encoded data removed]",
      "text/plain": [
       "<Figure size 1080x864 with 1 Axes>"
      ]
     },
     "metadata": {
      "needs_background": "light"
     },
     "output_type": "display_data"
    }
   ],
   "source": [
    "plt.figure(figsize=(15,12))\n",
    "sns.countplot(x='campaign', data=deposit_df)\n",
    "plt.title('Number of contacts performed during this campaign to the client')\n",
    "plt.xlabel('NUMBER OF CONTACTS')\n",
    "plt.ylabel('COUNT')"
   ]
  },
  {
   "cell_type": "code",
   "execution_count": 44,
   "metadata": {},
   "outputs": [
    {
     "data": {
      "text/plain": [
       "Text(0, 0.5, 'COUNT')"
      ]
     },
     "execution_count": 44,
     "metadata": {},
     "output_type": "execute_result"
    },
    {
     "data": {
      "image/png": "[encoded data removed]",
      "text/plain": [
       "<Figure size 1080x864 with 1 Axes>"
      ]
     },
     "metadata": {
      "needs_background": "light"
     },
     "output_type": "display_data"
    }
   ],
   "source": [
    "plt.figure(figsize=(15,12))\n",
    "sns.countplot(x='previous', data=deposit_df)\n",
    "plt.title('Number of contacts performed before this campaign')\n",
    "plt.xlabel('NUMBER OF CONTACTS')\n",
    "plt.ylabel('COUNT')"
   ]
  },
  {
   "cell_type": "code",
   "execution_count": 45,
   "metadata": {},
   "outputs": [
    {
     "data": {
      "text/plain": [
       "Text(0, 0.5, 'COUNT')"
      ]
     },
     "execution_count": 45,
     "metadata": {},
     "output_type": "execute_result"
    },
    {
     "data": {
      "image/png": "[encoded data removed]",
      "text/plain": [
       "<Figure size 504x360 with 1 Axes>"
      ]
     },
     "metadata": {
      "needs_background": "light"
     },
     "output_type": "display_data"
    }
   ],
   "source": [
    "plt.figure(figsize=(7,5))\n",
    "sns.countplot(x='poutcome', data=deposit_df)\n",
    "plt.title('Outcome of the previous marketing campaign')\n",
    "plt.xlabel('OUTCOME OF THE MARKETING CAMPAIGN')\n",
    "plt.ylabel('COUNT')"
   ]
  },
  {
   "cell_type": "code",
   "execution_count": 48,
   "metadata": {},
   "outputs": [
    {
     "data": {
      "text/plain": [
       "Text(0, 0.5, 'COUNT')"
      ]
     },
     "execution_count": 48,
     "metadata": {},
     "output_type": "execute_result"
    },
    {
     "data": {
      "image/png": "[encoded data removed]",
      "text/plain": [
       "<Figure size 504x360 with 1 Axes>"
      ]
     },
     "metadata": {
      "needs_background": "light"
     },
     "output_type": "display_data"
    }
   ],
   "source": [
    "plt.figure(figsize=(7,5))\n",
    "sns.countplot(x='subscribed', data=deposit_df)\n",
    "plt.title('COUNTPLOT OF SUBSCRIPTION')\n",
    "plt.xlabel('SUBSCRIPTION STATUS')\n",
    "plt.ylabel('COUNT')"
   ]
  },
  {
   "cell_type": "markdown",
   "metadata": {},
   "source": [
    "# 4. Data Preprocessing"
   ]
  },
  {
   "cell_type": "code",
   "execution_count": 49,
   "metadata": {},
   "outputs": [
    {
     "data": {
      "text/html": [
       "<div>\n",
       "<style scoped>\n",
       "    .dataframe tbody tr th:only-of-type {\n",
       "        vertical-align: middle;\n",
       "    }\n",
       "\n",
       "    .dataframe tbody tr th {\n",
       "        vertical-align: top;\n",
       "    }\n",
       "\n",
       "    .dataframe thead th {\n",
       "        text-align: right;\n",
       "    }\n",
       "</style>\n",
       "<table border=\"1\" class=\"dataframe\">\n",
       "  <thead>\n",
       "    <tr style=\"text-align: right;\">\n",
       "      <th></th>\n",
       "      <th>ID</th>\n",
       "      <th>age</th>\n",
       "      <th>job</th>\n",
       "      <th>marital</th>\n",
       "      <th>education</th>\n",
       "      <th>default</th>\n",
       "      <th>balance</th>\n",
       "      <th>housing</th>\n",
       "      <th>loan</th>\n",
       "      <th>contact</th>\n",
       "      <th>day</th>\n",
       "      <th>month</th>\n",
       "      <th>duration</th>\n",
       "      <th>campaign</th>\n",
       "      <th>pdays</th>\n",
       "      <th>previous</th>\n",
       "      <th>poutcome</th>\n",
       "      <th>subscribed</th>\n",
       "    </tr>\n",
       "  </thead>\n",
       "  <tbody>\n",
       "    <tr>\n",
       "      <th>0</th>\n",
       "      <td>26110</td>\n",
       "      <td>56</td>\n",
       "      <td>admin.</td>\n",
       "      <td>married</td>\n",
       "      <td>unknown</td>\n",
       "      <td>no</td>\n",
       "      <td>1933</td>\n",
       "      <td>no</td>\n",
       "      <td>no</td>\n",
       "      <td>telephone</td>\n",
       "      <td>19</td>\n",
       "      <td>nov</td>\n",
       "      <td>44</td>\n",
       "      <td>2</td>\n",
       "      <td>-1</td>\n",
       "      <td>0</td>\n",
       "      <td>unknown</td>\n",
       "      <td>no</td>\n",
       "    </tr>\n",
       "    <tr>\n",
       "      <th>1</th>\n",
       "      <td>40576</td>\n",
       "      <td>31</td>\n",
       "      <td>unknown</td>\n",
       "      <td>married</td>\n",
       "      <td>secondary</td>\n",
       "      <td>no</td>\n",
       "      <td>3</td>\n",
       "      <td>no</td>\n",
       "      <td>no</td>\n",
       "      <td>cellular</td>\n",
       "      <td>20</td>\n",
       "      <td>jul</td>\n",
       "      <td>91</td>\n",
       "      <td>2</td>\n",
       "      <td>-1</td>\n",
       "      <td>0</td>\n",
       "      <td>unknown</td>\n",
       "      <td>no</td>\n",
       "    </tr>\n",
       "    <tr>\n",
       "      <th>2</th>\n",
       "      <td>15320</td>\n",
       "      <td>27</td>\n",
       "      <td>services</td>\n",
       "      <td>married</td>\n",
       "      <td>secondary</td>\n",
       "      <td>no</td>\n",
       "      <td>891</td>\n",
       "      <td>yes</td>\n",
       "      <td>no</td>\n",
       "      <td>cellular</td>\n",
       "      <td>18</td>\n",
       "      <td>jul</td>\n",
       "      <td>240</td>\n",
       "      <td>1</td>\n",
       "      <td>-1</td>\n",
       "      <td>0</td>\n",
       "      <td>unknown</td>\n",
       "      <td>no</td>\n",
       "    </tr>\n",
       "    <tr>\n",
       "      <th>3</th>\n",
       "      <td>43962</td>\n",
       "      <td>57</td>\n",
       "      <td>management</td>\n",
       "      <td>divorced</td>\n",
       "      <td>tertiary</td>\n",
       "      <td>no</td>\n",
       "      <td>3287</td>\n",
       "      <td>no</td>\n",
       "      <td>no</td>\n",
       "      <td>cellular</td>\n",
       "      <td>22</td>\n",
       "      <td>jun</td>\n",
       "      <td>867</td>\n",
       "      <td>1</td>\n",
       "      <td>84</td>\n",
       "      <td>3</td>\n",
       "      <td>success</td>\n",
       "      <td>yes</td>\n",
       "    </tr>\n",
       "    <tr>\n",
       "      <th>4</th>\n",
       "      <td>29842</td>\n",
       "      <td>31</td>\n",
       "      <td>technician</td>\n",
       "      <td>married</td>\n",
       "      <td>secondary</td>\n",
       "      <td>no</td>\n",
       "      <td>119</td>\n",
       "      <td>yes</td>\n",
       "      <td>no</td>\n",
       "      <td>cellular</td>\n",
       "      <td>4</td>\n",
       "      <td>feb</td>\n",
       "      <td>380</td>\n",
       "      <td>1</td>\n",
       "      <td>-1</td>\n",
       "      <td>0</td>\n",
       "      <td>unknown</td>\n",
       "      <td>no</td>\n",
       "    </tr>\n",
       "  </tbody>\n",
       "</table>\n",
       "</div>"
      ],
      "text/plain": [
       "      ID  age         job   marital  education default  balance housing loan  \\\n",
       "0  26110   56      admin.   married    unknown      no     1933      no   no   \n",
       "1  40576   31     unknown   married  secondary      no        3      no   no   \n",
       "2  15320   27    services   married  secondary      no      891     yes   no   \n",
       "3  43962   57  management  divorced   tertiary      no     3287      no   no   \n",
       "4  29842   31  technician   married  secondary      no      119     yes   no   \n",
       "\n",
       "     contact  day month  duration  campaign  pdays  previous poutcome  \\\n",
       "0  telephone   19   nov        44         2     -1         0  unknown   \n",
       "1   cellular   20   jul        91         2     -1         0  unknown   \n",
       "2   cellular   18   jul       240         1     -1         0  unknown   \n",
       "3   cellular   22   jun       867         1     84         3  success   \n",
       "4   cellular    4   feb       380         1     -1         0  unknown   \n",
       "\n",
       "  subscribed  \n",
       "0         no  \n",
       "1         no  \n",
       "2         no  \n",
       "3        yes  \n",
       "4         no  "
      ]
     },
     "execution_count": 49,
     "metadata": {},
     "output_type": "execute_result"
    }
   ],
   "source": [
    "deposit_df.head()"
   ]
  },
  {
   "cell_type": "code",
   "execution_count": 50,
   "metadata": {},
   "outputs": [],
   "source": [
    "#dropping ID column as it's not useful for the model\n",
    "deposit_df.drop('ID', axis=1, inplace=True)"
   ]
  },
  {
   "cell_type": "code",
   "execution_count": 51,
   "metadata": {},
   "outputs": [
    {
     "name": "stdout",
     "output_type": "stream",
     "text": [
      "<class 'pandas.core.frame.DataFrame'>\n",
      "RangeIndex: 31647 entries, 0 to 31646\n",
      "Data columns (total 17 columns):\n",
      " #   Column      Non-Null Count  Dtype \n",
      "---  ------      --------------  ----- \n",
      " 0   age         31647 non-null  int64 \n",
      " 1   job         31647 non-null  object\n",
      " 2   marital     31647 non-null  object\n",
      " 3   education   31647 non-null  object\n",
      " 4   default     31647 non-null  object\n",
      " 5   balance     31647 non-null  int64 \n",
      " 6   housing     31647 non-null  object\n",
      " 7   loan        31647 non-null  object\n",
      " 8   contact     31647 non-null  object\n",
      " 9   day         31647 non-null  int64 \n",
      " 10  month       31647 non-null  object\n",
      " 11  duration    31647 non-null  int64 \n",
      " 12  campaign    31647 non-null  int64 \n",
      " 13  pdays       31647 non-null  int64 \n",
      " 14  previous    31647 non-null  int64 \n",
      " 15  poutcome    31647 non-null  object\n",
      " 16  subscribed  31647 non-null  object\n",
      "dtypes: int64(7), object(10)\n",
      "memory usage: 4.1+ MB\n"
     ]
    }
   ],
   "source": [
    "deposit_df.info()"
   ]
  },
  {
   "cell_type": "code",
   "execution_count": 52,
   "metadata": {},
   "outputs": [],
   "source": [
    "#Converting categorical values to numerical values\n",
    "\n",
    "from sklearn.preprocessing import LabelEncoder\n",
    "le = LabelEncoder()"
   ]
  },
  {
   "cell_type": "code",
   "execution_count": 53,
   "metadata": {},
   "outputs": [
    {
     "data": {
      "text/plain": [
       "Index(['age', 'job', 'marital', 'education', 'default', 'balance', 'housing',\n",
       "       'loan', 'contact', 'day', 'month', 'duration', 'campaign', 'pdays',\n",
       "       'previous', 'poutcome', 'subscribed'],\n",
       "      dtype='object')"
      ]
     },
     "execution_count": 53,
     "metadata": {},
     "output_type": "execute_result"
    }
   ],
   "source": [
    "deposit_df.columns"
   ]
  },
  {
   "cell_type": "code",
   "execution_count": 54,
   "metadata": {},
   "outputs": [],
   "source": [
    "categorical_variables = ['job', 'marital', 'education', 'default', 'housing',\n",
    "       'loan', 'poutcome', 'subscribed']\n",
    "\n",
    "for variables in categorical_variables:\n",
    "    deposit_df[variables] = le.fit_transform(deposit_df[variables])"
   ]
  },
  {
   "cell_type": "code",
   "execution_count": 55,
   "metadata": {},
   "outputs": [
    {
     "name": "stdout",
     "output_type": "stream",
     "text": [
      "<class 'pandas.core.frame.DataFrame'>\n",
      "RangeIndex: 31647 entries, 0 to 31646\n",
      "Data columns (total 17 columns):\n",
      " #   Column      Non-Null Count  Dtype \n",
      "---  ------      --------------  ----- \n",
      " 0   age         31647 non-null  int64 \n",
      " 1   job         31647 non-null  int32 \n",
      " 2   marital     31647 non-null  int32 \n",
      " 3   education   31647 non-null  int32 \n",
      " 4   default     31647 non-null  int32 \n",
      " 5   balance     31647 non-null  int64 \n",
      " 6   housing     31647 non-null  int32 \n",
      " 7   loan        31647 non-null  int32 \n",
      " 8   contact     31647 non-null  object\n",
      " 9   day         31647 non-null  int64 \n",
      " 10  month       31647 non-null  object\n",
      " 11  duration    31647 non-null  int64 \n",
      " 12  campaign    31647 non-null  int64 \n",
      " 13  pdays       31647 non-null  int64 \n",
      " 14  previous    31647 non-null  int64 \n",
      " 15  poutcome    31647 non-null  int32 \n",
      " 16  subscribed  31647 non-null  int32 \n",
      "dtypes: int32(8), int64(7), object(2)\n",
      "memory usage: 3.1+ MB\n"
     ]
    }
   ],
   "source": [
    "deposit_df.info()"
   ]
  },
  {
   "cell_type": "code",
   "execution_count": 56,
   "metadata": {},
   "outputs": [],
   "source": [
    "#dropping 3 vars as they'll not be useful to train the model\n",
    "deposit_df.drop(['contact', 'day', 'month'], axis=1, inplace=True)"
   ]
  },
  {
   "cell_type": "code",
   "execution_count": 57,
   "metadata": {},
   "outputs": [
    {
     "data": {
      "image/png": "[encoded data removed]",
      "text/plain": [
       "<Figure size 1440x576 with 2 Axes>"
      ]
     },
     "metadata": {
      "needs_background": "light"
     },
     "output_type": "display_data"
    }
   ],
   "source": [
    "plt.figure(figsize=(20, 8))\n",
    "heatmap = sns.heatmap(deposit_df.corr(), vmin=-1, vmax=1, annot=True, cmap='BrBG')\n",
    "heatmap.set_title('Correlation Heatmap', fontdict={'fontsize':18}, pad=12);"
   ]
  },
  {
   "cell_type": "markdown",
   "metadata": {},
   "source": [
    "# 5. Creating the train and test data set"
   ]
  },
  {
   "cell_type": "code",
   "execution_count": 58,
   "metadata": {},
   "outputs": [],
   "source": [
    "X = deposit_df.drop('subscribed', axis=1)"
   ]
  },
  {
   "cell_type": "code",
   "execution_count": 59,
   "metadata": {},
   "outputs": [],
   "source": [
    "y = deposit_df['subscribed']"
   ]
  },
  {
   "cell_type": "code",
   "execution_count": 60,
   "metadata": {},
   "outputs": [],
   "source": [
    "from sklearn.model_selection import train_test_split"
   ]
  },
  {
   "cell_type": "code",
   "execution_count": 61,
   "metadata": {},
   "outputs": [],
   "source": [
    "X_train, X_test, y_train, y_test = train_test_split(X, y, test_size=0.3)"
   ]
  },
  {
   "cell_type": "code",
   "execution_count": 62,
   "metadata": {},
   "outputs": [],
   "source": [
    "from sklearn.preprocessing import StandardScaler\n",
    "sc = StandardScaler()"
   ]
  },
  {
   "cell_type": "code",
   "execution_count": 63,
   "metadata": {},
   "outputs": [],
   "source": [
    "X_train = sc.fit_transform(X_train)\n",
    "X_test = sc.fit_transform(X_test)"
   ]
  },
  {
   "cell_type": "markdown",
   "metadata": {},
   "source": [
    "# 6. Building an artificial neural network model"
   ]
  },
  {
   "cell_type": "code",
   "execution_count": 69,
   "metadata": {},
   "outputs": [],
   "source": [
    "#INITIALIZING THE ANN MODEL\n",
    "\n",
    "ann_model = tf.keras.models.Sequential()"
   ]
  },
  {
   "cell_type": "code",
   "execution_count": 70,
   "metadata": {},
   "outputs": [],
   "source": [
    "#ADDING THE INPUT LAYER AND 1st HIDDEN LAYER\n",
    "\n",
    "ann_model.add(tf.keras.layers.Dense(units=6, activation = 'relu'))"
   ]
  },
  {
   "cell_type": "code",
   "execution_count": 71,
   "metadata": {},
   "outputs": [],
   "source": [
    "#ADDING THE 2nd HIDDEN LAYER\n",
    "\n",
    "ann_model.add(tf.keras.layers.Dense(units = 6, activation = 'relu'))"
   ]
  },
  {
   "cell_type": "code",
   "execution_count": 72,
   "metadata": {},
   "outputs": [],
   "source": [
    "#ADDING THE OUTPUT LAYER\n",
    "\n",
    "ann_model.add(tf.keras.layers.Dense(units = 1, activation = 'sigmoid'))"
   ]
  },
  {
   "cell_type": "code",
   "execution_count": 73,
   "metadata": {},
   "outputs": [],
   "source": [
    "#COMPILING THE ANN MODEL\n",
    "\n",
    "ann_model.compile(optimizer = 'adam', loss = 'binary_crossentropy', metrics = ['accuracy'])"
   ]
  },
  {
   "cell_type": "code",
   "execution_count": 74,
   "metadata": {},
   "outputs": [
    {
     "name": "stdout",
     "output_type": "stream",
     "text": [
      "Epoch 1/150\n",
      "693/693 [==============================] - 0s 711us/step - loss: 0.3451 - accuracy: 0.8716\n",
      "Epoch 2/150\n",
      "693/693 [==============================] - 0s 714us/step - loss: 0.2660 - accuracy: 0.8845\n",
      "Epoch 3/150\n",
      "693/693 [==============================] - 0s 680us/step - loss: 0.2569 - accuracy: 0.8846\n",
      "Epoch 4/150\n",
      "693/693 [==============================] - 1s 802us/step - loss: 0.2524 - accuracy: 0.8848\n",
      "Epoch 5/150\n",
      "693/693 [==============================] - 0s 705us/step - loss: 0.2495 - accuracy: 0.8864\n",
      "Epoch 6/150\n",
      "693/693 [==============================] - 1s 725us/step - loss: 0.2473 - accuracy: 0.8968\n",
      "Epoch 7/150\n",
      "693/693 [==============================] - 1s 792us/step - loss: 0.2456 - accuracy: 0.8975\n",
      "Epoch 8/150\n",
      "693/693 [==============================] - 1s 760us/step - loss: 0.2447 - accuracy: 0.8979\n",
      "Epoch 9/150\n",
      "693/693 [==============================] - 1s 933us/step - loss: 0.2436 - accuracy: 0.8978\n",
      "Epoch 10/150\n",
      "693/693 [==============================] - 1s 901us/step - loss: 0.2427 - accuracy: 0.8985\n",
      "Epoch 11/150\n",
      "693/693 [==============================] - 1s 789us/step - loss: 0.2421 - accuracy: 0.8985\n",
      "Epoch 12/150\n",
      "693/693 [==============================] - 1s 846us/step - loss: 0.2414 - accuracy: 0.8985\n",
      "Epoch 13/150\n",
      "693/693 [==============================] - 0s 668us/step - loss: 0.2409 - accuracy: 0.8989\n",
      "Epoch 14/150\n",
      "693/693 [==============================] - 1s 760us/step - loss: 0.2402 - accuracy: 0.8992\n",
      "Epoch 15/150\n",
      "693/693 [==============================] - 1s 787us/step - loss: 0.2400 - accuracy: 0.8995\n",
      "Epoch 16/150\n",
      "693/693 [==============================] - 0s 667us/step - loss: 0.2396 - accuracy: 0.8994\n",
      "Epoch 17/150\n",
      "693/693 [==============================] - 0s 666us/step - loss: 0.2392 - accuracy: 0.9001\n",
      "Epoch 18/150\n",
      "693/693 [==============================] - 0s 674us/step - loss: 0.2390 - accuracy: 0.8997\n",
      "Epoch 19/150\n",
      "693/693 [==============================] - 0s 675us/step - loss: 0.2388 - accuracy: 0.9009\n",
      "Epoch 20/150\n",
      "693/693 [==============================] - 1s 856us/step - loss: 0.2387 - accuracy: 0.8997\n",
      "Epoch 21/150\n",
      "693/693 [==============================] - 1s 839us/step - loss: 0.2385 - accuracy: 0.9002\n",
      "Epoch 22/150\n",
      "693/693 [==============================] - 1s 765us/step - loss: 0.2383 - accuracy: 0.8996\n",
      "Epoch 23/150\n",
      "693/693 [==============================] - 1s 836us/step - loss: 0.2384 - accuracy: 0.9003\n",
      "Epoch 24/150\n",
      "693/693 [==============================] - 0s 672us/step - loss: 0.2383 - accuracy: 0.9006\n",
      "Epoch 25/150\n",
      "693/693 [==============================] - 1s 851us/step - loss: 0.2381 - accuracy: 0.9005\n",
      "Epoch 26/150\n",
      "693/693 [==============================] - 1s 2ms/step - loss: 0.2381 - accuracy: 0.9004\n",
      "Epoch 27/150\n",
      "693/693 [==============================] - 1s 1ms/step - loss: 0.2378 - accuracy: 0.9000\n",
      "Epoch 28/150\n",
      "693/693 [==============================] - 0s 701us/step - loss: 0.2379 - accuracy: 0.8996\n",
      "Epoch 29/150\n",
      "693/693 [==============================] - 1s 766us/step - loss: 0.2377 - accuracy: 0.9005\n",
      "Epoch 30/150\n",
      "693/693 [==============================] - 1s 802us/step - loss: 0.2378 - accuracy: 0.8998\n",
      "Epoch 31/150\n",
      "693/693 [==============================] - 0s 697us/step - loss: 0.2378 - accuracy: 0.9006\n",
      "Epoch 32/150\n",
      "693/693 [==============================] - 1s 752us/step - loss: 0.2377 - accuracy: 0.9001\n",
      "Epoch 33/150\n",
      "693/693 [==============================] - 1s 836us/step - loss: 0.2376 - accuracy: 0.8998\n",
      "Epoch 34/150\n",
      "693/693 [==============================] - 0s 694us/step - loss: 0.2373 - accuracy: 0.9006\n",
      "Epoch 35/150\n",
      "693/693 [==============================] - 1s 793us/step - loss: 0.2375 - accuracy: 0.8996\n",
      "Epoch 36/150\n",
      "693/693 [==============================] - 1s 2ms/step - loss: 0.2372 - accuracy: 0.9007\n",
      "Epoch 37/150\n",
      "693/693 [==============================] - 1s 2ms/step - loss: 0.2372 - accuracy: 0.9002\n",
      "Epoch 38/150\n",
      "693/693 [==============================] - 1s 1ms/step - loss: 0.2372 - accuracy: 0.9000\n",
      "Epoch 39/150\n",
      "693/693 [==============================] - 1s 779us/step - loss: 0.2369 - accuracy: 0.9001\n",
      "Epoch 40/150\n",
      "693/693 [==============================] - 0s 709us/step - loss: 0.2374 - accuracy: 0.9001\n",
      "Epoch 41/150\n",
      "693/693 [==============================] - 1s 783us/step - loss: 0.2366 - accuracy: 0.9007\n",
      "Epoch 42/150\n",
      "693/693 [==============================] - 1s 729us/step - loss: 0.2370 - accuracy: 0.9008\n",
      "Epoch 43/150\n",
      "693/693 [==============================] - 1s 773us/step - loss: 0.2369 - accuracy: 0.9007\n",
      "Epoch 44/150\n",
      "693/693 [==============================] - 1s 1ms/step - loss: 0.2370 - accuracy: 0.9003\n",
      "Epoch 45/150\n",
      "693/693 [==============================] - 1s 2ms/step - loss: 0.2367 - accuracy: 0.9004\n",
      "Epoch 46/150\n",
      "693/693 [==============================] - 1s 1ms/step - loss: 0.2368 - accuracy: 0.9011\n",
      "Epoch 47/150\n",
      "693/693 [==============================] - 0s 703us/step - loss: 0.2366 - accuracy: 0.9005\n",
      "Epoch 48/150\n",
      "693/693 [==============================] - 1s 743us/step - loss: 0.2367 - accuracy: 0.9007\n",
      "Epoch 49/150\n",
      "693/693 [==============================] - 0s 684us/step - loss: 0.2365 - accuracy: 0.9005\n",
      "Epoch 50/150\n",
      "693/693 [==============================] - 1s 802us/step - loss: 0.2364 - accuracy: 0.9012\n",
      "Epoch 51/150\n",
      "693/693 [==============================] - 1s 781us/step - loss: 0.2364 - accuracy: 0.9015\n",
      "Epoch 52/150\n",
      "693/693 [==============================] - 1s 850us/step - loss: 0.2364 - accuracy: 0.9012\n",
      "Epoch 53/150\n",
      "693/693 [==============================] - 1s 2ms/step - loss: 0.2363 - accuracy: 0.9009\n",
      "Epoch 54/150\n",
      "693/693 [==============================] - 1s 2ms/step - loss: 0.2361 - accuracy: 0.9010\n",
      "Epoch 55/150\n",
      "693/693 [==============================] - 1s 2ms/step - loss: 0.2363 - accuracy: 0.9013\n",
      "Epoch 56/150\n",
      "693/693 [==============================] - 0s 712us/step - loss: 0.2362 - accuracy: 0.9016\n",
      "Epoch 57/150\n",
      "693/693 [==============================] - 0s 705us/step - loss: 0.2363 - accuracy: 0.9004\n",
      "Epoch 58/150\n",
      "693/693 [==============================] - 1s 748us/step - loss: 0.2361 - accuracy: 0.9012\n",
      "Epoch 59/150\n",
      "693/693 [==============================] - 1s 965us/step - loss: 0.2361 - accuracy: 0.9015\n",
      "Epoch 60/150\n",
      "693/693 [==============================] - 1s 776us/step - loss: 0.2360 - accuracy: 0.9008\n",
      "Epoch 61/150\n",
      "693/693 [==============================] - 1s 983us/step - loss: 0.2361 - accuracy: 0.9009\n",
      "Epoch 62/150\n",
      "693/693 [==============================] - 1s 2ms/step - loss: 0.2361 - accuracy: 0.9007\n",
      "Epoch 63/150\n",
      "693/693 [==============================] - 1s 2ms/step - loss: 0.2359 - accuracy: 0.9013\n",
      "Epoch 64/150\n",
      "693/693 [==============================] - 1s 1ms/step - loss: 0.2360 - accuracy: 0.9018\n",
      "Epoch 65/150\n",
      "693/693 [==============================] - 1s 745us/step - loss: 0.2359 - accuracy: 0.9011\n",
      "Epoch 66/150\n",
      "693/693 [==============================] - 1s 728us/step - loss: 0.2359 - accuracy: 0.9006\n",
      "Epoch 67/150\n",
      "693/693 [==============================] - 1s 742us/step - loss: 0.2359 - accuracy: 0.9005\n",
      "Epoch 68/150\n",
      "693/693 [==============================] - 1s 760us/step - loss: 0.2358 - accuracy: 0.9011\n",
      "Epoch 69/150\n",
      "693/693 [==============================] - 1s 743us/step - loss: 0.2359 - accuracy: 0.9010\n",
      "Epoch 70/150\n",
      "693/693 [==============================] - 1s 778us/step - loss: 0.2361 - accuracy: 0.9004\n",
      "Epoch 71/150\n",
      "693/693 [==============================] - 1s 1ms/step - loss: 0.2360 - accuracy: 0.9011\n",
      "Epoch 72/150\n",
      "693/693 [==============================] - 1s 2ms/step - loss: 0.2360 - accuracy: 0.9015\n",
      "Epoch 73/150\n",
      "693/693 [==============================] - 1s 2ms/step - loss: 0.2358 - accuracy: 0.9011\n",
      "Epoch 74/150\n",
      "693/693 [==============================] - 1s 850us/step - loss: 0.2360 - accuracy: 0.9010\n",
      "Epoch 75/150\n",
      "693/693 [==============================] - 1s 772us/step - loss: 0.2358 - accuracy: 0.9015\n",
      "Epoch 76/150\n",
      "693/693 [==============================] - 1s 776us/step - loss: 0.2357 - accuracy: 0.9006\n",
      "Epoch 77/150\n",
      "693/693 [==============================] - 1s 773us/step - loss: 0.2357 - accuracy: 0.9013\n",
      "Epoch 78/150\n",
      "693/693 [==============================] - 1s 740us/step - loss: 0.2358 - accuracy: 0.9012\n",
      "Epoch 79/150\n",
      "693/693 [==============================] - 1s 727us/step - loss: 0.2358 - accuracy: 0.9013\n",
      "Epoch 80/150\n"
     ]
    },
    {
     "name": "stdout",
     "output_type": "stream",
     "text": [
      "693/693 [==============================] - 1s 1ms/step - loss: 0.2358 - accuracy: 0.9014\n",
      "Epoch 81/150\n",
      "693/693 [==============================] - 1s 2ms/step - loss: 0.2356 - accuracy: 0.9015\n",
      "Epoch 82/150\n",
      "693/693 [==============================] - 1s 2ms/step - loss: 0.2358 - accuracy: 0.9012\n",
      "Epoch 83/150\n",
      "693/693 [==============================] - 1s 1ms/step - loss: 0.2357 - accuracy: 0.9021\n",
      "Epoch 84/150\n",
      "693/693 [==============================] - 0s 680us/step - loss: 0.2356 - accuracy: 0.9006\n",
      "Epoch 85/150\n",
      "693/693 [==============================] - 1s 744us/step - loss: 0.2355 - accuracy: 0.9010\n",
      "Epoch 86/150\n",
      "693/693 [==============================] - 0s 695us/step - loss: 0.2354 - accuracy: 0.9020\n",
      "Epoch 87/150\n",
      "693/693 [==============================] - 0s 657us/step - loss: 0.2357 - accuracy: 0.9016\n",
      "Epoch 88/150\n",
      "693/693 [==============================] - 0s 675us/step - loss: 0.2355 - accuracy: 0.9010\n",
      "Epoch 89/150\n",
      "693/693 [==============================] - 0s 664us/step - loss: 0.2356 - accuracy: 0.9017\n",
      "Epoch 90/150\n",
      "693/693 [==============================] - 1s 1ms/step - loss: 0.2354 - accuracy: 0.9011\n",
      "Epoch 91/150\n",
      "693/693 [==============================] - 1s 2ms/step - loss: 0.2356 - accuracy: 0.9013\n",
      "Epoch 92/150\n",
      "693/693 [==============================] - 1s 2ms/step - loss: 0.2352 - accuracy: 0.9013\n",
      "Epoch 93/150\n",
      "693/693 [==============================] - 1s 1ms/step - loss: 0.2355 - accuracy: 0.9020\n",
      "Epoch 94/150\n",
      "693/693 [==============================] - 0s 627us/step - loss: 0.2355 - accuracy: 0.9015\n",
      "Epoch 95/150\n",
      "693/693 [==============================] - 1s 744us/step - loss: 0.2355 - accuracy: 0.9015\n",
      "Epoch 96/150\n",
      "693/693 [==============================] - 0s 672us/step - loss: 0.2354 - accuracy: 0.9013\n",
      "Epoch 97/150\n",
      "693/693 [==============================] - 0s 627us/step - loss: 0.2354 - accuracy: 0.9010\n",
      "Epoch 98/150\n",
      "693/693 [==============================] - 0s 642us/step - loss: 0.2354 - accuracy: 0.9021\n",
      "Epoch 99/150\n",
      "693/693 [==============================] - 0s 692us/step - loss: 0.2355 - accuracy: 0.9014\n",
      "Epoch 100/150\n",
      "693/693 [==============================] - 1s 1ms/step - loss: 0.2354 - accuracy: 0.9012\n",
      "Epoch 101/150\n",
      "693/693 [==============================] - 1s 2ms/step - loss: 0.2354 - accuracy: 0.9009\n",
      "Epoch 102/150\n",
      "693/693 [==============================] - 1s 2ms/step - loss: 0.2354 - accuracy: 0.9018\n",
      "Epoch 103/150\n",
      "693/693 [==============================] - 1s 1ms/step - loss: 0.2354 - accuracy: 0.9005\n",
      "Epoch 104/150\n",
      "693/693 [==============================] - 1s 794us/step - loss: 0.2355 - accuracy: 0.9013\n",
      "Epoch 105/150\n",
      "693/693 [==============================] - 1s 812us/step - loss: 0.2353 - accuracy: 0.9016\n",
      "Epoch 106/150\n",
      "693/693 [==============================] - 0s 647us/step - loss: 0.2353 - accuracy: 0.9008\n",
      "Epoch 107/150\n",
      "693/693 [==============================] - 0s 688us/step - loss: 0.2352 - accuracy: 0.9017\n",
      "Epoch 108/150\n",
      "693/693 [==============================] - 0s 691us/step - loss: 0.2352 - accuracy: 0.9009\n",
      "Epoch 109/150\n",
      "693/693 [==============================] - 1s 860us/step - loss: 0.2352 - accuracy: 0.9004\n",
      "Epoch 110/150\n",
      "693/693 [==============================] - 1s 2ms/step - loss: 0.2352 - accuracy: 0.9017\n",
      "Epoch 111/150\n",
      "693/693 [==============================] - 1s 2ms/step - loss: 0.2353 - accuracy: 0.9014\n",
      "Epoch 112/150\n",
      "693/693 [==============================] - 1s 2ms/step - loss: 0.2353 - accuracy: 0.9014\n",
      "Epoch 113/150\n",
      "693/693 [==============================] - 1s 956us/step - loss: 0.2351 - accuracy: 0.9018\n",
      "Epoch 114/150\n",
      "693/693 [==============================] - 1s 833us/step - loss: 0.2352 - accuracy: 0.9018\n",
      "Epoch 115/150\n",
      "693/693 [==============================] - 1s 744us/step - loss: 0.2351 - accuracy: 0.9014\n",
      "Epoch 116/150\n",
      "693/693 [==============================] - 1s 1ms/step - loss: 0.2350 - accuracy: 0.9017\n",
      "Epoch 117/150\n",
      "693/693 [==============================] - 1s 2ms/step - loss: 0.2351 - accuracy: 0.9020\n",
      "Epoch 118/150\n",
      "693/693 [==============================] - 1s 2ms/step - loss: 0.2350 - accuracy: 0.9017\n",
      "Epoch 119/150\n",
      "693/693 [==============================] - 1s 1ms/step - loss: 0.2350 - accuracy: 0.9004\n",
      "Epoch 120/150\n",
      "693/693 [==============================] - 1s 907us/step - loss: 0.2349 - accuracy: 0.9016\n",
      "Epoch 121/150\n",
      "693/693 [==============================] - 1s 854us/step - loss: 0.2349 - accuracy: 0.9013\n",
      "Epoch 122/150\n",
      "693/693 [==============================] - 1s 827us/step - loss: 0.2349 - accuracy: 0.9018\n",
      "Epoch 123/150\n",
      "693/693 [==============================] - 1s 2ms/step - loss: 0.2349 - accuracy: 0.9016\n",
      "Epoch 124/150\n",
      "693/693 [==============================] - 1s 2ms/step - loss: 0.2350 - accuracy: 0.9016\n",
      "Epoch 125/150\n",
      "693/693 [==============================] - 1s 2ms/step - loss: 0.2351 - accuracy: 0.9014\n",
      "Epoch 126/150\n",
      "693/693 [==============================] - 1s 789us/step - loss: 0.2348 - accuracy: 0.9018\n",
      "Epoch 127/150\n",
      "693/693 [==============================] - 0s 673us/step - loss: 0.2350 - accuracy: 0.9012\n",
      "Epoch 128/150\n",
      "693/693 [==============================] - 1s 748us/step - loss: 0.2348 - accuracy: 0.9009\n",
      "Epoch 129/150\n",
      "693/693 [==============================] - 1s 783us/step - loss: 0.2349 - accuracy: 0.9015\n",
      "Epoch 130/150\n",
      "693/693 [==============================] - 1s 750us/step - loss: 0.2350 - accuracy: 0.9019\n",
      "Epoch 131/150\n",
      "693/693 [==============================] - 1s 778us/step - loss: 0.2347 - accuracy: 0.9021\n",
      "Epoch 132/150\n",
      "693/693 [==============================] - 1s 1ms/step - loss: 0.2350 - accuracy: 0.9020\n",
      "Epoch 133/150\n",
      "693/693 [==============================] - 1s 2ms/step - loss: 0.2348 - accuracy: 0.9011\n",
      "Epoch 134/150\n",
      "693/693 [==============================] - 1s 2ms/step - loss: 0.2348 - accuracy: 0.9017: 0s - loss: 0.2322 - accu\n",
      "Epoch 135/150\n",
      "693/693 [==============================] - 1s 1ms/step - loss: 0.2348 - accuracy: 0.9021\n",
      "Epoch 136/150\n",
      "693/693 [==============================] - 0s 692us/step - loss: 0.2347 - accuracy: 0.9021\n",
      "Epoch 137/150\n",
      "693/693 [==============================] - 1s 748us/step - loss: 0.2348 - accuracy: 0.9018\n",
      "Epoch 138/150\n",
      "693/693 [==============================] - 1s 779us/step - loss: 0.2345 - accuracy: 0.9017\n",
      "Epoch 139/150\n",
      "693/693 [==============================] - 1s 1ms/step - loss: 0.2347 - accuracy: 0.9015\n",
      "Epoch 140/150\n",
      "693/693 [==============================] - 1s 2ms/step - loss: 0.2346 - accuracy: 0.9026\n",
      "Epoch 141/150\n",
      "693/693 [==============================] - 1s 2ms/step - loss: 0.2350 - accuracy: 0.9022\n",
      "Epoch 142/150\n",
      "693/693 [==============================] - 1s 1ms/step - loss: 0.2348 - accuracy: 0.9019\n",
      "Epoch 143/150\n",
      "693/693 [==============================] - 1s 853us/step - loss: 0.2347 - accuracy: 0.9021\n",
      "Epoch 144/150\n",
      "693/693 [==============================] - 1s 729us/step - loss: 0.2347 - accuracy: 0.9024\n",
      "Epoch 145/150\n",
      "693/693 [==============================] - 1s 802us/step - loss: 0.2344 - accuracy: 0.9024\n",
      "Epoch 146/150\n",
      "693/693 [==============================] - 1s 1ms/step - loss: 0.2346 - accuracy: 0.9017\n",
      "Epoch 147/150\n",
      "693/693 [==============================] - 1s 2ms/step - loss: 0.2349 - accuracy: 0.9010\n",
      "Epoch 148/150\n",
      "693/693 [==============================] - 1s 2ms/step - loss: 0.2348 - accuracy: 0.9020\n",
      "Epoch 149/150\n",
      "693/693 [==============================] - 1s 1ms/step - loss: 0.2347 - accuracy: 0.9025\n",
      "Epoch 150/150\n",
      "693/693 [==============================] - 0s 650us/step - loss: 0.2348 - accuracy: 0.9010\n"
     ]
    },
    {
     "data": {
      "text/plain": [
       "<tensorflow.python.keras.callbacks.History at 0x1f3ab336dc8>"
      ]
     },
     "execution_count": 74,
     "metadata": {},
     "output_type": "execute_result"
    }
   ],
   "source": [
    "#FITTING THE ANN MODEL ON THE TRAINING SET\n",
    "\n",
    "ann_model.fit(X_train, y_train, batch_size = 32, epochs = 150)"
   ]
  },
  {
   "cell_type": "markdown",
   "metadata": {},
   "source": [
    "# 7. Predicting the output of 2 custom variables"
   ]
  },
  {
   "cell_type": "code",
   "execution_count": 76,
   "metadata": {},
   "outputs": [
    {
     "data": {
      "text/html": [
       "<div>\n",
       "<style scoped>\n",
       "    .dataframe tbody tr th:only-of-type {\n",
       "        vertical-align: middle;\n",
       "    }\n",
       "\n",
       "    .dataframe tbody tr th {\n",
       "        vertical-align: top;\n",
       "    }\n",
       "\n",
       "    .dataframe thead th {\n",
       "        text-align: right;\n",
       "    }\n",
       "</style>\n",
       "<table border=\"1\" class=\"dataframe\">\n",
       "  <thead>\n",
       "    <tr style=\"text-align: right;\">\n",
       "      <th></th>\n",
       "      <th>age</th>\n",
       "      <th>job</th>\n",
       "      <th>marital</th>\n",
       "      <th>education</th>\n",
       "      <th>default</th>\n",
       "      <th>balance</th>\n",
       "      <th>housing</th>\n",
       "      <th>loan</th>\n",
       "      <th>duration</th>\n",
       "      <th>campaign</th>\n",
       "      <th>pdays</th>\n",
       "      <th>previous</th>\n",
       "      <th>poutcome</th>\n",
       "      <th>subscribed</th>\n",
       "    </tr>\n",
       "  </thead>\n",
       "  <tbody>\n",
       "    <tr>\n",
       "      <th>0</th>\n",
       "      <td>56</td>\n",
       "      <td>0</td>\n",
       "      <td>1</td>\n",
       "      <td>3</td>\n",
       "      <td>0</td>\n",
       "      <td>1933</td>\n",
       "      <td>0</td>\n",
       "      <td>0</td>\n",
       "      <td>44</td>\n",
       "      <td>2</td>\n",
       "      <td>-1</td>\n",
       "      <td>0</td>\n",
       "      <td>3</td>\n",
       "      <td>0</td>\n",
       "    </tr>\n",
       "    <tr>\n",
       "      <th>1</th>\n",
       "      <td>31</td>\n",
       "      <td>11</td>\n",
       "      <td>1</td>\n",
       "      <td>1</td>\n",
       "      <td>0</td>\n",
       "      <td>3</td>\n",
       "      <td>0</td>\n",
       "      <td>0</td>\n",
       "      <td>91</td>\n",
       "      <td>2</td>\n",
       "      <td>-1</td>\n",
       "      <td>0</td>\n",
       "      <td>3</td>\n",
       "      <td>0</td>\n",
       "    </tr>\n",
       "    <tr>\n",
       "      <th>2</th>\n",
       "      <td>27</td>\n",
       "      <td>7</td>\n",
       "      <td>1</td>\n",
       "      <td>1</td>\n",
       "      <td>0</td>\n",
       "      <td>891</td>\n",
       "      <td>1</td>\n",
       "      <td>0</td>\n",
       "      <td>240</td>\n",
       "      <td>1</td>\n",
       "      <td>-1</td>\n",
       "      <td>0</td>\n",
       "      <td>3</td>\n",
       "      <td>0</td>\n",
       "    </tr>\n",
       "    <tr>\n",
       "      <th>3</th>\n",
       "      <td>57</td>\n",
       "      <td>4</td>\n",
       "      <td>0</td>\n",
       "      <td>2</td>\n",
       "      <td>0</td>\n",
       "      <td>3287</td>\n",
       "      <td>0</td>\n",
       "      <td>0</td>\n",
       "      <td>867</td>\n",
       "      <td>1</td>\n",
       "      <td>84</td>\n",
       "      <td>3</td>\n",
       "      <td>2</td>\n",
       "      <td>1</td>\n",
       "    </tr>\n",
       "    <tr>\n",
       "      <th>4</th>\n",
       "      <td>31</td>\n",
       "      <td>9</td>\n",
       "      <td>1</td>\n",
       "      <td>1</td>\n",
       "      <td>0</td>\n",
       "      <td>119</td>\n",
       "      <td>1</td>\n",
       "      <td>0</td>\n",
       "      <td>380</td>\n",
       "      <td>1</td>\n",
       "      <td>-1</td>\n",
       "      <td>0</td>\n",
       "      <td>3</td>\n",
       "      <td>0</td>\n",
       "    </tr>\n",
       "  </tbody>\n",
       "</table>\n",
       "</div>"
      ],
      "text/plain": [
       "   age  job  marital  education  default  balance  housing  loan  duration  \\\n",
       "0   56    0        1          3        0     1933        0     0        44   \n",
       "1   31   11        1          1        0        3        0     0        91   \n",
       "2   27    7        1          1        0      891        1     0       240   \n",
       "3   57    4        0          2        0     3287        0     0       867   \n",
       "4   31    9        1          1        0      119        1     0       380   \n",
       "\n",
       "   campaign  pdays  previous  poutcome  subscribed  \n",
       "0         2     -1         0         3           0  \n",
       "1         2     -1         0         3           0  \n",
       "2         1     -1         0         3           0  \n",
       "3         1     84         3         2           1  \n",
       "4         1     -1         0         3           0  "
      ]
     },
     "execution_count": 76,
     "metadata": {},
     "output_type": "execute_result"
    }
   ],
   "source": [
    "deposit_df.head()"
   ]
  },
  {
   "cell_type": "code",
   "execution_count": 78,
   "metadata": {},
   "outputs": [
    {
     "name": "stdout",
     "output_type": "stream",
     "text": [
      "Customer 1: [[False]]\n"
     ]
    }
   ],
   "source": [
    "print(\"Customer 1:\",  ann_model.predict(sc.transform([[35, 4, 1, 2, 0, 1500, 1, 0, 100, 2, -10, 3, 2]])) > 0.5)"
   ]
  },
  {
   "cell_type": "code",
   "execution_count": 80,
   "metadata": {},
   "outputs": [
    {
     "name": "stdout",
     "output_type": "stream",
     "text": [
      "Customer 2: [[ True]]\n"
     ]
    }
   ],
   "source": [
    "print(\"Customer 2:\",  ann_model.predict(sc.transform([[30, 6, 1, 3, 0, 2500, 0, 0, 300, 5, 10, 2, 2]])) > 0.5)"
   ]
  },
  {
   "cell_type": "code",
   "execution_count": null,
   "metadata": {},
   "outputs": [],
   "source": []
  }
 ],
 "metadata": {
  "kernelspec": {
   "display_name": "Python 3",
   "language": "python",
   "name": "python3"
  },
  "language_info": {
   "codemirror_mode": {
    "name": "ipython",
    "version": 3
   },
   "file_extension": ".py",
   "mimetype": "text/x-python",
   "name": "python",
   "nbconvert_exporter": "python",
   "pygments_lexer": "ipython3",
   "version": "3.7.6"
  }
 },
 "nbformat": 4,
 "nbformat_minor": 4
}
