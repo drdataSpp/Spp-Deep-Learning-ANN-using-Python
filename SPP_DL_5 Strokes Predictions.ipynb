{
 "cells": [
  {
   "cell_type": "markdown",
   "metadata": {},
   "source": [
    "# Prediciton of Strokes using Artificial Neural Networks"
   ]
  },
  {
   "cell_type": "code",
   "execution_count": 1,
   "metadata": {},
   "outputs": [],
   "source": [
    "import numpy as np\n",
    "import pandas as pd\n",
    "import matplotlib.pyplot as plt\n",
    "import seaborn as sns\n",
    "\n",
    "import tensorflow as tf\n",
    "\n",
    "import warnings\n",
    "warnings.filterwarnings('ignore')"
   ]
  },
  {
   "cell_type": "markdown",
   "metadata": {},
   "source": [
    "## Importing the dataset and checking the data"
   ]
  },
  {
   "cell_type": "code",
   "execution_count": 2,
   "metadata": {},
   "outputs": [],
   "source": [
    "strokes_df = pd.read_csv(r\"D:\\001_Data\\Completed\\Python Projects\\Stroke Dataset\\healthcare-dataset-stroke-data.csv\")"
   ]
  },
  {
   "cell_type": "code",
   "execution_count": 3,
   "metadata": {},
   "outputs": [
    {
     "data": {
      "text/html": [
       "<div>\n",
       "<style scoped>\n",
       "    .dataframe tbody tr th:only-of-type {\n",
       "        vertical-align: middle;\n",
       "    }\n",
       "\n",
       "    .dataframe tbody tr th {\n",
       "        vertical-align: top;\n",
       "    }\n",
       "\n",
       "    .dataframe thead th {\n",
       "        text-align: right;\n",
       "    }\n",
       "</style>\n",
       "<table border=\"1\" class=\"dataframe\">\n",
       "  <thead>\n",
       "    <tr style=\"text-align: right;\">\n",
       "      <th></th>\n",
       "      <th>id</th>\n",
       "      <th>gender</th>\n",
       "      <th>age</th>\n",
       "      <th>hypertension</th>\n",
       "      <th>heart_disease</th>\n",
       "      <th>ever_married</th>\n",
       "      <th>work_type</th>\n",
       "      <th>Residence_type</th>\n",
       "      <th>avg_glucose_level</th>\n",
       "      <th>bmi</th>\n",
       "      <th>smoking_status</th>\n",
       "      <th>stroke</th>\n",
       "    </tr>\n",
       "  </thead>\n",
       "  <tbody>\n",
       "    <tr>\n",
       "      <th>0</th>\n",
       "      <td>9046</td>\n",
       "      <td>Male</td>\n",
       "      <td>67.0</td>\n",
       "      <td>0</td>\n",
       "      <td>1</td>\n",
       "      <td>Yes</td>\n",
       "      <td>Private</td>\n",
       "      <td>Urban</td>\n",
       "      <td>228.69</td>\n",
       "      <td>36.6</td>\n",
       "      <td>formerly smoked</td>\n",
       "      <td>1</td>\n",
       "    </tr>\n",
       "    <tr>\n",
       "      <th>1</th>\n",
       "      <td>51676</td>\n",
       "      <td>Female</td>\n",
       "      <td>61.0</td>\n",
       "      <td>0</td>\n",
       "      <td>0</td>\n",
       "      <td>Yes</td>\n",
       "      <td>Self-employed</td>\n",
       "      <td>Rural</td>\n",
       "      <td>202.21</td>\n",
       "      <td>NaN</td>\n",
       "      <td>never smoked</td>\n",
       "      <td>1</td>\n",
       "    </tr>\n",
       "    <tr>\n",
       "      <th>2</th>\n",
       "      <td>31112</td>\n",
       "      <td>Male</td>\n",
       "      <td>80.0</td>\n",
       "      <td>0</td>\n",
       "      <td>1</td>\n",
       "      <td>Yes</td>\n",
       "      <td>Private</td>\n",
       "      <td>Rural</td>\n",
       "      <td>105.92</td>\n",
       "      <td>32.5</td>\n",
       "      <td>never smoked</td>\n",
       "      <td>1</td>\n",
       "    </tr>\n",
       "    <tr>\n",
       "      <th>3</th>\n",
       "      <td>60182</td>\n",
       "      <td>Female</td>\n",
       "      <td>49.0</td>\n",
       "      <td>0</td>\n",
       "      <td>0</td>\n",
       "      <td>Yes</td>\n",
       "      <td>Private</td>\n",
       "      <td>Urban</td>\n",
       "      <td>171.23</td>\n",
       "      <td>34.4</td>\n",
       "      <td>smokes</td>\n",
       "      <td>1</td>\n",
       "    </tr>\n",
       "    <tr>\n",
       "      <th>4</th>\n",
       "      <td>1665</td>\n",
       "      <td>Female</td>\n",
       "      <td>79.0</td>\n",
       "      <td>1</td>\n",
       "      <td>0</td>\n",
       "      <td>Yes</td>\n",
       "      <td>Self-employed</td>\n",
       "      <td>Rural</td>\n",
       "      <td>174.12</td>\n",
       "      <td>24.0</td>\n",
       "      <td>never smoked</td>\n",
       "      <td>1</td>\n",
       "    </tr>\n",
       "  </tbody>\n",
       "</table>\n",
       "</div>"
      ],
      "text/plain": [
       "      id  gender   age  hypertension  heart_disease ever_married  \\\n",
       "0   9046    Male  67.0             0              1          Yes   \n",
       "1  51676  Female  61.0             0              0          Yes   \n",
       "2  31112    Male  80.0             0              1          Yes   \n",
       "3  60182  Female  49.0             0              0          Yes   \n",
       "4   1665  Female  79.0             1              0          Yes   \n",
       "\n",
       "       work_type Residence_type  avg_glucose_level   bmi   smoking_status  \\\n",
       "0        Private          Urban             228.69  36.6  formerly smoked   \n",
       "1  Self-employed          Rural             202.21   NaN     never smoked   \n",
       "2        Private          Rural             105.92  32.5     never smoked   \n",
       "3        Private          Urban             171.23  34.4           smokes   \n",
       "4  Self-employed          Rural             174.12  24.0     never smoked   \n",
       "\n",
       "   stroke  \n",
       "0       1  \n",
       "1       1  \n",
       "2       1  \n",
       "3       1  \n",
       "4       1  "
      ]
     },
     "execution_count": 3,
     "metadata": {},
     "output_type": "execute_result"
    }
   ],
   "source": [
    "strokes_df.head()"
   ]
  },
  {
   "cell_type": "code",
   "execution_count": 4,
   "metadata": {},
   "outputs": [
    {
     "data": {
      "text/html": [
       "<div>\n",
       "<style scoped>\n",
       "    .dataframe tbody tr th:only-of-type {\n",
       "        vertical-align: middle;\n",
       "    }\n",
       "\n",
       "    .dataframe tbody tr th {\n",
       "        vertical-align: top;\n",
       "    }\n",
       "\n",
       "    .dataframe thead th {\n",
       "        text-align: right;\n",
       "    }\n",
       "</style>\n",
       "<table border=\"1\" class=\"dataframe\">\n",
       "  <thead>\n",
       "    <tr style=\"text-align: right;\">\n",
       "      <th></th>\n",
       "      <th>id</th>\n",
       "      <th>gender</th>\n",
       "      <th>age</th>\n",
       "      <th>hypertension</th>\n",
       "      <th>heart_disease</th>\n",
       "      <th>ever_married</th>\n",
       "      <th>work_type</th>\n",
       "      <th>Residence_type</th>\n",
       "      <th>avg_glucose_level</th>\n",
       "      <th>bmi</th>\n",
       "      <th>smoking_status</th>\n",
       "      <th>stroke</th>\n",
       "    </tr>\n",
       "  </thead>\n",
       "  <tbody>\n",
       "    <tr>\n",
       "      <th>5105</th>\n",
       "      <td>18234</td>\n",
       "      <td>Female</td>\n",
       "      <td>80.0</td>\n",
       "      <td>1</td>\n",
       "      <td>0</td>\n",
       "      <td>Yes</td>\n",
       "      <td>Private</td>\n",
       "      <td>Urban</td>\n",
       "      <td>83.75</td>\n",
       "      <td>NaN</td>\n",
       "      <td>never smoked</td>\n",
       "      <td>0</td>\n",
       "    </tr>\n",
       "    <tr>\n",
       "      <th>5106</th>\n",
       "      <td>44873</td>\n",
       "      <td>Female</td>\n",
       "      <td>81.0</td>\n",
       "      <td>0</td>\n",
       "      <td>0</td>\n",
       "      <td>Yes</td>\n",
       "      <td>Self-employed</td>\n",
       "      <td>Urban</td>\n",
       "      <td>125.20</td>\n",
       "      <td>40.0</td>\n",
       "      <td>never smoked</td>\n",
       "      <td>0</td>\n",
       "    </tr>\n",
       "    <tr>\n",
       "      <th>5107</th>\n",
       "      <td>19723</td>\n",
       "      <td>Female</td>\n",
       "      <td>35.0</td>\n",
       "      <td>0</td>\n",
       "      <td>0</td>\n",
       "      <td>Yes</td>\n",
       "      <td>Self-employed</td>\n",
       "      <td>Rural</td>\n",
       "      <td>82.99</td>\n",
       "      <td>30.6</td>\n",
       "      <td>never smoked</td>\n",
       "      <td>0</td>\n",
       "    </tr>\n",
       "    <tr>\n",
       "      <th>5108</th>\n",
       "      <td>37544</td>\n",
       "      <td>Male</td>\n",
       "      <td>51.0</td>\n",
       "      <td>0</td>\n",
       "      <td>0</td>\n",
       "      <td>Yes</td>\n",
       "      <td>Private</td>\n",
       "      <td>Rural</td>\n",
       "      <td>166.29</td>\n",
       "      <td>25.6</td>\n",
       "      <td>formerly smoked</td>\n",
       "      <td>0</td>\n",
       "    </tr>\n",
       "    <tr>\n",
       "      <th>5109</th>\n",
       "      <td>44679</td>\n",
       "      <td>Female</td>\n",
       "      <td>44.0</td>\n",
       "      <td>0</td>\n",
       "      <td>0</td>\n",
       "      <td>Yes</td>\n",
       "      <td>Govt_job</td>\n",
       "      <td>Urban</td>\n",
       "      <td>85.28</td>\n",
       "      <td>26.2</td>\n",
       "      <td>Unknown</td>\n",
       "      <td>0</td>\n",
       "    </tr>\n",
       "  </tbody>\n",
       "</table>\n",
       "</div>"
      ],
      "text/plain": [
       "         id  gender   age  hypertension  heart_disease ever_married  \\\n",
       "5105  18234  Female  80.0             1              0          Yes   \n",
       "5106  44873  Female  81.0             0              0          Yes   \n",
       "5107  19723  Female  35.0             0              0          Yes   \n",
       "5108  37544    Male  51.0             0              0          Yes   \n",
       "5109  44679  Female  44.0             0              0          Yes   \n",
       "\n",
       "          work_type Residence_type  avg_glucose_level   bmi   smoking_status  \\\n",
       "5105        Private          Urban              83.75   NaN     never smoked   \n",
       "5106  Self-employed          Urban             125.20  40.0     never smoked   \n",
       "5107  Self-employed          Rural              82.99  30.6     never smoked   \n",
       "5108        Private          Rural             166.29  25.6  formerly smoked   \n",
       "5109       Govt_job          Urban              85.28  26.2          Unknown   \n",
       "\n",
       "      stroke  \n",
       "5105       0  \n",
       "5106       0  \n",
       "5107       0  \n",
       "5108       0  \n",
       "5109       0  "
      ]
     },
     "execution_count": 4,
     "metadata": {},
     "output_type": "execute_result"
    }
   ],
   "source": [
    "strokes_df.tail()"
   ]
  },
  {
   "cell_type": "code",
   "execution_count": 5,
   "metadata": {},
   "outputs": [
    {
     "name": "stdout",
     "output_type": "stream",
     "text": [
      "<class 'pandas.core.frame.DataFrame'>\n",
      "RangeIndex: 5110 entries, 0 to 5109\n",
      "Data columns (total 12 columns):\n",
      " #   Column             Non-Null Count  Dtype  \n",
      "---  ------             --------------  -----  \n",
      " 0   id                 5110 non-null   int64  \n",
      " 1   gender             5110 non-null   object \n",
      " 2   age                5110 non-null   float64\n",
      " 3   hypertension       5110 non-null   int64  \n",
      " 4   heart_disease      5110 non-null   int64  \n",
      " 5   ever_married       5110 non-null   object \n",
      " 6   work_type          5110 non-null   object \n",
      " 7   Residence_type     5110 non-null   object \n",
      " 8   avg_glucose_level  5110 non-null   float64\n",
      " 9   bmi                4909 non-null   float64\n",
      " 10  smoking_status     5110 non-null   object \n",
      " 11  stroke             5110 non-null   int64  \n",
      "dtypes: float64(3), int64(4), object(5)\n",
      "memory usage: 479.2+ KB\n"
     ]
    }
   ],
   "source": [
    "strokes_df.info()"
   ]
  },
  {
   "cell_type": "code",
   "execution_count": 6,
   "metadata": {},
   "outputs": [
    {
     "data": {
      "text/html": [
       "<div>\n",
       "<style scoped>\n",
       "    .dataframe tbody tr th:only-of-type {\n",
       "        vertical-align: middle;\n",
       "    }\n",
       "\n",
       "    .dataframe tbody tr th {\n",
       "        vertical-align: top;\n",
       "    }\n",
       "\n",
       "    .dataframe thead th {\n",
       "        text-align: right;\n",
       "    }\n",
       "</style>\n",
       "<table border=\"1\" class=\"dataframe\">\n",
       "  <thead>\n",
       "    <tr style=\"text-align: right;\">\n",
       "      <th></th>\n",
       "      <th>id</th>\n",
       "      <th>age</th>\n",
       "      <th>hypertension</th>\n",
       "      <th>heart_disease</th>\n",
       "      <th>avg_glucose_level</th>\n",
       "      <th>bmi</th>\n",
       "      <th>stroke</th>\n",
       "    </tr>\n",
       "  </thead>\n",
       "  <tbody>\n",
       "    <tr>\n",
       "      <th>count</th>\n",
       "      <td>5110.000000</td>\n",
       "      <td>5110.000000</td>\n",
       "      <td>5110.000000</td>\n",
       "      <td>5110.000000</td>\n",
       "      <td>5110.000000</td>\n",
       "      <td>4909.000000</td>\n",
       "      <td>5110.000000</td>\n",
       "    </tr>\n",
       "    <tr>\n",
       "      <th>mean</th>\n",
       "      <td>36517.829354</td>\n",
       "      <td>43.226614</td>\n",
       "      <td>0.097456</td>\n",
       "      <td>0.054012</td>\n",
       "      <td>106.147677</td>\n",
       "      <td>28.893237</td>\n",
       "      <td>0.048728</td>\n",
       "    </tr>\n",
       "    <tr>\n",
       "      <th>std</th>\n",
       "      <td>21161.721625</td>\n",
       "      <td>22.612647</td>\n",
       "      <td>0.296607</td>\n",
       "      <td>0.226063</td>\n",
       "      <td>45.283560</td>\n",
       "      <td>7.854067</td>\n",
       "      <td>0.215320</td>\n",
       "    </tr>\n",
       "    <tr>\n",
       "      <th>min</th>\n",
       "      <td>67.000000</td>\n",
       "      <td>0.080000</td>\n",
       "      <td>0.000000</td>\n",
       "      <td>0.000000</td>\n",
       "      <td>55.120000</td>\n",
       "      <td>10.300000</td>\n",
       "      <td>0.000000</td>\n",
       "    </tr>\n",
       "    <tr>\n",
       "      <th>25%</th>\n",
       "      <td>17741.250000</td>\n",
       "      <td>25.000000</td>\n",
       "      <td>0.000000</td>\n",
       "      <td>0.000000</td>\n",
       "      <td>77.245000</td>\n",
       "      <td>23.500000</td>\n",
       "      <td>0.000000</td>\n",
       "    </tr>\n",
       "    <tr>\n",
       "      <th>50%</th>\n",
       "      <td>36932.000000</td>\n",
       "      <td>45.000000</td>\n",
       "      <td>0.000000</td>\n",
       "      <td>0.000000</td>\n",
       "      <td>91.885000</td>\n",
       "      <td>28.100000</td>\n",
       "      <td>0.000000</td>\n",
       "    </tr>\n",
       "    <tr>\n",
       "      <th>75%</th>\n",
       "      <td>54682.000000</td>\n",
       "      <td>61.000000</td>\n",
       "      <td>0.000000</td>\n",
       "      <td>0.000000</td>\n",
       "      <td>114.090000</td>\n",
       "      <td>33.100000</td>\n",
       "      <td>0.000000</td>\n",
       "    </tr>\n",
       "    <tr>\n",
       "      <th>max</th>\n",
       "      <td>72940.000000</td>\n",
       "      <td>82.000000</td>\n",
       "      <td>1.000000</td>\n",
       "      <td>1.000000</td>\n",
       "      <td>271.740000</td>\n",
       "      <td>97.600000</td>\n",
       "      <td>1.000000</td>\n",
       "    </tr>\n",
       "  </tbody>\n",
       "</table>\n",
       "</div>"
      ],
      "text/plain": [
       "                 id          age  hypertension  heart_disease  \\\n",
       "count   5110.000000  5110.000000   5110.000000    5110.000000   \n",
       "mean   36517.829354    43.226614      0.097456       0.054012   \n",
       "std    21161.721625    22.612647      0.296607       0.226063   \n",
       "min       67.000000     0.080000      0.000000       0.000000   \n",
       "25%    17741.250000    25.000000      0.000000       0.000000   \n",
       "50%    36932.000000    45.000000      0.000000       0.000000   \n",
       "75%    54682.000000    61.000000      0.000000       0.000000   \n",
       "max    72940.000000    82.000000      1.000000       1.000000   \n",
       "\n",
       "       avg_glucose_level          bmi       stroke  \n",
       "count        5110.000000  4909.000000  5110.000000  \n",
       "mean          106.147677    28.893237     0.048728  \n",
       "std            45.283560     7.854067     0.215320  \n",
       "min            55.120000    10.300000     0.000000  \n",
       "25%            77.245000    23.500000     0.000000  \n",
       "50%            91.885000    28.100000     0.000000  \n",
       "75%           114.090000    33.100000     0.000000  \n",
       "max           271.740000    97.600000     1.000000  "
      ]
     },
     "execution_count": 6,
     "metadata": {},
     "output_type": "execute_result"
    }
   ],
   "source": [
    "strokes_df.describe()"
   ]
  },
  {
   "cell_type": "code",
   "execution_count": 7,
   "metadata": {},
   "outputs": [
    {
     "data": {
      "text/plain": [
       "id                     0\n",
       "gender                 0\n",
       "age                    0\n",
       "hypertension           0\n",
       "heart_disease          0\n",
       "ever_married           0\n",
       "work_type              0\n",
       "Residence_type         0\n",
       "avg_glucose_level      0\n",
       "bmi                  201\n",
       "smoking_status         0\n",
       "stroke                 0\n",
       "dtype: int64"
      ]
     },
     "execution_count": 7,
     "metadata": {},
     "output_type": "execute_result"
    }
   ],
   "source": [
    "strokes_df.isnull().sum()"
   ]
  },
  {
   "cell_type": "code",
   "execution_count": 8,
   "metadata": {},
   "outputs": [
    {
     "data": {
      "text/plain": [
       "Index(['id', 'gender', 'age', 'hypertension', 'heart_disease', 'ever_married',\n",
       "       'work_type', 'Residence_type', 'avg_glucose_level', 'bmi',\n",
       "       'smoking_status', 'stroke'],\n",
       "      dtype='object')"
      ]
     },
     "execution_count": 8,
     "metadata": {},
     "output_type": "execute_result"
    }
   ],
   "source": [
    "strokes_df.columns"
   ]
  },
  {
   "cell_type": "code",
   "execution_count": 9,
   "metadata": {},
   "outputs": [],
   "source": [
    "cols = ['gender', 'age', 'hypertension', 'heart_disease', 'ever_married',\n",
    "       'work_type', 'Residence_type', 'avg_glucose_level', 'bmi',\n",
    "       'smoking_status', 'stroke']"
   ]
  },
  {
   "cell_type": "code",
   "execution_count": 10,
   "metadata": {},
   "outputs": [],
   "source": [
    "strokes_df = strokes_df[cols]"
   ]
  },
  {
   "cell_type": "code",
   "execution_count": 11,
   "metadata": {},
   "outputs": [
    {
     "data": {
      "text/html": [
       "<div>\n",
       "<style scoped>\n",
       "    .dataframe tbody tr th:only-of-type {\n",
       "        vertical-align: middle;\n",
       "    }\n",
       "\n",
       "    .dataframe tbody tr th {\n",
       "        vertical-align: top;\n",
       "    }\n",
       "\n",
       "    .dataframe thead th {\n",
       "        text-align: right;\n",
       "    }\n",
       "</style>\n",
       "<table border=\"1\" class=\"dataframe\">\n",
       "  <thead>\n",
       "    <tr style=\"text-align: right;\">\n",
       "      <th></th>\n",
       "      <th>gender</th>\n",
       "      <th>age</th>\n",
       "      <th>hypertension</th>\n",
       "      <th>heart_disease</th>\n",
       "      <th>ever_married</th>\n",
       "      <th>work_type</th>\n",
       "      <th>Residence_type</th>\n",
       "      <th>avg_glucose_level</th>\n",
       "      <th>bmi</th>\n",
       "      <th>smoking_status</th>\n",
       "      <th>stroke</th>\n",
       "    </tr>\n",
       "  </thead>\n",
       "  <tbody>\n",
       "    <tr>\n",
       "      <th>0</th>\n",
       "      <td>Male</td>\n",
       "      <td>67.0</td>\n",
       "      <td>0</td>\n",
       "      <td>1</td>\n",
       "      <td>Yes</td>\n",
       "      <td>Private</td>\n",
       "      <td>Urban</td>\n",
       "      <td>228.69</td>\n",
       "      <td>36.6</td>\n",
       "      <td>formerly smoked</td>\n",
       "      <td>1</td>\n",
       "    </tr>\n",
       "    <tr>\n",
       "      <th>1</th>\n",
       "      <td>Female</td>\n",
       "      <td>61.0</td>\n",
       "      <td>0</td>\n",
       "      <td>0</td>\n",
       "      <td>Yes</td>\n",
       "      <td>Self-employed</td>\n",
       "      <td>Rural</td>\n",
       "      <td>202.21</td>\n",
       "      <td>NaN</td>\n",
       "      <td>never smoked</td>\n",
       "      <td>1</td>\n",
       "    </tr>\n",
       "    <tr>\n",
       "      <th>2</th>\n",
       "      <td>Male</td>\n",
       "      <td>80.0</td>\n",
       "      <td>0</td>\n",
       "      <td>1</td>\n",
       "      <td>Yes</td>\n",
       "      <td>Private</td>\n",
       "      <td>Rural</td>\n",
       "      <td>105.92</td>\n",
       "      <td>32.5</td>\n",
       "      <td>never smoked</td>\n",
       "      <td>1</td>\n",
       "    </tr>\n",
       "    <tr>\n",
       "      <th>3</th>\n",
       "      <td>Female</td>\n",
       "      <td>49.0</td>\n",
       "      <td>0</td>\n",
       "      <td>0</td>\n",
       "      <td>Yes</td>\n",
       "      <td>Private</td>\n",
       "      <td>Urban</td>\n",
       "      <td>171.23</td>\n",
       "      <td>34.4</td>\n",
       "      <td>smokes</td>\n",
       "      <td>1</td>\n",
       "    </tr>\n",
       "    <tr>\n",
       "      <th>4</th>\n",
       "      <td>Female</td>\n",
       "      <td>79.0</td>\n",
       "      <td>1</td>\n",
       "      <td>0</td>\n",
       "      <td>Yes</td>\n",
       "      <td>Self-employed</td>\n",
       "      <td>Rural</td>\n",
       "      <td>174.12</td>\n",
       "      <td>24.0</td>\n",
       "      <td>never smoked</td>\n",
       "      <td>1</td>\n",
       "    </tr>\n",
       "  </tbody>\n",
       "</table>\n",
       "</div>"
      ],
      "text/plain": [
       "   gender   age  hypertension  heart_disease ever_married      work_type  \\\n",
       "0    Male  67.0             0              1          Yes        Private   \n",
       "1  Female  61.0             0              0          Yes  Self-employed   \n",
       "2    Male  80.0             0              1          Yes        Private   \n",
       "3  Female  49.0             0              0          Yes        Private   \n",
       "4  Female  79.0             1              0          Yes  Self-employed   \n",
       "\n",
       "  Residence_type  avg_glucose_level   bmi   smoking_status  stroke  \n",
       "0          Urban             228.69  36.6  formerly smoked       1  \n",
       "1          Rural             202.21   NaN     never smoked       1  \n",
       "2          Rural             105.92  32.5     never smoked       1  \n",
       "3          Urban             171.23  34.4           smokes       1  \n",
       "4          Rural             174.12  24.0     never smoked       1  "
      ]
     },
     "execution_count": 11,
     "metadata": {},
     "output_type": "execute_result"
    }
   ],
   "source": [
    "strokes_df.head()"
   ]
  },
  {
   "cell_type": "markdown",
   "metadata": {},
   "source": [
    "## Exploratory Data Analysis"
   ]
  },
  {
   "cell_type": "code",
   "execution_count": 12,
   "metadata": {},
   "outputs": [
    {
     "data": {
      "text/plain": [
       "0    4861\n",
       "1     249\n",
       "Name: stroke, dtype: int64"
      ]
     },
     "execution_count": 12,
     "metadata": {},
     "output_type": "execute_result"
    }
   ],
   "source": [
    "strokes_df[\"stroke\"].value_counts()"
   ]
  },
  {
   "cell_type": "code",
   "execution_count": 13,
   "metadata": {},
   "outputs": [
    {
     "data": {
      "text/plain": [
       "Text(0, 0.5, 'Count')"
      ]
     },
     "execution_count": 13,
     "metadata": {},
     "output_type": "execute_result"
    },
    {
     "data": {
      "image/png": "[encoded data removed]",
      "text/plain": [
       "<Figure size 720x504 with 1 Axes>"
      ]
     },
     "metadata": {
      "needs_background": "light"
     },
     "output_type": "display_data"
    }
   ],
   "source": [
    "plt.figure(figsize=(10,7))\n",
    "sns.countplot(strokes_df[\"stroke\"])\n",
    "plt.title(\"Count Of the Classes (Stroke & Non-Stroke)\")\n",
    "plt.xlabel(\"Outcome\")\n",
    "plt.ylabel(\"Count\")"
   ]
  },
  {
   "cell_type": "code",
   "execution_count": 14,
   "metadata": {},
   "outputs": [
    {
     "data": {
      "text/plain": [
       "Text(0, 0.5, 'Age')"
      ]
     },
     "execution_count": 14,
     "metadata": {},
     "output_type": "execute_result"
    },
    {
     "data": {
      "image/png": "[encoded data removed]",
      "text/plain": [
       "<Figure size 720x504 with 1 Axes>"
      ]
     },
     "metadata": {
      "needs_background": "light"
     },
     "output_type": "display_data"
    }
   ],
   "source": [
    "plt.figure(figsize=(10,7))\n",
    "sns.boxplot(x=\"stroke\", y=\"age\", data=strokes_df)\n",
    "plt.title(\"Relationship between Age and Stroke\")\n",
    "plt.xlabel(\"Stroke Outcome\")\n",
    "plt.ylabel(\"Age\")"
   ]
  },
  {
   "cell_type": "code",
   "execution_count": 15,
   "metadata": {},
   "outputs": [
    {
     "data": {
      "text/plain": [
       "Text(0, 0.5, 'Average Glucose Level')"
      ]
     },
     "execution_count": 15,
     "metadata": {},
     "output_type": "execute_result"
    },
    {
     "data": {
      "image/png": "[encoded data removed]",
      "text/plain": [
       "<Figure size 720x504 with 1 Axes>"
      ]
     },
     "metadata": {
      "needs_background": "light"
     },
     "output_type": "display_data"
    }
   ],
   "source": [
    "plt.figure(figsize=(10,7))\n",
    "sns.boxplot(x=\"stroke\", y=\"avg_glucose_level\", data=strokes_df)\n",
    "plt.title(\"Relationship between Average Glucose Level and Stroke\")\n",
    "plt.xlabel(\"Stroke Outcome\")\n",
    "plt.ylabel(\"Average Glucose Level\")"
   ]
  },
  {
   "cell_type": "code",
   "execution_count": 16,
   "metadata": {},
   "outputs": [
    {
     "data": {
      "text/plain": [
       "Text(0, 0.5, 'BMI')"
      ]
     },
     "execution_count": 16,
     "metadata": {},
     "output_type": "execute_result"
    },
    {
     "data": {
      "image/png": "[encoded data removed]",
      "text/plain": [
       "<Figure size 720x504 with 1 Axes>"
      ]
     },
     "metadata": {
      "needs_background": "light"
     },
     "output_type": "display_data"
    }
   ],
   "source": [
    "plt.figure(figsize=(10,7))\n",
    "sns.boxplot(x=\"stroke\", y=\"bmi\", data=strokes_df)\n",
    "plt.title(\"Relationship between BMI and Stroke\")\n",
    "plt.xlabel(\"Stroke Outcome\")\n",
    "plt.ylabel(\"BMI\")"
   ]
  },
  {
   "cell_type": "code",
   "execution_count": 17,
   "metadata": {},
   "outputs": [
    {
     "data": {
      "text/plain": [
       "Text(0, 0.5, 'Count')"
      ]
     },
     "execution_count": 17,
     "metadata": {},
     "output_type": "execute_result"
    },
    {
     "data": {
      "image/png": "[encoded data removed]",
      "text/plain": [
       "<Figure size 720x504 with 1 Axes>"
      ]
     },
     "metadata": {
      "needs_background": "light"
     },
     "output_type": "display_data"
    }
   ],
   "source": [
    "plt.figure(figsize=(10,7))\n",
    "sns.countplot(x=\"hypertension\", data=strokes_df, hue=\"stroke\")\n",
    "plt.title(\"Relationship between Hypertension and Stroke\")\n",
    "plt.xlabel(\"Hypertension Status\")\n",
    "plt.ylabel(\"Count\")"
   ]
  },
  {
   "cell_type": "code",
   "execution_count": 18,
   "metadata": {},
   "outputs": [
    {
     "data": {
      "text/plain": [
       "Text(0, 0.5, 'Count')"
      ]
     },
     "execution_count": 18,
     "metadata": {},
     "output_type": "execute_result"
    },
    {
     "data": {
      "image/png": "[encoded data removed]",
      "text/plain": [
       "<Figure size 720x504 with 1 Axes>"
      ]
     },
     "metadata": {
      "needs_background": "light"
     },
     "output_type": "display_data"
    }
   ],
   "source": [
    "plt.figure(figsize=(10,7))\n",
    "sns.countplot(x=\"heart_disease\", data=strokes_df, hue=\"stroke\")\n",
    "plt.title(\"Relationship between Heart Disease and Stroke\")\n",
    "plt.xlabel(\"Heart Disease Status\")\n",
    "plt.ylabel(\"Count\")"
   ]
  },
  {
   "cell_type": "code",
   "execution_count": 19,
   "metadata": {},
   "outputs": [
    {
     "data": {
      "text/plain": [
       "Text(0, 0.5, 'Count')"
      ]
     },
     "execution_count": 19,
     "metadata": {},
     "output_type": "execute_result"
    },
    {
     "data": {
      "image/png": "[encoded data removed]",
      "text/plain": [
       "<Figure size 720x504 with 1 Axes>"
      ]
     },
     "metadata": {
      "needs_background": "light"
     },
     "output_type": "display_data"
    }
   ],
   "source": [
    "plt.figure(figsize=(10,7))\n",
    "sns.countplot(x=\"ever_married\", data=strokes_df, hue=\"stroke\")\n",
    "plt.title(\"Relationship between Marital Status and Stroke\")\n",
    "plt.xlabel(\"Marital Status\")\n",
    "plt.ylabel(\"Count\")"
   ]
  },
  {
   "cell_type": "code",
   "execution_count": 20,
   "metadata": {},
   "outputs": [
    {
     "data": {
      "text/plain": [
       "Text(0, 0.5, 'Count')"
      ]
     },
     "execution_count": 20,
     "metadata": {},
     "output_type": "execute_result"
    },
    {
     "data": {
      "image/png": "[encoded data removed]",
      "text/plain": [
       "<Figure size 720x504 with 1 Axes>"
      ]
     },
     "metadata": {
      "needs_background": "light"
     },
     "output_type": "display_data"
    }
   ],
   "source": [
    "plt.figure(figsize=(10,7))\n",
    "sns.countplot(x=\"work_type\", data=strokes_df, hue=\"stroke\")\n",
    "plt.title(\"Relationship between Work Type and Stroke\")\n",
    "plt.xlabel(\"Work Type\")\n",
    "plt.ylabel(\"Count\")"
   ]
  },
  {
   "cell_type": "code",
   "execution_count": 21,
   "metadata": {},
   "outputs": [
    {
     "data": {
      "text/plain": [
       "Text(0, 0.5, 'Count')"
      ]
     },
     "execution_count": 21,
     "metadata": {},
     "output_type": "execute_result"
    },
    {
     "data": {
      "image/png": "[encoded data removed]",
      "text/plain": [
       "<Figure size 720x504 with 1 Axes>"
      ]
     },
     "metadata": {
      "needs_background": "light"
     },
     "output_type": "display_data"
    }
   ],
   "source": [
    "plt.figure(figsize=(10,7))\n",
    "sns.countplot(x=\"Residence_type\", data=strokes_df, hue=\"stroke\")\n",
    "plt.title(\"Relationship between Residence Type and Stroke\")\n",
    "plt.xlabel(\"Residence Type\")\n",
    "plt.ylabel(\"Count\")"
   ]
  },
  {
   "cell_type": "code",
   "execution_count": 22,
   "metadata": {},
   "outputs": [
    {
     "data": {
      "text/plain": [
       "Text(0, 0.5, 'Count')"
      ]
     },
     "execution_count": 22,
     "metadata": {},
     "output_type": "execute_result"
    },
    {
     "data": {
      "image/png": "[encoded data removed]",
      "text/plain": [
       "<Figure size 720x504 with 1 Axes>"
      ]
     },
     "metadata": {
      "needs_background": "light"
     },
     "output_type": "display_data"
    }
   ],
   "source": [
    "plt.figure(figsize=(10,7))\n",
    "sns.countplot(x=\"smoking_status\", data=strokes_df, hue=\"stroke\")\n",
    "plt.title(\"Relationship between Smoking Status and Stroke\")\n",
    "plt.xlabel(\"Smoking Status\")\n",
    "plt.ylabel(\"Count\")"
   ]
  },
  {
   "cell_type": "markdown",
   "metadata": {},
   "source": [
    "## Data Pre-Processing"
   ]
  },
  {
   "cell_type": "code",
   "execution_count": 23,
   "metadata": {},
   "outputs": [
    {
     "data": {
      "text/html": [
       "<div>\n",
       "<style scoped>\n",
       "    .dataframe tbody tr th:only-of-type {\n",
       "        vertical-align: middle;\n",
       "    }\n",
       "\n",
       "    .dataframe tbody tr th {\n",
       "        vertical-align: top;\n",
       "    }\n",
       "\n",
       "    .dataframe thead th {\n",
       "        text-align: right;\n",
       "    }\n",
       "</style>\n",
       "<table border=\"1\" class=\"dataframe\">\n",
       "  <thead>\n",
       "    <tr style=\"text-align: right;\">\n",
       "      <th></th>\n",
       "      <th>gender</th>\n",
       "      <th>age</th>\n",
       "      <th>hypertension</th>\n",
       "      <th>heart_disease</th>\n",
       "      <th>ever_married</th>\n",
       "      <th>work_type</th>\n",
       "      <th>Residence_type</th>\n",
       "      <th>avg_glucose_level</th>\n",
       "      <th>bmi</th>\n",
       "      <th>smoking_status</th>\n",
       "      <th>stroke</th>\n",
       "    </tr>\n",
       "  </thead>\n",
       "  <tbody>\n",
       "    <tr>\n",
       "      <th>0</th>\n",
       "      <td>Male</td>\n",
       "      <td>67.0</td>\n",
       "      <td>0</td>\n",
       "      <td>1</td>\n",
       "      <td>Yes</td>\n",
       "      <td>Private</td>\n",
       "      <td>Urban</td>\n",
       "      <td>228.69</td>\n",
       "      <td>36.6</td>\n",
       "      <td>formerly smoked</td>\n",
       "      <td>1</td>\n",
       "    </tr>\n",
       "    <tr>\n",
       "      <th>1</th>\n",
       "      <td>Female</td>\n",
       "      <td>61.0</td>\n",
       "      <td>0</td>\n",
       "      <td>0</td>\n",
       "      <td>Yes</td>\n",
       "      <td>Self-employed</td>\n",
       "      <td>Rural</td>\n",
       "      <td>202.21</td>\n",
       "      <td>NaN</td>\n",
       "      <td>never smoked</td>\n",
       "      <td>1</td>\n",
       "    </tr>\n",
       "    <tr>\n",
       "      <th>2</th>\n",
       "      <td>Male</td>\n",
       "      <td>80.0</td>\n",
       "      <td>0</td>\n",
       "      <td>1</td>\n",
       "      <td>Yes</td>\n",
       "      <td>Private</td>\n",
       "      <td>Rural</td>\n",
       "      <td>105.92</td>\n",
       "      <td>32.5</td>\n",
       "      <td>never smoked</td>\n",
       "      <td>1</td>\n",
       "    </tr>\n",
       "    <tr>\n",
       "      <th>3</th>\n",
       "      <td>Female</td>\n",
       "      <td>49.0</td>\n",
       "      <td>0</td>\n",
       "      <td>0</td>\n",
       "      <td>Yes</td>\n",
       "      <td>Private</td>\n",
       "      <td>Urban</td>\n",
       "      <td>171.23</td>\n",
       "      <td>34.4</td>\n",
       "      <td>smokes</td>\n",
       "      <td>1</td>\n",
       "    </tr>\n",
       "    <tr>\n",
       "      <th>4</th>\n",
       "      <td>Female</td>\n",
       "      <td>79.0</td>\n",
       "      <td>1</td>\n",
       "      <td>0</td>\n",
       "      <td>Yes</td>\n",
       "      <td>Self-employed</td>\n",
       "      <td>Rural</td>\n",
       "      <td>174.12</td>\n",
       "      <td>24.0</td>\n",
       "      <td>never smoked</td>\n",
       "      <td>1</td>\n",
       "    </tr>\n",
       "  </tbody>\n",
       "</table>\n",
       "</div>"
      ],
      "text/plain": [
       "   gender   age  hypertension  heart_disease ever_married      work_type  \\\n",
       "0    Male  67.0             0              1          Yes        Private   \n",
       "1  Female  61.0             0              0          Yes  Self-employed   \n",
       "2    Male  80.0             0              1          Yes        Private   \n",
       "3  Female  49.0             0              0          Yes        Private   \n",
       "4  Female  79.0             1              0          Yes  Self-employed   \n",
       "\n",
       "  Residence_type  avg_glucose_level   bmi   smoking_status  stroke  \n",
       "0          Urban             228.69  36.6  formerly smoked       1  \n",
       "1          Rural             202.21   NaN     never smoked       1  \n",
       "2          Rural             105.92  32.5     never smoked       1  \n",
       "3          Urban             171.23  34.4           smokes       1  \n",
       "4          Rural             174.12  24.0     never smoked       1  "
      ]
     },
     "execution_count": 23,
     "metadata": {},
     "output_type": "execute_result"
    }
   ],
   "source": [
    "strokes_df.head()"
   ]
  },
  {
   "cell_type": "code",
   "execution_count": 24,
   "metadata": {},
   "outputs": [],
   "source": [
    "gender_dummies = pd.get_dummies(strokes_df[\"gender\"])\n",
    "married_dummies = pd.get_dummies(strokes_df[\"ever_married\"])\n",
    "work_dummies = pd.get_dummies(strokes_df[\"work_type\"])\n",
    "residence_dummies = pd.get_dummies(strokes_df[\"Residence_type\"])\n",
    "smoking_dummies = pd.get_dummies(strokes_df[\"smoking_status\"])"
   ]
  },
  {
   "cell_type": "code",
   "execution_count": 25,
   "metadata": {},
   "outputs": [
    {
     "data": {
      "text/plain": [
       "Index(['gender', 'age', 'hypertension', 'heart_disease', 'ever_married',\n",
       "       'work_type', 'Residence_type', 'avg_glucose_level', 'bmi',\n",
       "       'smoking_status', 'stroke'],\n",
       "      dtype='object')"
      ]
     },
     "execution_count": 25,
     "metadata": {},
     "output_type": "execute_result"
    }
   ],
   "source": [
    "strokes_df.columns"
   ]
  },
  {
   "cell_type": "code",
   "execution_count": 26,
   "metadata": {},
   "outputs": [],
   "source": [
    "strokes_df = strokes_df[['age', 'hypertension', 'heart_disease', 'avg_glucose_level', 'bmi','stroke']]"
   ]
  },
  {
   "cell_type": "code",
   "execution_count": 27,
   "metadata": {},
   "outputs": [],
   "source": [
    "df = pd.concat([strokes_df, gender_dummies, married_dummies, work_dummies, residence_dummies, smoking_dummies], axis=\"columns\")"
   ]
  },
  {
   "cell_type": "code",
   "execution_count": 28,
   "metadata": {},
   "outputs": [
    {
     "data": {
      "text/plain": [
       "Index(['age', 'hypertension', 'heart_disease', 'avg_glucose_level', 'bmi',\n",
       "       'stroke', 'Female', 'Male', 'Other', 'No', 'Yes', 'Govt_job',\n",
       "       'Never_worked', 'Private', 'Self-employed', 'children', 'Rural',\n",
       "       'Urban', 'Unknown', 'formerly smoked', 'never smoked', 'smokes'],\n",
       "      dtype='object')"
      ]
     },
     "execution_count": 28,
     "metadata": {},
     "output_type": "execute_result"
    }
   ],
   "source": [
    "df.columns"
   ]
  },
  {
   "cell_type": "code",
   "execution_count": 29,
   "metadata": {},
   "outputs": [],
   "source": [
    "df = df[['age', 'hypertension', 'heart_disease', 'avg_glucose_level', 'bmi',\n",
    "       'stroke', 'Female', 'Male', 'No','Govt_job',\n",
    "       'Never_worked', 'Private', 'Self-employed', 'Rural', 'formerly smoked', 'never smoked', 'smokes']]"
   ]
  },
  {
   "cell_type": "code",
   "execution_count": 30,
   "metadata": {},
   "outputs": [
    {
     "data": {
      "text/html": [
       "<div>\n",
       "<style scoped>\n",
       "    .dataframe tbody tr th:only-of-type {\n",
       "        vertical-align: middle;\n",
       "    }\n",
       "\n",
       "    .dataframe tbody tr th {\n",
       "        vertical-align: top;\n",
       "    }\n",
       "\n",
       "    .dataframe thead th {\n",
       "        text-align: right;\n",
       "    }\n",
       "</style>\n",
       "<table border=\"1\" class=\"dataframe\">\n",
       "  <thead>\n",
       "    <tr style=\"text-align: right;\">\n",
       "      <th></th>\n",
       "      <th>age</th>\n",
       "      <th>hypertension</th>\n",
       "      <th>heart_disease</th>\n",
       "      <th>avg_glucose_level</th>\n",
       "      <th>bmi</th>\n",
       "      <th>stroke</th>\n",
       "      <th>Female</th>\n",
       "      <th>Male</th>\n",
       "      <th>No</th>\n",
       "      <th>Govt_job</th>\n",
       "      <th>Never_worked</th>\n",
       "      <th>Private</th>\n",
       "      <th>Self-employed</th>\n",
       "      <th>Rural</th>\n",
       "      <th>formerly smoked</th>\n",
       "      <th>never smoked</th>\n",
       "      <th>smokes</th>\n",
       "    </tr>\n",
       "  </thead>\n",
       "  <tbody>\n",
       "    <tr>\n",
       "      <th>0</th>\n",
       "      <td>67.0</td>\n",
       "      <td>0</td>\n",
       "      <td>1</td>\n",
       "      <td>228.69</td>\n",
       "      <td>36.6</td>\n",
       "      <td>1</td>\n",
       "      <td>0</td>\n",
       "      <td>1</td>\n",
       "      <td>0</td>\n",
       "      <td>0</td>\n",
       "      <td>0</td>\n",
       "      <td>1</td>\n",
       "      <td>0</td>\n",
       "      <td>0</td>\n",
       "      <td>1</td>\n",
       "      <td>0</td>\n",
       "      <td>0</td>\n",
       "    </tr>\n",
       "    <tr>\n",
       "      <th>1</th>\n",
       "      <td>61.0</td>\n",
       "      <td>0</td>\n",
       "      <td>0</td>\n",
       "      <td>202.21</td>\n",
       "      <td>NaN</td>\n",
       "      <td>1</td>\n",
       "      <td>1</td>\n",
       "      <td>0</td>\n",
       "      <td>0</td>\n",
       "      <td>0</td>\n",
       "      <td>0</td>\n",
       "      <td>0</td>\n",
       "      <td>1</td>\n",
       "      <td>1</td>\n",
       "      <td>0</td>\n",
       "      <td>1</td>\n",
       "      <td>0</td>\n",
       "    </tr>\n",
       "    <tr>\n",
       "      <th>2</th>\n",
       "      <td>80.0</td>\n",
       "      <td>0</td>\n",
       "      <td>1</td>\n",
       "      <td>105.92</td>\n",
       "      <td>32.5</td>\n",
       "      <td>1</td>\n",
       "      <td>0</td>\n",
       "      <td>1</td>\n",
       "      <td>0</td>\n",
       "      <td>0</td>\n",
       "      <td>0</td>\n",
       "      <td>1</td>\n",
       "      <td>0</td>\n",
       "      <td>1</td>\n",
       "      <td>0</td>\n",
       "      <td>1</td>\n",
       "      <td>0</td>\n",
       "    </tr>\n",
       "    <tr>\n",
       "      <th>3</th>\n",
       "      <td>49.0</td>\n",
       "      <td>0</td>\n",
       "      <td>0</td>\n",
       "      <td>171.23</td>\n",
       "      <td>34.4</td>\n",
       "      <td>1</td>\n",
       "      <td>1</td>\n",
       "      <td>0</td>\n",
       "      <td>0</td>\n",
       "      <td>0</td>\n",
       "      <td>0</td>\n",
       "      <td>1</td>\n",
       "      <td>0</td>\n",
       "      <td>0</td>\n",
       "      <td>0</td>\n",
       "      <td>0</td>\n",
       "      <td>1</td>\n",
       "    </tr>\n",
       "    <tr>\n",
       "      <th>4</th>\n",
       "      <td>79.0</td>\n",
       "      <td>1</td>\n",
       "      <td>0</td>\n",
       "      <td>174.12</td>\n",
       "      <td>24.0</td>\n",
       "      <td>1</td>\n",
       "      <td>1</td>\n",
       "      <td>0</td>\n",
       "      <td>0</td>\n",
       "      <td>0</td>\n",
       "      <td>0</td>\n",
       "      <td>0</td>\n",
       "      <td>1</td>\n",
       "      <td>1</td>\n",
       "      <td>0</td>\n",
       "      <td>1</td>\n",
       "      <td>0</td>\n",
       "    </tr>\n",
       "  </tbody>\n",
       "</table>\n",
       "</div>"
      ],
      "text/plain": [
       "    age  hypertension  heart_disease  avg_glucose_level   bmi  stroke  Female  \\\n",
       "0  67.0             0              1             228.69  36.6       1       0   \n",
       "1  61.0             0              0             202.21   NaN       1       1   \n",
       "2  80.0             0              1             105.92  32.5       1       0   \n",
       "3  49.0             0              0             171.23  34.4       1       1   \n",
       "4  79.0             1              0             174.12  24.0       1       1   \n",
       "\n",
       "   Male  No  Govt_job  Never_worked  Private  Self-employed  Rural  \\\n",
       "0     1   0         0             0        1              0      0   \n",
       "1     0   0         0             0        0              1      1   \n",
       "2     1   0         0             0        1              0      1   \n",
       "3     0   0         0             0        1              0      0   \n",
       "4     0   0         0             0        0              1      1   \n",
       "\n",
       "   formerly smoked  never smoked  smokes  \n",
       "0                1             0       0  \n",
       "1                0             1       0  \n",
       "2                0             1       0  \n",
       "3                0             0       1  \n",
       "4                0             1       0  "
      ]
     },
     "execution_count": 30,
     "metadata": {},
     "output_type": "execute_result"
    }
   ],
   "source": [
    "df.head()"
   ]
  },
  {
   "cell_type": "code",
   "execution_count": 31,
   "metadata": {},
   "outputs": [
    {
     "data": {
      "text/plain": [
       "age                    0\n",
       "hypertension           0\n",
       "heart_disease          0\n",
       "avg_glucose_level      0\n",
       "bmi                  201\n",
       "stroke                 0\n",
       "Female                 0\n",
       "Male                   0\n",
       "No                     0\n",
       "Govt_job               0\n",
       "Never_worked           0\n",
       "Private                0\n",
       "Self-employed          0\n",
       "Rural                  0\n",
       "formerly smoked        0\n",
       "never smoked           0\n",
       "smokes                 0\n",
       "dtype: int64"
      ]
     },
     "execution_count": 31,
     "metadata": {},
     "output_type": "execute_result"
    }
   ],
   "source": [
    "df.isnull().sum()"
   ]
  },
  {
   "cell_type": "code",
   "execution_count": 32,
   "metadata": {},
   "outputs": [],
   "source": [
    "bmiMedianValue = df[\"bmi\"].median() "
   ]
  },
  {
   "cell_type": "code",
   "execution_count": 33,
   "metadata": {},
   "outputs": [
    {
     "name": "stdout",
     "output_type": "stream",
     "text": [
      "28.1\n"
     ]
    }
   ],
   "source": [
    "print(bmiMedianValue)"
   ]
  },
  {
   "cell_type": "code",
   "execution_count": 34,
   "metadata": {},
   "outputs": [],
   "source": [
    "df[\"bmi\"].fillna(bmiMedianValue,inplace=True)"
   ]
  },
  {
   "cell_type": "code",
   "execution_count": 35,
   "metadata": {},
   "outputs": [
    {
     "data": {
      "text/plain": [
       "age                  0\n",
       "hypertension         0\n",
       "heart_disease        0\n",
       "avg_glucose_level    0\n",
       "bmi                  0\n",
       "stroke               0\n",
       "Female               0\n",
       "Male                 0\n",
       "No                   0\n",
       "Govt_job             0\n",
       "Never_worked         0\n",
       "Private              0\n",
       "Self-employed        0\n",
       "Rural                0\n",
       "formerly smoked      0\n",
       "never smoked         0\n",
       "smokes               0\n",
       "dtype: int64"
      ]
     },
     "execution_count": 35,
     "metadata": {},
     "output_type": "execute_result"
    }
   ],
   "source": [
    "df.isnull().sum()"
   ]
  },
  {
   "cell_type": "code",
   "execution_count": 36,
   "metadata": {},
   "outputs": [
    {
     "data": {
      "text/plain": [
       "count    5110.000000\n",
       "mean       28.862035\n",
       "std         7.699562\n",
       "min        10.300000\n",
       "25%        23.800000\n",
       "50%        28.100000\n",
       "75%        32.800000\n",
       "max        97.600000\n",
       "Name: bmi, dtype: float64"
      ]
     },
     "execution_count": 36,
     "metadata": {},
     "output_type": "execute_result"
    }
   ],
   "source": [
    "df[\"bmi\"].describe()"
   ]
  },
  {
   "cell_type": "code",
   "execution_count": 37,
   "metadata": {},
   "outputs": [
    {
     "data": {
      "text/plain": [
       "Text(0.5, 1.0, 'Correlation Heatmap')"
      ]
     },
     "execution_count": 37,
     "metadata": {},
     "output_type": "execute_result"
    },
    {
     "data": {
      "image/png": "[encoded data removed]",
      "text/plain": [
       "<Figure size 1440x576 with 2 Axes>"
      ]
     },
     "metadata": {
      "needs_background": "light"
     },
     "output_type": "display_data"
    }
   ],
   "source": [
    "plt.figure(figsize=(20, 8))\n",
    "heatmap = sns.heatmap(df.corr(), vmin=-1, vmax=1, annot=True, cmap='BrBG')\n",
    "heatmap.set_title('Correlation Heatmap', fontdict={'fontsize':18}, pad=12)"
   ]
  },
  {
   "cell_type": "markdown",
   "metadata": {},
   "source": [
    "## Feature Selection"
   ]
  },
  {
   "cell_type": "code",
   "execution_count": 38,
   "metadata": {},
   "outputs": [],
   "source": [
    "from sklearn.feature_selection import SelectKBest, chi2"
   ]
  },
  {
   "cell_type": "code",
   "execution_count": 39,
   "metadata": {},
   "outputs": [],
   "source": [
    "X = df.drop(\"stroke\", axis=1)\n",
    "y = df[\"stroke\"]"
   ]
  },
  {
   "cell_type": "code",
   "execution_count": 40,
   "metadata": {},
   "outputs": [],
   "source": [
    "bestFeatures = SelectKBest(score_func=chi2, k=10)\n",
    "fit = bestFeatures.fit(X,y)"
   ]
  },
  {
   "cell_type": "code",
   "execution_count": 41,
   "metadata": {},
   "outputs": [],
   "source": [
    "scores = pd.DataFrame(fit.scores_)\n",
    "cols = pd.DataFrame(X.columns)"
   ]
  },
  {
   "cell_type": "code",
   "execution_count": 42,
   "metadata": {},
   "outputs": [],
   "source": [
    "bestFeaturesDf = pd.concat([cols, scores], axis=1)\n",
    "bestFeaturesDf.columns = ['Features', 'Score']"
   ]
  },
  {
   "cell_type": "code",
   "execution_count": 43,
   "metadata": {},
   "outputs": [
    {
     "name": "stdout",
     "output_type": "stream",
     "text": [
      "             Features        Score\n",
      "0                 age  3635.226911\n",
      "1        hypertension    75.449498\n",
      "2       heart_disease    87.987436\n",
      "3   avg_glucose_level  1718.285446\n",
      "4                 bmi    13.683435\n",
      "5              Female     0.172411\n",
      "6                Male     0.248952\n",
      "7                  No    39.355836\n",
      "8            Govt_job     0.031905\n",
      "9        Never_worked     1.126929\n",
      "10            Private     0.308806\n",
      "11      Self-employed    16.584252\n",
      "12              Rural     0.620311\n",
      "13    formerly smoked    17.607359\n",
      "14       never smoked     0.054854\n",
      "15             smokes     0.345288\n"
     ]
    }
   ],
   "source": [
    "print(bestFeaturesDf)"
   ]
  },
  {
   "cell_type": "code",
   "execution_count": 44,
   "metadata": {},
   "outputs": [
    {
     "name": "stdout",
     "output_type": "stream",
     "text": [
      "             Features        Score\n",
      "0                 age  3635.226911\n",
      "3   avg_glucose_level  1718.285446\n",
      "2       heart_disease    87.987436\n",
      "1        hypertension    75.449498\n",
      "7                  No    39.355836\n",
      "13    formerly smoked    17.607359\n",
      "11      Self-employed    16.584252\n",
      "4                 bmi    13.683435\n"
     ]
    }
   ],
   "source": [
    "print(bestFeaturesDf.nlargest(8, \"Score\"))"
   ]
  },
  {
   "cell_type": "code",
   "execution_count": 45,
   "metadata": {},
   "outputs": [],
   "source": [
    "bestOnes = ['age', 'avg_glucose_level', 'bmi', 'heart_disease', 'hypertension', 'No', 'formerly smoked', 'Self-employed']"
   ]
  },
  {
   "cell_type": "code",
   "execution_count": 46,
   "metadata": {},
   "outputs": [
    {
     "data": {
      "text/html": [
       "<div>\n",
       "<style scoped>\n",
       "    .dataframe tbody tr th:only-of-type {\n",
       "        vertical-align: middle;\n",
       "    }\n",
       "\n",
       "    .dataframe tbody tr th {\n",
       "        vertical-align: top;\n",
       "    }\n",
       "\n",
       "    .dataframe thead th {\n",
       "        text-align: right;\n",
       "    }\n",
       "</style>\n",
       "<table border=\"1\" class=\"dataframe\">\n",
       "  <thead>\n",
       "    <tr style=\"text-align: right;\">\n",
       "      <th></th>\n",
       "      <th>age</th>\n",
       "      <th>avg_glucose_level</th>\n",
       "      <th>bmi</th>\n",
       "      <th>heart_disease</th>\n",
       "      <th>hypertension</th>\n",
       "      <th>No</th>\n",
       "      <th>formerly smoked</th>\n",
       "      <th>Self-employed</th>\n",
       "    </tr>\n",
       "  </thead>\n",
       "  <tbody>\n",
       "    <tr>\n",
       "      <th>count</th>\n",
       "      <td>5110.000000</td>\n",
       "      <td>5110.000000</td>\n",
       "      <td>5110.000000</td>\n",
       "      <td>5110.000000</td>\n",
       "      <td>5110.000000</td>\n",
       "      <td>5110.000000</td>\n",
       "      <td>5110.000000</td>\n",
       "      <td>5110.000000</td>\n",
       "    </tr>\n",
       "    <tr>\n",
       "      <th>mean</th>\n",
       "      <td>43.226614</td>\n",
       "      <td>106.147677</td>\n",
       "      <td>28.862035</td>\n",
       "      <td>0.054012</td>\n",
       "      <td>0.097456</td>\n",
       "      <td>0.343836</td>\n",
       "      <td>0.173190</td>\n",
       "      <td>0.160274</td>\n",
       "    </tr>\n",
       "    <tr>\n",
       "      <th>std</th>\n",
       "      <td>22.612647</td>\n",
       "      <td>45.283560</td>\n",
       "      <td>7.699562</td>\n",
       "      <td>0.226063</td>\n",
       "      <td>0.296607</td>\n",
       "      <td>0.475034</td>\n",
       "      <td>0.378448</td>\n",
       "      <td>0.366896</td>\n",
       "    </tr>\n",
       "    <tr>\n",
       "      <th>min</th>\n",
       "      <td>0.080000</td>\n",
       "      <td>55.120000</td>\n",
       "      <td>10.300000</td>\n",
       "      <td>0.000000</td>\n",
       "      <td>0.000000</td>\n",
       "      <td>0.000000</td>\n",
       "      <td>0.000000</td>\n",
       "      <td>0.000000</td>\n",
       "    </tr>\n",
       "    <tr>\n",
       "      <th>25%</th>\n",
       "      <td>25.000000</td>\n",
       "      <td>77.245000</td>\n",
       "      <td>23.800000</td>\n",
       "      <td>0.000000</td>\n",
       "      <td>0.000000</td>\n",
       "      <td>0.000000</td>\n",
       "      <td>0.000000</td>\n",
       "      <td>0.000000</td>\n",
       "    </tr>\n",
       "    <tr>\n",
       "      <th>50%</th>\n",
       "      <td>45.000000</td>\n",
       "      <td>91.885000</td>\n",
       "      <td>28.100000</td>\n",
       "      <td>0.000000</td>\n",
       "      <td>0.000000</td>\n",
       "      <td>0.000000</td>\n",
       "      <td>0.000000</td>\n",
       "      <td>0.000000</td>\n",
       "    </tr>\n",
       "    <tr>\n",
       "      <th>75%</th>\n",
       "      <td>61.000000</td>\n",
       "      <td>114.090000</td>\n",
       "      <td>32.800000</td>\n",
       "      <td>0.000000</td>\n",
       "      <td>0.000000</td>\n",
       "      <td>1.000000</td>\n",
       "      <td>0.000000</td>\n",
       "      <td>0.000000</td>\n",
       "    </tr>\n",
       "    <tr>\n",
       "      <th>max</th>\n",
       "      <td>82.000000</td>\n",
       "      <td>271.740000</td>\n",
       "      <td>97.600000</td>\n",
       "      <td>1.000000</td>\n",
       "      <td>1.000000</td>\n",
       "      <td>1.000000</td>\n",
       "      <td>1.000000</td>\n",
       "      <td>1.000000</td>\n",
       "    </tr>\n",
       "  </tbody>\n",
       "</table>\n",
       "</div>"
      ],
      "text/plain": [
       "               age  avg_glucose_level          bmi  heart_disease  \\\n",
       "count  5110.000000        5110.000000  5110.000000    5110.000000   \n",
       "mean     43.226614         106.147677    28.862035       0.054012   \n",
       "std      22.612647          45.283560     7.699562       0.226063   \n",
       "min       0.080000          55.120000    10.300000       0.000000   \n",
       "25%      25.000000          77.245000    23.800000       0.000000   \n",
       "50%      45.000000          91.885000    28.100000       0.000000   \n",
       "75%      61.000000         114.090000    32.800000       0.000000   \n",
       "max      82.000000         271.740000    97.600000       1.000000   \n",
       "\n",
       "       hypertension           No  formerly smoked  Self-employed  \n",
       "count   5110.000000  5110.000000      5110.000000    5110.000000  \n",
       "mean       0.097456     0.343836         0.173190       0.160274  \n",
       "std        0.296607     0.475034         0.378448       0.366896  \n",
       "min        0.000000     0.000000         0.000000       0.000000  \n",
       "25%        0.000000     0.000000         0.000000       0.000000  \n",
       "50%        0.000000     0.000000         0.000000       0.000000  \n",
       "75%        0.000000     1.000000         0.000000       0.000000  \n",
       "max        1.000000     1.000000         1.000000       1.000000  "
      ]
     },
     "execution_count": 46,
     "metadata": {},
     "output_type": "execute_result"
    }
   ],
   "source": [
    "df[bestOnes].describe()"
   ]
  },
  {
   "cell_type": "code",
   "execution_count": 47,
   "metadata": {},
   "outputs": [],
   "source": [
    "X = df[bestOnes]\n",
    "y = df[\"stroke\"]"
   ]
  },
  {
   "cell_type": "code",
   "execution_count": 48,
   "metadata": {},
   "outputs": [
    {
     "name": "stdout",
     "output_type": "stream",
     "text": [
      "(5110, 8) (5110,)\n"
     ]
    }
   ],
   "source": [
    "print(X.shape, y.shape)"
   ]
  },
  {
   "cell_type": "code",
   "execution_count": 49,
   "metadata": {},
   "outputs": [
    {
     "data": {
      "text/html": [
       "<div>\n",
       "<style scoped>\n",
       "    .dataframe tbody tr th:only-of-type {\n",
       "        vertical-align: middle;\n",
       "    }\n",
       "\n",
       "    .dataframe tbody tr th {\n",
       "        vertical-align: top;\n",
       "    }\n",
       "\n",
       "    .dataframe thead th {\n",
       "        text-align: right;\n",
       "    }\n",
       "</style>\n",
       "<table border=\"1\" class=\"dataframe\">\n",
       "  <thead>\n",
       "    <tr style=\"text-align: right;\">\n",
       "      <th></th>\n",
       "      <th>age</th>\n",
       "      <th>avg_glucose_level</th>\n",
       "      <th>bmi</th>\n",
       "      <th>heart_disease</th>\n",
       "      <th>hypertension</th>\n",
       "      <th>No</th>\n",
       "      <th>formerly smoked</th>\n",
       "      <th>Self-employed</th>\n",
       "    </tr>\n",
       "  </thead>\n",
       "  <tbody>\n",
       "    <tr>\n",
       "      <th>0</th>\n",
       "      <td>67.0</td>\n",
       "      <td>228.69</td>\n",
       "      <td>36.6</td>\n",
       "      <td>1</td>\n",
       "      <td>0</td>\n",
       "      <td>0</td>\n",
       "      <td>1</td>\n",
       "      <td>0</td>\n",
       "    </tr>\n",
       "    <tr>\n",
       "      <th>1</th>\n",
       "      <td>61.0</td>\n",
       "      <td>202.21</td>\n",
       "      <td>28.1</td>\n",
       "      <td>0</td>\n",
       "      <td>0</td>\n",
       "      <td>0</td>\n",
       "      <td>0</td>\n",
       "      <td>1</td>\n",
       "    </tr>\n",
       "    <tr>\n",
       "      <th>2</th>\n",
       "      <td>80.0</td>\n",
       "      <td>105.92</td>\n",
       "      <td>32.5</td>\n",
       "      <td>1</td>\n",
       "      <td>0</td>\n",
       "      <td>0</td>\n",
       "      <td>0</td>\n",
       "      <td>0</td>\n",
       "    </tr>\n",
       "    <tr>\n",
       "      <th>3</th>\n",
       "      <td>49.0</td>\n",
       "      <td>171.23</td>\n",
       "      <td>34.4</td>\n",
       "      <td>0</td>\n",
       "      <td>0</td>\n",
       "      <td>0</td>\n",
       "      <td>0</td>\n",
       "      <td>0</td>\n",
       "    </tr>\n",
       "    <tr>\n",
       "      <th>4</th>\n",
       "      <td>79.0</td>\n",
       "      <td>174.12</td>\n",
       "      <td>24.0</td>\n",
       "      <td>0</td>\n",
       "      <td>1</td>\n",
       "      <td>0</td>\n",
       "      <td>0</td>\n",
       "      <td>1</td>\n",
       "    </tr>\n",
       "  </tbody>\n",
       "</table>\n",
       "</div>"
      ],
      "text/plain": [
       "    age  avg_glucose_level   bmi  heart_disease  hypertension  No  \\\n",
       "0  67.0             228.69  36.6              1             0   0   \n",
       "1  61.0             202.21  28.1              0             0   0   \n",
       "2  80.0             105.92  32.5              1             0   0   \n",
       "3  49.0             171.23  34.4              0             0   0   \n",
       "4  79.0             174.12  24.0              0             1   0   \n",
       "\n",
       "   formerly smoked  Self-employed  \n",
       "0                1              0  \n",
       "1                0              1  \n",
       "2                0              0  \n",
       "3                0              0  \n",
       "4                0              1  "
      ]
     },
     "execution_count": 49,
     "metadata": {},
     "output_type": "execute_result"
    }
   ],
   "source": [
    "X.head()"
   ]
  },
  {
   "cell_type": "markdown",
   "metadata": {},
   "source": [
    "## Working on the Imbalanced Data"
   ]
  },
  {
   "cell_type": "code",
   "execution_count": 50,
   "metadata": {},
   "outputs": [],
   "source": [
    "from imblearn.combine import SMOTETomek \n",
    "from collections import Counter"
   ]
  },
  {
   "cell_type": "code",
   "execution_count": 51,
   "metadata": {},
   "outputs": [
    {
     "data": {
      "text/plain": [
       "Text(0, 0.5, 'Count')"
      ]
     },
     "execution_count": 51,
     "metadata": {},
     "output_type": "execute_result"
    },
    {
     "data": {
      "image/png": "[encoded data removed]",
      "text/plain": [
       "<Figure size 720x504 with 1 Axes>"
      ]
     },
     "metadata": {
      "needs_background": "light"
     },
     "output_type": "display_data"
    }
   ],
   "source": [
    "plt.figure(figsize=(10,7))\n",
    "sns.countplot(strokes_df[\"stroke\"])\n",
    "plt.title(\"Classes Count\")\n",
    "plt.xlabel(\"Outcome\")\n",
    "plt.ylabel(\"Count\")"
   ]
  },
  {
   "cell_type": "code",
   "execution_count": 52,
   "metadata": {},
   "outputs": [],
   "source": [
    "yes_stroke = df[df[\"stroke\"] == 1]\n",
    "no_stroke = df[df[\"stroke\"] == 0]"
   ]
  },
  {
   "cell_type": "code",
   "execution_count": 53,
   "metadata": {},
   "outputs": [
    {
     "name": "stdout",
     "output_type": "stream",
     "text": [
      "(249, 17) (4861, 17)\n"
     ]
    }
   ],
   "source": [
    "print(yes_stroke.shape, no_stroke.shape)"
   ]
  },
  {
   "cell_type": "code",
   "execution_count": 54,
   "metadata": {},
   "outputs": [],
   "source": [
    "smote = SMOTETomek(random_state=123)"
   ]
  },
  {
   "cell_type": "code",
   "execution_count": 55,
   "metadata": {},
   "outputs": [],
   "source": [
    "X_res, y_res = smote.fit_resample(X, y)"
   ]
  },
  {
   "cell_type": "code",
   "execution_count": 56,
   "metadata": {},
   "outputs": [
    {
     "name": "stdout",
     "output_type": "stream",
     "text": [
      "(9572, 8) (9572,)\n"
     ]
    }
   ],
   "source": [
    "print(X_res.shape, y_res.shape)"
   ]
  },
  {
   "cell_type": "code",
   "execution_count": 57,
   "metadata": {},
   "outputs": [
    {
     "name": "stdout",
     "output_type": "stream",
     "text": [
      "Original dataset shape Counter({0: 4861, 1: 249})\n",
      "Resampled dataset shape Counter({1: 4786, 0: 4786})\n"
     ]
    }
   ],
   "source": [
    "print(\"Original dataset shape {}\".format(Counter(y)))\n",
    "print(\"Resampled dataset shape {}\".format(Counter(y_res)))"
   ]
  },
  {
   "cell_type": "code",
   "execution_count": 58,
   "metadata": {},
   "outputs": [
    {
     "data": {
      "text/plain": [
       "1    4786\n",
       "0    4786\n",
       "Name: stroke, dtype: int64"
      ]
     },
     "execution_count": 58,
     "metadata": {},
     "output_type": "execute_result"
    }
   ],
   "source": [
    "y_res.value_counts()"
   ]
  },
  {
   "cell_type": "code",
   "execution_count": 59,
   "metadata": {},
   "outputs": [],
   "source": [
    "from sklearn.preprocessing import MinMaxScaler\n",
    "from sklearn.model_selection import train_test_split"
   ]
  },
  {
   "cell_type": "code",
   "execution_count": 60,
   "metadata": {},
   "outputs": [],
   "source": [
    "X_train, X_test, y_train, y_test = train_test_split(X, y, test_size=0.3, random_state=42)"
   ]
  },
  {
   "cell_type": "code",
   "execution_count": 61,
   "metadata": {},
   "outputs": [],
   "source": [
    "scaler = MinMaxScaler()"
   ]
  },
  {
   "cell_type": "code",
   "execution_count": 62,
   "metadata": {},
   "outputs": [],
   "source": [
    "X_res = scaler.fit_transform(X_res)\n",
    "X_test = scaler.fit_transform(X_test)"
   ]
  },
  {
   "cell_type": "code",
   "execution_count": 63,
   "metadata": {},
   "outputs": [
    {
     "name": "stdout",
     "output_type": "stream",
     "text": [
      "(9572, 8) (1533, 8)\n"
     ]
    }
   ],
   "source": [
    "print(X_res.shape, X_test.shape)"
   ]
  },
  {
   "cell_type": "markdown",
   "metadata": {},
   "source": [
    "## ANN Model"
   ]
  },
  {
   "cell_type": "markdown",
   "metadata": {},
   "source": [
    "### 1. Model with Nadam Optimizer"
   ]
  },
  {
   "cell_type": "code",
   "execution_count": 64,
   "metadata": {},
   "outputs": [],
   "source": [
    "model_1 = tf.keras.models.Sequential()"
   ]
  },
  {
   "cell_type": "code",
   "execution_count": 65,
   "metadata": {},
   "outputs": [],
   "source": [
    "model_1.add(tf.keras.layers.Dense(units=128, activation='relu', input_shape=(8,)))"
   ]
  },
  {
   "cell_type": "code",
   "execution_count": 66,
   "metadata": {},
   "outputs": [],
   "source": [
    "model_1.add(tf.keras.layers.Dense(units=64, activation='relu'))"
   ]
  },
  {
   "cell_type": "code",
   "execution_count": 67,
   "metadata": {},
   "outputs": [],
   "source": [
    "model_1.add(tf.keras.layers.Dense(units=32, activation='relu'))"
   ]
  },
  {
   "cell_type": "code",
   "execution_count": 68,
   "metadata": {},
   "outputs": [],
   "source": [
    "model_1.add(tf.keras.layers.Dense(units=1, activation = 'sigmoid'))"
   ]
  },
  {
   "cell_type": "code",
   "execution_count": 69,
   "metadata": {},
   "outputs": [],
   "source": [
    "model_1.compile(optimizer = tf.keras.optimizers.Nadam(learning_rate=0.1), loss = 'binary_crossentropy', metrics = ['accuracy'])"
   ]
  },
  {
   "cell_type": "code",
   "execution_count": 70,
   "metadata": {},
   "outputs": [
    {
     "name": "stdout",
     "output_type": "stream",
     "text": [
      "Model: \"sequential\"\n",
      "_________________________________________________________________\n",
      "Layer (type)                 Output Shape              Param #   \n",
      "=================================================================\n",
      "dense (Dense)                (None, 128)               1152      \n",
      "_________________________________________________________________\n",
      "dense_1 (Dense)              (None, 64)                8256      \n",
      "_________________________________________________________________\n",
      "dense_2 (Dense)              (None, 32)                2080      \n",
      "_________________________________________________________________\n",
      "dense_3 (Dense)              (None, 1)                 33        \n",
      "=================================================================\n",
      "Total params: 11,521\n",
      "Trainable params: 11,521\n",
      "Non-trainable params: 0\n",
      "_________________________________________________________________\n"
     ]
    }
   ],
   "source": [
    "model_1.summary()"
   ]
  },
  {
   "cell_type": "code",
   "execution_count": 71,
   "metadata": {},
   "outputs": [
    {
     "name": "stdout",
     "output_type": "stream",
     "text": [
      "Epoch 1/150\n",
      "300/300 [==============================] - 1s 2ms/step - loss: 0.5475 - accuracy: 0.7233\n",
      "Epoch 2/150\n",
      "300/300 [==============================] - 1s 2ms/step - loss: 0.4434 - accuracy: 0.7952\n",
      "Epoch 3/150\n",
      "300/300 [==============================] - 1s 2ms/step - loss: 0.4401 - accuracy: 0.8048\n",
      "Epoch 4/150\n",
      "300/300 [==============================] - 0s 1ms/step - loss: 0.4263 - accuracy: 0.8067\n",
      "Epoch 5/150\n",
      "300/300 [==============================] - 0s 1ms/step - loss: 0.4257 - accuracy: 0.8074\n",
      "Epoch 6/150\n",
      "300/300 [==============================] - 0s 1ms/step - loss: 0.4252 - accuracy: 0.8094\n",
      "Epoch 7/150\n",
      "300/300 [==============================] - 0s 1ms/step - loss: 0.4471 - accuracy: 0.7990\n",
      "Epoch 8/150\n",
      "300/300 [==============================] - 0s 1ms/step - loss: 0.4278 - accuracy: 0.7988\n",
      "Epoch 9/150\n",
      "300/300 [==============================] - 0s 1ms/step - loss: 0.4253 - accuracy: 0.8032\n",
      "Epoch 10/150\n",
      "300/300 [==============================] - 0s 1ms/step - loss: 0.4213 - accuracy: 0.8092\n",
      "Epoch 11/150\n",
      "300/300 [==============================] - 1s 2ms/step - loss: 0.4194 - accuracy: 0.8111\n",
      "Epoch 12/150\n",
      "300/300 [==============================] - 1s 2ms/step - loss: 0.4173 - accuracy: 0.8105\n",
      "Epoch 13/150\n",
      "300/300 [==============================] - 1s 2ms/step - loss: 0.4192 - accuracy: 0.8084\n",
      "Epoch 14/150\n",
      "300/300 [==============================] - 1s 2ms/step - loss: 0.4199 - accuracy: 0.8066\n",
      "Epoch 15/150\n",
      "300/300 [==============================] - 1s 2ms/step - loss: 0.4143 - accuracy: 0.8136\n",
      "Epoch 16/150\n",
      "300/300 [==============================] - 1s 2ms/step - loss: 0.4185 - accuracy: 0.8121\n",
      "Epoch 17/150\n",
      "300/300 [==============================] - 1s 2ms/step - loss: 0.4101 - accuracy: 0.8130: 0s - loss: 0.4147 - \n",
      "Epoch 18/150\n",
      "300/300 [==============================] - 1s 2ms/step - loss: 0.4086 - accuracy: 0.8162\n",
      "Epoch 19/150\n",
      "300/300 [==============================] - 1s 2ms/step - loss: 0.4105 - accuracy: 0.8156\n",
      "Epoch 20/150\n",
      "300/300 [==============================] - 1s 2ms/step - loss: 0.4093 - accuracy: 0.8117\n",
      "Epoch 21/150\n",
      "300/300 [==============================] - 1s 2ms/step - loss: 0.4073 - accuracy: 0.8158\n",
      "Epoch 22/150\n",
      "300/300 [==============================] - 1s 2ms/step - loss: 0.4092 - accuracy: 0.8171\n",
      "Epoch 23/150\n",
      "300/300 [==============================] - 1s 2ms/step - loss: 0.4064 - accuracy: 0.8171\n",
      "Epoch 24/150\n",
      "300/300 [==============================] - 0s 994us/step - loss: 0.4098 - accuracy: 0.8134\n",
      "Epoch 25/150\n",
      "300/300 [==============================] - 0s 944us/step - loss: 0.4058 - accuracy: 0.8142\n",
      "Epoch 26/150\n",
      "300/300 [==============================] - 0s 1ms/step - loss: 0.4072 - accuracy: 0.8157\n",
      "Epoch 27/150\n",
      "300/300 [==============================] - 0s 1ms/step - loss: 0.4083 - accuracy: 0.8159\n",
      "Epoch 28/150\n",
      "300/300 [==============================] - 0s 945us/step - loss: 0.4319 - accuracy: 0.8114\n",
      "Epoch 29/150\n",
      "300/300 [==============================] - 0s 930us/step - loss: 0.4099 - accuracy: 0.8125\n",
      "Epoch 30/150\n",
      "300/300 [==============================] - 0s 971us/step - loss: 0.4097 - accuracy: 0.8151\n",
      "Epoch 31/150\n",
      "300/300 [==============================] - 1s 2ms/step - loss: 0.4396 - accuracy: 0.7966\n",
      "Epoch 32/150\n",
      "300/300 [==============================] - 1s 2ms/step - loss: 0.4174 - accuracy: 0.8068\n",
      "Epoch 33/150\n",
      "300/300 [==============================] - 1s 2ms/step - loss: 0.4133 - accuracy: 0.8109\n",
      "Epoch 34/150\n",
      "300/300 [==============================] - 1s 2ms/step - loss: 0.4109 - accuracy: 0.8124\n",
      "Epoch 35/150\n",
      "300/300 [==============================] - 1s 2ms/step - loss: 0.4116 - accuracy: 0.8130\n",
      "Epoch 36/150\n",
      "300/300 [==============================] - 1s 2ms/step - loss: 0.4112 - accuracy: 0.8127\n",
      "Epoch 37/150\n",
      "300/300 [==============================] - 1s 2ms/step - loss: 0.4100 - accuracy: 0.8140\n",
      "Epoch 38/150\n",
      "300/300 [==============================] - 1s 2ms/step - loss: 0.4064 - accuracy: 0.8156\n",
      "Epoch 39/150\n",
      "300/300 [==============================] - 1s 2ms/step - loss: 0.4034 - accuracy: 0.8180\n",
      "Epoch 40/150\n",
      "300/300 [==============================] - 1s 2ms/step - loss: 0.4045 - accuracy: 0.8133\n",
      "Epoch 41/150\n",
      "300/300 [==============================] - 1s 2ms/step - loss: 0.4060 - accuracy: 0.8138\n",
      "Epoch 42/150\n",
      "300/300 [==============================] - 1s 2ms/step - loss: 0.4077 - accuracy: 0.8144\n",
      "Epoch 43/150\n",
      "300/300 [==============================] - 1s 2ms/step - loss: 0.4058 - accuracy: 0.8163\n",
      "Epoch 44/150\n",
      "300/300 [==============================] - 1s 2ms/step - loss: 0.4049 - accuracy: 0.8170\n",
      "Epoch 45/150\n",
      "300/300 [==============================] - 1s 2ms/step - loss: 0.4049 - accuracy: 0.8151\n",
      "Epoch 46/150\n",
      "300/300 [==============================] - 1s 2ms/step - loss: 0.4110 - accuracy: 0.8150\n",
      "Epoch 47/150\n",
      "300/300 [==============================] - 1s 2ms/step - loss: 0.4014 - accuracy: 0.8219\n",
      "Epoch 48/150\n",
      "300/300 [==============================] - 1s 2ms/step - loss: 0.3977 - accuracy: 0.8214\n",
      "Epoch 49/150\n",
      "300/300 [==============================] - 1s 2ms/step - loss: 0.4000 - accuracy: 0.8206\n",
      "Epoch 50/150\n",
      "300/300 [==============================] - 1s 2ms/step - loss: 0.3993 - accuracy: 0.8228\n",
      "Epoch 51/150\n",
      "300/300 [==============================] - 1s 2ms/step - loss: 0.3966 - accuracy: 0.8209\n",
      "Epoch 52/150\n",
      "300/300 [==============================] - 0s 2ms/step - loss: 0.3974 - accuracy: 0.8221\n",
      "Epoch 53/150\n",
      "300/300 [==============================] - 0s 927us/step - loss: 0.3965 - accuracy: 0.8251\n",
      "Epoch 54/150\n",
      "300/300 [==============================] - 0s 941us/step - loss: 0.3957 - accuracy: 0.8225\n",
      "Epoch 55/150\n",
      "300/300 [==============================] - 0s 894us/step - loss: 0.3992 - accuracy: 0.8200\n",
      "Epoch 56/150\n",
      "300/300 [==============================] - 0s 907us/step - loss: 0.3955 - accuracy: 0.8241\n",
      "Epoch 57/150\n",
      "300/300 [==============================] - 0s 875us/step - loss: 0.3963 - accuracy: 0.8232\n",
      "Epoch 58/150\n",
      "300/300 [==============================] - 0s 940us/step - loss: 0.3981 - accuracy: 0.8193\n",
      "Epoch 59/150\n",
      "300/300 [==============================] - 0s 1ms/step - loss: 0.3991 - accuracy: 0.8212\n",
      "Epoch 60/150\n",
      "300/300 [==============================] - 1s 2ms/step - loss: 0.3974 - accuracy: 0.8198\n",
      "Epoch 61/150\n",
      "300/300 [==============================] - 1s 2ms/step - loss: 0.3980 - accuracy: 0.8218\n",
      "Epoch 62/150\n",
      "300/300 [==============================] - 1s 2ms/step - loss: 0.3973 - accuracy: 0.8228\n",
      "Epoch 63/150\n",
      "300/300 [==============================] - 1s 2ms/step - loss: 0.3960 - accuracy: 0.8225\n",
      "Epoch 64/150\n",
      "300/300 [==============================] - 1s 2ms/step - loss: 0.3962 - accuracy: 0.8224\n",
      "Epoch 65/150\n",
      "300/300 [==============================] - 1s 2ms/step - loss: 0.3919 - accuracy: 0.8218\n",
      "Epoch 66/150\n",
      "300/300 [==============================] - 1s 2ms/step - loss: 0.3953 - accuracy: 0.8223\n",
      "Epoch 67/150\n",
      "300/300 [==============================] - 1s 2ms/step - loss: 0.3939 - accuracy: 0.8222\n",
      "Epoch 68/150\n",
      "300/300 [==============================] - 1s 2ms/step - loss: 0.3942 - accuracy: 0.8209\n",
      "Epoch 69/150\n",
      "300/300 [==============================] - 1s 2ms/step - loss: 0.3911 - accuracy: 0.8234\n",
      "Epoch 70/150\n",
      "300/300 [==============================] - 1s 2ms/step - loss: 0.3936 - accuracy: 0.8238\n",
      "Epoch 71/150\n",
      "300/300 [==============================] - 1s 2ms/step - loss: 0.3978 - accuracy: 0.8190\n",
      "Epoch 72/150\n",
      "300/300 [==============================] - 1s 2ms/step - loss: 0.4009 - accuracy: 0.8191\n",
      "Epoch 73/150\n",
      "300/300 [==============================] - 1s 2ms/step - loss: 0.3963 - accuracy: 0.8208\n",
      "Epoch 74/150\n",
      "300/300 [==============================] - 1s 2ms/step - loss: 0.3949 - accuracy: 0.8237\n",
      "Epoch 75/150\n",
      "300/300 [==============================] - 1s 2ms/step - loss: 0.3951 - accuracy: 0.8202\n",
      "Epoch 76/150\n",
      "300/300 [==============================] - 1s 2ms/step - loss: 0.3948 - accuracy: 0.8207\n",
      "Epoch 77/150\n",
      "300/300 [==============================] - 1s 2ms/step - loss: 0.3997 - accuracy: 0.8223\n",
      "Epoch 78/150\n",
      "300/300 [==============================] - 1s 2ms/step - loss: 0.3967 - accuracy: 0.8194\n",
      "Epoch 79/150\n",
      "300/300 [==============================] - 1s 2ms/step - loss: 0.3959 - accuracy: 0.8209\n",
      "Epoch 80/150\n",
      "300/300 [==============================] - 1s 2ms/step - loss: 0.3959 - accuracy: 0.8225\n"
     ]
    },
    {
     "name": "stdout",
     "output_type": "stream",
     "text": [
      "Epoch 81/150\n",
      "300/300 [==============================] - 0s 929us/step - loss: 0.3936 - accuracy: 0.8239\n",
      "Epoch 82/150\n",
      "300/300 [==============================] - 0s 904us/step - loss: 0.3947 - accuracy: 0.8248\n",
      "Epoch 83/150\n",
      "300/300 [==============================] - 0s 899us/step - loss: 0.3939 - accuracy: 0.8215\n",
      "Epoch 84/150\n",
      "300/300 [==============================] - 0s 902us/step - loss: 0.3932 - accuracy: 0.8241\n",
      "Epoch 85/150\n",
      "300/300 [==============================] - 0s 922us/step - loss: 0.3959 - accuracy: 0.8209\n",
      "Epoch 86/150\n",
      "300/300 [==============================] - 0s 887us/step - loss: 0.3938 - accuracy: 0.8199\n",
      "Epoch 87/150\n",
      "300/300 [==============================] - 0s 908us/step - loss: 0.3941 - accuracy: 0.8241\n",
      "Epoch 88/150\n",
      "300/300 [==============================] - 0s 912us/step - loss: 0.3947 - accuracy: 0.8235\n",
      "Epoch 89/150\n",
      "300/300 [==============================] - 1s 2ms/step - loss: 0.3905 - accuracy: 0.8276\n",
      "Epoch 90/150\n",
      "300/300 [==============================] - 1s 2ms/step - loss: 0.3933 - accuracy: 0.8210\n",
      "Epoch 91/150\n",
      "300/300 [==============================] - 1s 2ms/step - loss: 0.3936 - accuracy: 0.8200\n",
      "Epoch 92/150\n",
      "300/300 [==============================] - 1s 2ms/step - loss: 0.3935 - accuracy: 0.8205\n",
      "Epoch 93/150\n",
      "300/300 [==============================] - 1s 2ms/step - loss: 0.3931 - accuracy: 0.8229\n",
      "Epoch 94/150\n",
      "300/300 [==============================] - 1s 2ms/step - loss: 0.3940 - accuracy: 0.8255\n",
      "Epoch 95/150\n",
      "300/300 [==============================] - 1s 2ms/step - loss: 0.3950 - accuracy: 0.8222\n",
      "Epoch 96/150\n",
      "300/300 [==============================] - 1s 2ms/step - loss: 0.3927 - accuracy: 0.8224\n",
      "Epoch 97/150\n",
      "300/300 [==============================] - 1s 2ms/step - loss: 0.3914 - accuracy: 0.8243\n",
      "Epoch 98/150\n",
      "300/300 [==============================] - 1s 2ms/step - loss: 0.3931 - accuracy: 0.8256\n",
      "Epoch 99/150\n",
      "300/300 [==============================] - 1s 2ms/step - loss: 0.3918 - accuracy: 0.8232\n",
      "Epoch 100/150\n",
      "300/300 [==============================] - 0s 1ms/step - loss: 0.3946 - accuracy: 0.8217\n",
      "Epoch 101/150\n",
      "300/300 [==============================] - 0s 918us/step - loss: 0.3944 - accuracy: 0.8254\n",
      "Epoch 102/150\n",
      "300/300 [==============================] - 0s 903us/step - loss: 0.3918 - accuracy: 0.8255\n",
      "Epoch 103/150\n",
      "300/300 [==============================] - 0s 1000us/step - loss: 0.3953 - accuracy: 0.8225\n",
      "Epoch 104/150\n",
      "300/300 [==============================] - 0s 927us/step - loss: 0.3945 - accuracy: 0.8230\n",
      "Epoch 105/150\n",
      "300/300 [==============================] - 0s 1000us/step - loss: 0.3950 - accuracy: 0.8181\n",
      "Epoch 106/150\n",
      "300/300 [==============================] - 0s 980us/step - loss: 0.3951 - accuracy: 0.8225\n",
      "Epoch 107/150\n",
      "300/300 [==============================] - 0s 908us/step - loss: 0.3953 - accuracy: 0.8209\n",
      "Epoch 108/150\n",
      "300/300 [==============================] - 1s 2ms/step - loss: 0.3938 - accuracy: 0.8207\n",
      "Epoch 109/150\n",
      "300/300 [==============================] - 1s 2ms/step - loss: 0.3955 - accuracy: 0.8191\n",
      "Epoch 110/150\n",
      "300/300 [==============================] - 1s 2ms/step - loss: 0.3928 - accuracy: 0.8242\n",
      "Epoch 111/150\n",
      "300/300 [==============================] - 1s 2ms/step - loss: 0.3917 - accuracy: 0.8227\n",
      "Epoch 112/150\n",
      "300/300 [==============================] - 1s 2ms/step - loss: 0.3928 - accuracy: 0.8222\n",
      "Epoch 113/150\n",
      "300/300 [==============================] - 1s 2ms/step - loss: 0.3927 - accuracy: 0.8229\n",
      "Epoch 114/150\n",
      "300/300 [==============================] - 1s 2ms/step - loss: 0.3925 - accuracy: 0.8252\n",
      "Epoch 115/150\n",
      "300/300 [==============================] - 1s 2ms/step - loss: 0.3949 - accuracy: 0.8195\n",
      "Epoch 116/150\n",
      "300/300 [==============================] - 1s 2ms/step - loss: 0.3951 - accuracy: 0.8199\n",
      "Epoch 117/150\n",
      "300/300 [==============================] - 1s 2ms/step - loss: 0.3942 - accuracy: 0.8206\n",
      "Epoch 118/150\n",
      "300/300 [==============================] - 1s 2ms/step - loss: 0.3942 - accuracy: 0.8206\n",
      "Epoch 119/150\n",
      "300/300 [==============================] - 1s 2ms/step - loss: 0.3988 - accuracy: 0.8223\n",
      "Epoch 120/150\n",
      "300/300 [==============================] - 1s 2ms/step - loss: 0.3939 - accuracy: 0.8202\n",
      "Epoch 121/150\n",
      "300/300 [==============================] - 1s 2ms/step - loss: 0.3958 - accuracy: 0.8231\n",
      "Epoch 122/150\n",
      "300/300 [==============================] - 1s 2ms/step - loss: 0.3925 - accuracy: 0.8257\n",
      "Epoch 123/150\n",
      "300/300 [==============================] - 1s 2ms/step - loss: 0.3923 - accuracy: 0.8217\n",
      "Epoch 124/150\n",
      "300/300 [==============================] - 1s 2ms/step - loss: 0.3924 - accuracy: 0.8252\n",
      "Epoch 125/150\n",
      "300/300 [==============================] - 1s 2ms/step - loss: 0.3925 - accuracy: 0.8239\n",
      "Epoch 126/150\n",
      "300/300 [==============================] - 1s 2ms/step - loss: 0.3949 - accuracy: 0.8214\n",
      "Epoch 127/150\n",
      "300/300 [==============================] - 0s 1ms/step - loss: 0.3938 - accuracy: 0.8224\n",
      "Epoch 128/150\n",
      "300/300 [==============================] - 0s 981us/step - loss: 0.3931 - accuracy: 0.8225\n",
      "Epoch 129/150\n",
      "300/300 [==============================] - 0s 993us/step - loss: 0.3918 - accuracy: 0.8249\n",
      "Epoch 130/150\n",
      "300/300 [==============================] - 0s 908us/step - loss: 0.3912 - accuracy: 0.8253\n",
      "Epoch 131/150\n",
      "300/300 [==============================] - 0s 1ms/step - loss: 0.3940 - accuracy: 0.8249\n",
      "Epoch 132/150\n",
      "300/300 [==============================] - 0s 970us/step - loss: 0.3942 - accuracy: 0.8221\n",
      "Epoch 133/150\n",
      "300/300 [==============================] - 0s 1ms/step - loss: 0.3938 - accuracy: 0.8214\n",
      "Epoch 134/150\n",
      "300/300 [==============================] - 1s 2ms/step - loss: 0.3931 - accuracy: 0.8225\n",
      "Epoch 135/150\n",
      "300/300 [==============================] - 1s 2ms/step - loss: 0.3925 - accuracy: 0.8243\n",
      "Epoch 136/150\n",
      "300/300 [==============================] - 1s 2ms/step - loss: 0.3941 - accuracy: 0.8240\n",
      "Epoch 137/150\n",
      "300/300 [==============================] - 1s 2ms/step - loss: 0.3937 - accuracy: 0.8211\n",
      "Epoch 138/150\n",
      "300/300 [==============================] - 1s 2ms/step - loss: 0.3948 - accuracy: 0.8237\n",
      "Epoch 139/150\n",
      "300/300 [==============================] - 1s 2ms/step - loss: 0.3924 - accuracy: 0.8198\n",
      "Epoch 140/150\n",
      "300/300 [==============================] - 1s 2ms/step - loss: 0.3904 - accuracy: 0.8248\n",
      "Epoch 141/150\n",
      "300/300 [==============================] - 1s 2ms/step - loss: 0.3908 - accuracy: 0.8265\n",
      "Epoch 142/150\n",
      "300/300 [==============================] - 1s 2ms/step - loss: 0.3906 - accuracy: 0.8260\n",
      "Epoch 143/150\n",
      "300/300 [==============================] - 1s 2ms/step - loss: 0.3927 - accuracy: 0.8219\n",
      "Epoch 144/150\n",
      "300/300 [==============================] - 1s 2ms/step - loss: 0.3946 - accuracy: 0.8241\n",
      "Epoch 145/150\n",
      "300/300 [==============================] - 1s 2ms/step - loss: 0.3945 - accuracy: 0.8235\n",
      "Epoch 146/150\n",
      "300/300 [==============================] - 1s 2ms/step - loss: 0.3928 - accuracy: 0.8261\n",
      "Epoch 147/150\n",
      "300/300 [==============================] - 1s 2ms/step - loss: 0.3902 - accuracy: 0.8247\n",
      "Epoch 148/150\n",
      "300/300 [==============================] - 0s 1ms/step - loss: 0.3983 - accuracy: 0.8238\n",
      "Epoch 149/150\n",
      "300/300 [==============================] - 0s 942us/step - loss: 0.3935 - accuracy: 0.8227\n",
      "Epoch 150/150\n",
      "300/300 [==============================] - 0s 1ms/step - loss: 0.3938 - accuracy: 0.8219\n"
     ]
    },
    {
     "data": {
      "text/plain": [
       "<tensorflow.python.keras.callbacks.History at 0x1d0f1678f48>"
      ]
     },
     "execution_count": 71,
     "metadata": {},
     "output_type": "execute_result"
    }
   ],
   "source": [
    "model_1.fit(x= X_res, y= y_res, epochs=150)"
   ]
  },
  {
   "cell_type": "markdown",
   "metadata": {},
   "source": [
    "### 2. Model with Adamax Optimizer"
   ]
  },
  {
   "cell_type": "code",
   "execution_count": 72,
   "metadata": {},
   "outputs": [],
   "source": [
    "model_2 = tf.keras.models.Sequential()"
   ]
  },
  {
   "cell_type": "code",
   "execution_count": 73,
   "metadata": {},
   "outputs": [],
   "source": [
    "model_2.add(tf.keras.layers.Dense(units=128, activation='relu', input_shape=(8,)))"
   ]
  },
  {
   "cell_type": "code",
   "execution_count": 74,
   "metadata": {},
   "outputs": [],
   "source": [
    "model_2.add(tf.keras.layers.Dense(units=64, activation='relu'))"
   ]
  },
  {
   "cell_type": "code",
   "execution_count": 75,
   "metadata": {},
   "outputs": [],
   "source": [
    "model_2.add(tf.keras.layers.Dense(units=32, activation='relu'))"
   ]
  },
  {
   "cell_type": "code",
   "execution_count": 76,
   "metadata": {},
   "outputs": [],
   "source": [
    "model_2.add(tf.keras.layers.Dense(units=1, activation = 'sigmoid'))"
   ]
  },
  {
   "cell_type": "code",
   "execution_count": 77,
   "metadata": {},
   "outputs": [],
   "source": [
    "model_2.compile(optimizer = tf.keras.optimizers.Adamax(learning_rate=0.1), loss = 'binary_crossentropy', metrics = ['accuracy'])"
   ]
  },
  {
   "cell_type": "code",
   "execution_count": 78,
   "metadata": {},
   "outputs": [
    {
     "name": "stdout",
     "output_type": "stream",
     "text": [
      "Model: \"sequential_1\"\n",
      "_________________________________________________________________\n",
      "Layer (type)                 Output Shape              Param #   \n",
      "=================================================================\n",
      "dense_4 (Dense)              (None, 128)               1152      \n",
      "_________________________________________________________________\n",
      "dense_5 (Dense)              (None, 64)                8256      \n",
      "_________________________________________________________________\n",
      "dense_6 (Dense)              (None, 32)                2080      \n",
      "_________________________________________________________________\n",
      "dense_7 (Dense)              (None, 1)                 33        \n",
      "=================================================================\n",
      "Total params: 11,521\n",
      "Trainable params: 11,521\n",
      "Non-trainable params: 0\n",
      "_________________________________________________________________\n"
     ]
    }
   ],
   "source": [
    "model_2.summary()"
   ]
  },
  {
   "cell_type": "code",
   "execution_count": 79,
   "metadata": {},
   "outputs": [
    {
     "name": "stdout",
     "output_type": "stream",
     "text": [
      "Epoch 1/150\n",
      "300/300 [==============================] - 0s 842us/step - loss: 0.4727 - accuracy: 0.7756\n",
      "Epoch 2/150\n",
      "300/300 [==============================] - 0s 899us/step - loss: 0.4059 - accuracy: 0.8148\n",
      "Epoch 3/150\n",
      "300/300 [==============================] - 0s 1ms/step - loss: 0.4101 - accuracy: 0.8130\n",
      "Epoch 4/150\n",
      "300/300 [==============================] - 1s 2ms/step - loss: 0.4041 - accuracy: 0.8186\n",
      "Epoch 5/150\n",
      "300/300 [==============================] - 1s 2ms/step - loss: 0.4024 - accuracy: 0.8172\n",
      "Epoch 6/150\n",
      "300/300 [==============================] - 1s 2ms/step - loss: 0.4052 - accuracy: 0.8168: 0s - loss: 0.4\n",
      "Epoch 7/150\n",
      "300/300 [==============================] - 1s 2ms/step - loss: 0.3987 - accuracy: 0.8229\n",
      "Epoch 8/150\n",
      "300/300 [==============================] - 1s 2ms/step - loss: 0.3988 - accuracy: 0.8223\n",
      "Epoch 9/150\n",
      "300/300 [==============================] - 1s 2ms/step - loss: 0.3925 - accuracy: 0.8262\n",
      "Epoch 10/150\n",
      "300/300 [==============================] - 1s 2ms/step - loss: 0.3927 - accuracy: 0.8249\n",
      "Epoch 11/150\n",
      "300/300 [==============================] - 1s 2ms/step - loss: 0.3901 - accuracy: 0.8249\n",
      "Epoch 12/150\n",
      "300/300 [==============================] - 1s 2ms/step - loss: 0.3885 - accuracy: 0.8270\n",
      "Epoch 13/150\n",
      "300/300 [==============================] - 1s 2ms/step - loss: 0.3877 - accuracy: 0.8232\n",
      "Epoch 14/150\n",
      "300/300 [==============================] - 1s 2ms/step - loss: 0.3851 - accuracy: 0.8230\n",
      "Epoch 15/150\n",
      "300/300 [==============================] - 1s 2ms/step - loss: 0.3849 - accuracy: 0.8256\n",
      "Epoch 16/150\n",
      "300/300 [==============================] - 1s 2ms/step - loss: 0.3782 - accuracy: 0.8313\n",
      "Epoch 17/150\n",
      "300/300 [==============================] - 1s 2ms/step - loss: 0.3843 - accuracy: 0.8269\n",
      "Epoch 18/150\n",
      "300/300 [==============================] - 1s 2ms/step - loss: 0.3759 - accuracy: 0.8305\n",
      "Epoch 19/150\n",
      "300/300 [==============================] - 1s 2ms/step - loss: 0.3725 - accuracy: 0.8339\n",
      "Epoch 20/150\n",
      "300/300 [==============================] - 1s 2ms/step - loss: 0.3714 - accuracy: 0.8350\n",
      "Epoch 21/150\n",
      "300/300 [==============================] - 1s 2ms/step - loss: 0.3663 - accuracy: 0.8399\n",
      "Epoch 22/150\n",
      "300/300 [==============================] - 1s 2ms/step - loss: 0.3721 - accuracy: 0.8361\n",
      "Epoch 23/150\n",
      "300/300 [==============================] - 1s 2ms/step - loss: 0.3703 - accuracy: 0.8363\n",
      "Epoch 24/150\n",
      "300/300 [==============================] - 0s 1ms/step - loss: 0.3646 - accuracy: 0.8397\n",
      "Epoch 25/150\n",
      "300/300 [==============================] - 0s 834us/step - loss: 0.3656 - accuracy: 0.83780s - loss: 0.3690 - accuracy: 0.83\n",
      "Epoch 26/150\n",
      "300/300 [==============================] - 0s 832us/step - loss: 0.3607 - accuracy: 0.8437\n",
      "Epoch 27/150\n",
      "300/300 [==============================] - 0s 849us/step - loss: 0.3653 - accuracy: 0.8383\n",
      "Epoch 28/150\n",
      "300/300 [==============================] - 0s 837us/step - loss: 0.3627 - accuracy: 0.8411\n",
      "Epoch 29/150\n",
      "300/300 [==============================] - 0s 845us/step - loss: 0.3615 - accuracy: 0.8408\n",
      "Epoch 30/150\n",
      "300/300 [==============================] - 0s 847us/step - loss: 0.3616 - accuracy: 0.8439\n",
      "Epoch 31/150\n",
      "300/300 [==============================] - 0s 833us/step - loss: 0.3594 - accuracy: 0.8425\n",
      "Epoch 32/150\n",
      "300/300 [==============================] - 0s 837us/step - loss: 0.3601 - accuracy: 0.8407\n",
      "Epoch 33/150\n",
      "300/300 [==============================] - 1s 2ms/step - loss: 0.3607 - accuracy: 0.8429\n",
      "Epoch 34/150\n",
      "300/300 [==============================] - 1s 2ms/step - loss: 0.3611 - accuracy: 0.8453\n",
      "Epoch 35/150\n",
      "300/300 [==============================] - 1s 2ms/step - loss: 0.3584 - accuracy: 0.8417\n",
      "Epoch 36/150\n",
      "300/300 [==============================] - 1s 2ms/step - loss: 0.3578 - accuracy: 0.8440\n",
      "Epoch 37/150\n",
      "300/300 [==============================] - 1s 2ms/step - loss: 0.3574 - accuracy: 0.8448\n",
      "Epoch 38/150\n",
      "300/300 [==============================] - 1s 2ms/step - loss: 0.3601 - accuracy: 0.8442\n",
      "Epoch 39/150\n",
      "300/300 [==============================] - 1s 2ms/step - loss: 0.3575 - accuracy: 0.8455\n",
      "Epoch 40/150\n",
      "300/300 [==============================] - 1s 2ms/step - loss: 0.3593 - accuracy: 0.8420\n",
      "Epoch 41/150\n",
      "300/300 [==============================] - 0s 917us/step - loss: 0.3536 - accuracy: 0.8482\n",
      "Epoch 42/150\n",
      "300/300 [==============================] - 0s 862us/step - loss: 0.3563 - accuracy: 0.8463\n",
      "Epoch 43/150\n",
      "300/300 [==============================] - 0s 848us/step - loss: 0.3547 - accuracy: 0.8491\n",
      "Epoch 44/150\n",
      "300/300 [==============================] - 0s 857us/step - loss: 0.3529 - accuracy: 0.8448\n",
      "Epoch 45/150\n",
      "300/300 [==============================] - 0s 832us/step - loss: 0.3496 - accuracy: 0.8506\n",
      "Epoch 46/150\n",
      "300/300 [==============================] - 0s 827us/step - loss: 0.3533 - accuracy: 0.8455\n",
      "Epoch 47/150\n",
      "300/300 [==============================] - 0s 831us/step - loss: 0.3486 - accuracy: 0.8482\n",
      "Epoch 48/150\n",
      "300/300 [==============================] - 0s 865us/step - loss: 0.3542 - accuracy: 0.8476\n",
      "Epoch 49/150\n",
      "300/300 [==============================] - 0s 1ms/step - loss: 0.3498 - accuracy: 0.8486\n",
      "Epoch 50/150\n",
      "300/300 [==============================] - 1s 2ms/step - loss: 0.3505 - accuracy: 0.8491\n",
      "Epoch 51/150\n",
      "300/300 [==============================] - 1s 2ms/step - loss: 0.3484 - accuracy: 0.8510\n",
      "Epoch 52/150\n",
      "300/300 [==============================] - 1s 2ms/step - loss: 0.3486 - accuracy: 0.8509\n",
      "Epoch 53/150\n",
      "300/300 [==============================] - 1s 2ms/step - loss: 0.3531 - accuracy: 0.8460\n",
      "Epoch 54/150\n",
      "300/300 [==============================] - 1s 2ms/step - loss: 0.3512 - accuracy: 0.8475\n",
      "Epoch 55/150\n",
      "300/300 [==============================] - 1s 2ms/step - loss: 0.3465 - accuracy: 0.8494\n",
      "Epoch 56/150\n",
      "300/300 [==============================] - 1s 2ms/step - loss: 0.3449 - accuracy: 0.8501\n",
      "Epoch 57/150\n",
      "300/300 [==============================] - 1s 2ms/step - loss: 0.3428 - accuracy: 0.8520\n",
      "Epoch 58/150\n",
      "300/300 [==============================] - 1s 2ms/step - loss: 0.3429 - accuracy: 0.8514\n",
      "Epoch 59/150\n",
      "300/300 [==============================] - 1s 2ms/step - loss: 0.3400 - accuracy: 0.8545\n",
      "Epoch 60/150\n",
      "300/300 [==============================] - 1s 2ms/step - loss: 0.3459 - accuracy: 0.8488\n",
      "Epoch 61/150\n",
      "300/300 [==============================] - 1s 2ms/step - loss: 0.3436 - accuracy: 0.8533\n",
      "Epoch 62/150\n",
      "300/300 [==============================] - 1s 2ms/step - loss: 0.3442 - accuracy: 0.8509\n",
      "Epoch 63/150\n",
      "300/300 [==============================] - 0s 1ms/step - loss: 0.3446 - accuracy: 0.8509\n",
      "Epoch 64/150\n",
      "300/300 [==============================] - 0s 849us/step - loss: 0.3445 - accuracy: 0.8509\n",
      "Epoch 65/150\n",
      "300/300 [==============================] - 0s 838us/step - loss: 0.3425 - accuracy: 0.8498\n",
      "Epoch 66/150\n",
      "300/300 [==============================] - 0s 857us/step - loss: 0.3391 - accuracy: 0.8547\n",
      "Epoch 67/150\n",
      "300/300 [==============================] - 0s 855us/step - loss: 0.3383 - accuracy: 0.8532\n",
      "Epoch 68/150\n",
      "300/300 [==============================] - 0s 845us/step - loss: 0.3434 - accuracy: 0.8534\n",
      "Epoch 69/150\n",
      "300/300 [==============================] - 0s 858us/step - loss: 0.3429 - accuracy: 0.8524\n",
      "Epoch 70/150\n",
      "300/300 [==============================] - 0s 880us/step - loss: 0.3423 - accuracy: 0.8517\n",
      "Epoch 71/150\n",
      "300/300 [==============================] - 0s 947us/step - loss: 0.3414 - accuracy: 0.8527\n",
      "Epoch 72/150\n",
      "300/300 [==============================] - 1s 2ms/step - loss: 0.3414 - accuracy: 0.8531\n",
      "Epoch 73/150\n",
      "300/300 [==============================] - 1s 2ms/step - loss: 0.3432 - accuracy: 0.8511\n",
      "Epoch 74/150\n",
      "300/300 [==============================] - 1s 2ms/step - loss: 0.3405 - accuracy: 0.8531\n",
      "Epoch 75/150\n",
      "300/300 [==============================] - 1s 2ms/step - loss: 0.3406 - accuracy: 0.8568\n",
      "Epoch 76/150\n",
      "300/300 [==============================] - 1s 2ms/step - loss: 0.3391 - accuracy: 0.8575\n",
      "Epoch 77/150\n",
      "300/300 [==============================] - 1s 2ms/step - loss: 0.3403 - accuracy: 0.8550: 0s - loss: 0.3273 - \n",
      "Epoch 78/150\n",
      "300/300 [==============================] - 1s 2ms/step - loss: 0.3388 - accuracy: 0.8529\n",
      "Epoch 79/150\n",
      "300/300 [==============================] - 1s 2ms/step - loss: 0.3332 - accuracy: 0.8588\n",
      "Epoch 80/150\n"
     ]
    },
    {
     "name": "stdout",
     "output_type": "stream",
     "text": [
      "300/300 [==============================] - 1s 2ms/step - loss: 0.3384 - accuracy: 0.8531\n",
      "Epoch 81/150\n",
      "300/300 [==============================] - 1s 2ms/step - loss: 0.3374 - accuracy: 0.8532\n",
      "Epoch 82/150\n",
      "300/300 [==============================] - 1s 2ms/step - loss: 0.3382 - accuracy: 0.8541\n",
      "Epoch 83/150\n",
      "300/300 [==============================] - 1s 2ms/step - loss: 0.3394 - accuracy: 0.8550\n",
      "Epoch 84/150\n",
      "300/300 [==============================] - 1s 2ms/step - loss: 0.3403 - accuracy: 0.8535\n",
      "Epoch 85/150\n",
      "300/300 [==============================] - 1s 2ms/step - loss: 0.3393 - accuracy: 0.8531\n",
      "Epoch 86/150\n",
      "300/300 [==============================] - 1s 2ms/step - loss: 0.3382 - accuracy: 0.8520\n",
      "Epoch 87/150\n",
      "300/300 [==============================] - 1s 2ms/step - loss: 0.3406 - accuracy: 0.8588\n",
      "Epoch 88/150\n",
      "300/300 [==============================] - 0s 1ms/step - loss: 0.3353 - accuracy: 0.8529\n",
      "Epoch 89/150\n",
      "300/300 [==============================] - 0s 828us/step - loss: 0.3382 - accuracy: 0.8558\n",
      "Epoch 90/150\n",
      "300/300 [==============================] - 0s 823us/step - loss: 0.3345 - accuracy: 0.8579\n",
      "Epoch 91/150\n",
      "300/300 [==============================] - 0s 822us/step - loss: 0.3362 - accuracy: 0.8558\n",
      "Epoch 92/150\n",
      "300/300 [==============================] - 0s 840us/step - loss: 0.3389 - accuracy: 0.8537\n",
      "Epoch 93/150\n",
      "300/300 [==============================] - 0s 987us/step - loss: 0.3373 - accuracy: 0.8558\n",
      "Epoch 94/150\n",
      "300/300 [==============================] - 0s 980us/step - loss: 0.3374 - accuracy: 0.8523\n",
      "Epoch 95/150\n",
      "300/300 [==============================] - 0s 1ms/step - loss: 0.3353 - accuracy: 0.8550\n",
      "Epoch 96/150\n",
      "300/300 [==============================] - 0s 1ms/step - loss: 0.3382 - accuracy: 0.8562\n",
      "Epoch 97/150\n",
      "300/300 [==============================] - 1s 2ms/step - loss: 0.3365 - accuracy: 0.8532\n",
      "Epoch 98/150\n",
      "300/300 [==============================] - 1s 2ms/step - loss: 0.3373 - accuracy: 0.8542\n",
      "Epoch 99/150\n",
      "300/300 [==============================] - 1s 2ms/step - loss: 0.3334 - accuracy: 0.8576\n",
      "Epoch 100/150\n",
      "300/300 [==============================] - 1s 2ms/step - loss: 0.3354 - accuracy: 0.8558\n",
      "Epoch 101/150\n",
      "300/300 [==============================] - 1s 2ms/step - loss: 0.3322 - accuracy: 0.8580\n",
      "Epoch 102/150\n",
      "300/300 [==============================] - 1s 2ms/step - loss: 0.3351 - accuracy: 0.8554\n",
      "Epoch 103/150\n",
      "300/300 [==============================] - 1s 2ms/step - loss: 0.3350 - accuracy: 0.8574\n",
      "Epoch 104/150\n",
      "300/300 [==============================] - 1s 2ms/step - loss: 0.3393 - accuracy: 0.8544\n",
      "Epoch 105/150\n",
      "300/300 [==============================] - 1s 2ms/step - loss: 0.3340 - accuracy: 0.8558\n",
      "Epoch 106/150\n",
      "300/300 [==============================] - 1s 2ms/step - loss: 0.3365 - accuracy: 0.8554\n",
      "Epoch 107/150\n",
      "300/300 [==============================] - 1s 3ms/step - loss: 0.3331 - accuracy: 0.8573\n",
      "Epoch 108/150\n",
      "300/300 [==============================] - 1s 2ms/step - loss: 0.3338 - accuracy: 0.8565\n",
      "Epoch 109/150\n",
      "300/300 [==============================] - 1s 2ms/step - loss: 0.3308 - accuracy: 0.8593\n",
      "Epoch 110/150\n",
      "300/300 [==============================] - 1s 2ms/step - loss: 0.3307 - accuracy: 0.8572\n",
      "Epoch 111/150\n",
      "300/300 [==============================] - 1s 2ms/step - loss: 0.3337 - accuracy: 0.8575\n",
      "Epoch 112/150\n",
      "300/300 [==============================] - 1s 2ms/step - loss: 0.3326 - accuracy: 0.8565\n",
      "Epoch 113/150\n",
      "300/300 [==============================] - 1s 2ms/step - loss: 0.3338 - accuracy: 0.8558\n",
      "Epoch 114/150\n",
      "300/300 [==============================] - 1s 2ms/step - loss: 0.3318 - accuracy: 0.8575\n",
      "Epoch 115/150\n",
      "300/300 [==============================] - 1s 2ms/step - loss: 0.3333 - accuracy: 0.8572\n",
      "Epoch 116/150\n",
      "300/300 [==============================] - 1s 2ms/step - loss: 0.3314 - accuracy: 0.8580\n",
      "Epoch 117/150\n",
      "300/300 [==============================] - 1s 2ms/step - loss: 0.3322 - accuracy: 0.8570\n",
      "Epoch 118/150\n",
      "300/300 [==============================] - 1s 2ms/step - loss: 0.3356 - accuracy: 0.8533\n",
      "Epoch 119/150\n",
      "300/300 [==============================] - 1s 2ms/step - loss: 0.3319 - accuracy: 0.8577\n",
      "Epoch 120/150\n",
      "300/300 [==============================] - 1s 2ms/step - loss: 0.3337 - accuracy: 0.8569\n",
      "Epoch 121/150\n",
      "300/300 [==============================] - 1s 2ms/step - loss: 0.3299 - accuracy: 0.8589\n",
      "Epoch 122/150\n",
      "300/300 [==============================] - 1s 2ms/step - loss: 0.3297 - accuracy: 0.8579\n",
      "Epoch 123/150\n",
      "300/300 [==============================] - 1s 2ms/step - loss: 0.3318 - accuracy: 0.8566\n",
      "Epoch 124/150\n",
      "300/300 [==============================] - 1s 2ms/step - loss: 0.3320 - accuracy: 0.8582\n",
      "Epoch 125/150\n",
      "300/300 [==============================] - 1s 2ms/step - loss: 0.3306 - accuracy: 0.8564\n",
      "Epoch 126/150\n",
      "300/300 [==============================] - 1s 2ms/step - loss: 0.3304 - accuracy: 0.8592\n",
      "Epoch 127/150\n",
      "300/300 [==============================] - 1s 2ms/step - loss: 0.3292 - accuracy: 0.8577\n",
      "Epoch 128/150\n",
      "300/300 [==============================] - 0s 1ms/step - loss: 0.3297 - accuracy: 0.8587\n",
      "Epoch 129/150\n",
      "300/300 [==============================] - 0s 857us/step - loss: 0.3313 - accuracy: 0.8575\n",
      "Epoch 130/150\n",
      "300/300 [==============================] - 0s 1ms/step - loss: 0.3295 - accuracy: 0.8587\n",
      "Epoch 131/150\n",
      "300/300 [==============================] - 0s 937us/step - loss: 0.3314 - accuracy: 0.8569\n",
      "Epoch 132/150\n",
      "300/300 [==============================] - 0s 913us/step - loss: 0.3360 - accuracy: 0.8552\n",
      "Epoch 133/150\n",
      "300/300 [==============================] - 0s 814us/step - loss: 0.3326 - accuracy: 0.8566\n",
      "Epoch 134/150\n",
      "300/300 [==============================] - 0s 837us/step - loss: 0.3325 - accuracy: 0.8557\n",
      "Epoch 135/150\n",
      "300/300 [==============================] - 0s 863us/step - loss: 0.3329 - accuracy: 0.8582\n",
      "Epoch 136/150\n",
      "300/300 [==============================] - 1s 2ms/step - loss: 0.3318 - accuracy: 0.8578\n",
      "Epoch 137/150\n",
      "300/300 [==============================] - 1s 2ms/step - loss: 0.3317 - accuracy: 0.8550\n",
      "Epoch 138/150\n",
      "300/300 [==============================] - 1s 2ms/step - loss: 0.3312 - accuracy: 0.8597\n",
      "Epoch 139/150\n",
      "300/300 [==============================] - 1s 2ms/step - loss: 0.3284 - accuracy: 0.8603\n",
      "Epoch 140/150\n",
      "300/300 [==============================] - 1s 2ms/step - loss: 0.3310 - accuracy: 0.8597\n",
      "Epoch 141/150\n",
      "300/300 [==============================] - 1s 2ms/step - loss: 0.3302 - accuracy: 0.8584\n",
      "Epoch 142/150\n",
      "300/300 [==============================] - 1s 2ms/step - loss: 0.3332 - accuracy: 0.8596\n",
      "Epoch 143/150\n",
      "300/300 [==============================] - 1s 2ms/step - loss: 0.3313 - accuracy: 0.8566\n",
      "Epoch 144/150\n",
      "300/300 [==============================] - 1s 2ms/step - loss: 0.3320 - accuracy: 0.8571\n",
      "Epoch 145/150\n",
      "300/300 [==============================] - 1s 2ms/step - loss: 0.3293 - accuracy: 0.8571: 0s - loss: 0.3211 - ac\n",
      "Epoch 146/150\n",
      "300/300 [==============================] - 1s 2ms/step - loss: 0.3306 - accuracy: 0.8575\n",
      "Epoch 147/150\n",
      "300/300 [==============================] - 1s 2ms/step - loss: 0.3304 - accuracy: 0.8571\n",
      "Epoch 148/150\n",
      "300/300 [==============================] - 2s 7ms/step - loss: 0.3312 - accuracy: 0.8604\n",
      "Epoch 149/150\n",
      "300/300 [==============================] - 1s 3ms/step - loss: 0.3305 - accuracy: 0.8558\n",
      "Epoch 150/150\n",
      "300/300 [==============================] - 1s 2ms/step - loss: 0.3292 - accuracy: 0.8599\n"
     ]
    },
    {
     "data": {
      "text/plain": [
       "<tensorflow.python.keras.callbacks.History at 0x1d0f8fdde08>"
      ]
     },
     "execution_count": 79,
     "metadata": {},
     "output_type": "execute_result"
    }
   ],
   "source": [
    "model_2.fit(x= X_res, y= y_res, epochs=150)"
   ]
  },
  {
   "cell_type": "markdown",
   "metadata": {},
   "source": [
    "### 3. Model with Adam Optimizer"
   ]
  },
  {
   "cell_type": "code",
   "execution_count": 80,
   "metadata": {},
   "outputs": [],
   "source": [
    "model_3 = tf.keras.models.Sequential()"
   ]
  },
  {
   "cell_type": "code",
   "execution_count": 81,
   "metadata": {},
   "outputs": [],
   "source": [
    "model_3.add(tf.keras.layers.Dense(units=128, activation='relu', input_shape=(8,)))"
   ]
  },
  {
   "cell_type": "code",
   "execution_count": 82,
   "metadata": {},
   "outputs": [],
   "source": [
    "model_3.add(tf.keras.layers.Dense(units=64, activation='relu'))"
   ]
  },
  {
   "cell_type": "code",
   "execution_count": 83,
   "metadata": {},
   "outputs": [],
   "source": [
    "model_3.add(tf.keras.layers.Dense(units=32, activation='relu'))"
   ]
  },
  {
   "cell_type": "code",
   "execution_count": 84,
   "metadata": {},
   "outputs": [],
   "source": [
    "model_3.add(tf.keras.layers.Dense(units=1, activation = 'sigmoid'))"
   ]
  },
  {
   "cell_type": "code",
   "execution_count": 85,
   "metadata": {},
   "outputs": [],
   "source": [
    "model_3.compile(optimizer = tf.keras.optimizers.Adam(learning_rate=0.1), loss = 'binary_crossentropy', metrics = ['accuracy'])"
   ]
  },
  {
   "cell_type": "code",
   "execution_count": 86,
   "metadata": {},
   "outputs": [
    {
     "name": "stdout",
     "output_type": "stream",
     "text": [
      "Model: \"sequential_2\"\n",
      "_________________________________________________________________\n",
      "Layer (type)                 Output Shape              Param #   \n",
      "=================================================================\n",
      "dense_8 (Dense)              (None, 128)               1152      \n",
      "_________________________________________________________________\n",
      "dense_9 (Dense)              (None, 64)                8256      \n",
      "_________________________________________________________________\n",
      "dense_10 (Dense)             (None, 32)                2080      \n",
      "_________________________________________________________________\n",
      "dense_11 (Dense)             (None, 1)                 33        \n",
      "=================================================================\n",
      "Total params: 11,521\n",
      "Trainable params: 11,521\n",
      "Non-trainable params: 0\n",
      "_________________________________________________________________\n"
     ]
    }
   ],
   "source": [
    "model_3.summary()"
   ]
  },
  {
   "cell_type": "code",
   "execution_count": 87,
   "metadata": {},
   "outputs": [
    {
     "name": "stdout",
     "output_type": "stream",
     "text": [
      "Epoch 1/150\n",
      "300/300 [==============================] - 1s 2ms/step - loss: 0.5178 - accuracy: 0.7332\n",
      "Epoch 2/150\n",
      "300/300 [==============================] - 1s 2ms/step - loss: 0.4278 - accuracy: 0.8051\n",
      "Epoch 3/150\n",
      "300/300 [==============================] - 1s 2ms/step - loss: 0.4292 - accuracy: 0.8030\n",
      "Epoch 4/150\n",
      "300/300 [==============================] - 1s 2ms/step - loss: 0.4252 - accuracy: 0.8065\n",
      "Epoch 5/150\n",
      "300/300 [==============================] - 1s 2ms/step - loss: 0.4280 - accuracy: 0.8005\n",
      "Epoch 6/150\n",
      "300/300 [==============================] - 1s 2ms/step - loss: 0.4295 - accuracy: 0.8055\n",
      "Epoch 7/150\n",
      "300/300 [==============================] - 1s 2ms/step - loss: 0.4126 - accuracy: 0.8128\n",
      "Epoch 8/150\n",
      "300/300 [==============================] - 1s 2ms/step - loss: 0.4208 - accuracy: 0.8029\n",
      "Epoch 9/150\n",
      "300/300 [==============================] - 1s 2ms/step - loss: 0.4115 - accuracy: 0.8110\n",
      "Epoch 10/150\n",
      "300/300 [==============================] - 1s 2ms/step - loss: 0.4253 - accuracy: 0.8066\n",
      "Epoch 11/150\n",
      "300/300 [==============================] - 1s 2ms/step - loss: 0.4190 - accuracy: 0.8140\n",
      "Epoch 12/150\n",
      "300/300 [==============================] - 1s 3ms/step - loss: 0.4147 - accuracy: 0.8146\n",
      "Epoch 13/150\n",
      "300/300 [==============================] - 1s 3ms/step - loss: 0.4266 - accuracy: 0.8044\n",
      "Epoch 14/150\n",
      "300/300 [==============================] - 1s 3ms/step - loss: 0.4273 - accuracy: 0.7977\n",
      "Epoch 15/150\n",
      "300/300 [==============================] - 1s 2ms/step - loss: 0.4148 - accuracy: 0.8139\n",
      "Epoch 16/150\n",
      "300/300 [==============================] - 1s 2ms/step - loss: 0.4199 - accuracy: 0.8104\n",
      "Epoch 17/150\n",
      "300/300 [==============================] - 1s 3ms/step - loss: 0.4291 - accuracy: 0.8099\n",
      "Epoch 18/150\n",
      "300/300 [==============================] - 1s 2ms/step - loss: 0.4201 - accuracy: 0.8109\n",
      "Epoch 19/150\n",
      "300/300 [==============================] - 1s 2ms/step - loss: 0.4280 - accuracy: 0.8076\n",
      "Epoch 20/150\n",
      "300/300 [==============================] - 1s 3ms/step - loss: 0.4179 - accuracy: 0.8105\n",
      "Epoch 21/150\n",
      "300/300 [==============================] - 1s 3ms/step - loss: 0.4180 - accuracy: 0.8091\n",
      "Epoch 22/150\n",
      "300/300 [==============================] - 1s 3ms/step - loss: 0.4133 - accuracy: 0.8104\n",
      "Epoch 23/150\n",
      "300/300 [==============================] - 1s 2ms/step - loss: 0.4205 - accuracy: 0.8050\n",
      "Epoch 24/150\n",
      "300/300 [==============================] - 1s 3ms/step - loss: 0.4185 - accuracy: 0.8082\n",
      "Epoch 25/150\n",
      "300/300 [==============================] - 1s 2ms/step - loss: 0.4205 - accuracy: 0.8066\n",
      "Epoch 26/150\n",
      "300/300 [==============================] - 1s 2ms/step - loss: 0.4221 - accuracy: 0.8062\n",
      "Epoch 27/150\n",
      "300/300 [==============================] - 1s 2ms/step - loss: 0.4149 - accuracy: 0.8090\n",
      "Epoch 28/150\n",
      "300/300 [==============================] - 1s 2ms/step - loss: 0.4413 - accuracy: 0.7965\n",
      "Epoch 29/150\n",
      "300/300 [==============================] - 1s 2ms/step - loss: 0.4171 - accuracy: 0.8109\n",
      "Epoch 30/150\n",
      "300/300 [==============================] - 1s 2ms/step - loss: 0.4168 - accuracy: 0.8138\n",
      "Epoch 31/150\n",
      "300/300 [==============================] - 1s 3ms/step - loss: 0.4143 - accuracy: 0.8094\n",
      "Epoch 32/150\n",
      "300/300 [==============================] - 1s 3ms/step - loss: 0.4320 - accuracy: 0.8006\n",
      "Epoch 33/150\n",
      "300/300 [==============================] - 1s 3ms/step - loss: 0.4232 - accuracy: 0.8077\n",
      "Epoch 34/150\n",
      "300/300 [==============================] - 1s 2ms/step - loss: 0.4164 - accuracy: 0.8133\n",
      "Epoch 35/150\n",
      "300/300 [==============================] - 1s 2ms/step - loss: 0.4135 - accuracy: 0.8121\n",
      "Epoch 36/150\n",
      "300/300 [==============================] - 1s 2ms/step - loss: 0.4278 - accuracy: 0.8047\n",
      "Epoch 37/150\n",
      "300/300 [==============================] - 1s 2ms/step - loss: 0.4184 - accuracy: 0.8087\n",
      "Epoch 38/150\n",
      "300/300 [==============================] - 1s 2ms/step - loss: 0.4142 - accuracy: 0.8089\n",
      "Epoch 39/150\n",
      "300/300 [==============================] - 1s 3ms/step - loss: 0.4109 - accuracy: 0.8095\n",
      "Epoch 40/150\n",
      "300/300 [==============================] - 1s 3ms/step - loss: 0.4108 - accuracy: 0.8151\n",
      "Epoch 41/150\n",
      "300/300 [==============================] - 1s 3ms/step - loss: 0.4139 - accuracy: 0.8179\n",
      "Epoch 42/150\n",
      "300/300 [==============================] - 1s 2ms/step - loss: 0.4189 - accuracy: 0.8101\n",
      "Epoch 43/150\n",
      "300/300 [==============================] - 1s 3ms/step - loss: 0.4191 - accuracy: 0.8138\n",
      "Epoch 44/150\n",
      "300/300 [==============================] - 1s 2ms/step - loss: 0.4327 - accuracy: 0.8057\n",
      "Epoch 45/150\n",
      "300/300 [==============================] - 1s 2ms/step - loss: 0.4329 - accuracy: 0.8039\n",
      "Epoch 46/150\n",
      "300/300 [==============================] - 1s 2ms/step - loss: 0.4266 - accuracy: 0.8120\n",
      "Epoch 47/150\n",
      "300/300 [==============================] - 1s 2ms/step - loss: 0.4200 - accuracy: 0.8183\n",
      "Epoch 48/150\n",
      "300/300 [==============================] - 1s 2ms/step - loss: 0.4292 - accuracy: 0.8144\n",
      "Epoch 49/150\n",
      "300/300 [==============================] - 1s 2ms/step - loss: 0.4174 - accuracy: 0.8089\n",
      "Epoch 50/150\n",
      "300/300 [==============================] - 1s 2ms/step - loss: 0.4186 - accuracy: 0.8105\n",
      "Epoch 51/150\n",
      "300/300 [==============================] - 1s 2ms/step - loss: 0.4261 - accuracy: 0.8113\n",
      "Epoch 52/150\n",
      "300/300 [==============================] - 1s 2ms/step - loss: 0.4213 - accuracy: 0.8128\n",
      "Epoch 53/150\n",
      "300/300 [==============================] - 1s 2ms/step - loss: 0.4275 - accuracy: 0.8086\n",
      "Epoch 54/150\n",
      "300/300 [==============================] - 1s 2ms/step - loss: 0.4173 - accuracy: 0.8093\n",
      "Epoch 55/150\n",
      "300/300 [==============================] - 1s 4ms/step - loss: 0.4194 - accuracy: 0.8114\n",
      "Epoch 56/150\n",
      "300/300 [==============================] - 1s 3ms/step - loss: 0.4179 - accuracy: 0.8117\n",
      "Epoch 57/150\n",
      "300/300 [==============================] - 1s 3ms/step - loss: 0.4172 - accuracy: 0.8122\n",
      "Epoch 58/150\n",
      "300/300 [==============================] - 1s 3ms/step - loss: 0.4152 - accuracy: 0.8113\n",
      "Epoch 59/150\n",
      "300/300 [==============================] - 1s 3ms/step - loss: 0.4131 - accuracy: 0.8093\n",
      "Epoch 60/150\n",
      "300/300 [==============================] - 1s 3ms/step - loss: 0.4211 - accuracy: 0.8076\n",
      "Epoch 61/150\n",
      "300/300 [==============================] - 1s 3ms/step - loss: 0.4221 - accuracy: 0.8127\n",
      "Epoch 62/150\n",
      "300/300 [==============================] - 1s 3ms/step - loss: 0.4176 - accuracy: 0.8147\n",
      "Epoch 63/150\n",
      "300/300 [==============================] - 1s 2ms/step - loss: 0.4135 - accuracy: 0.8133\n",
      "Epoch 64/150\n",
      "300/300 [==============================] - 1s 2ms/step - loss: 0.4129 - accuracy: 0.8118\n",
      "Epoch 65/150\n",
      "300/300 [==============================] - 1s 3ms/step - loss: 0.4167 - accuracy: 0.8123\n",
      "Epoch 66/150\n",
      "300/300 [==============================] - 1s 2ms/step - loss: 0.4172 - accuracy: 0.8080\n",
      "Epoch 67/150\n",
      "300/300 [==============================] - 1s 2ms/step - loss: 0.4153 - accuracy: 0.8100\n",
      "Epoch 68/150\n",
      "300/300 [==============================] - 1s 3ms/step - loss: 0.4197 - accuracy: 0.8089: 0s - loss: 0.4226 - accuracy\n",
      "Epoch 69/150\n",
      "300/300 [==============================] - 1s 2ms/step - loss: 0.4160 - accuracy: 0.8108\n",
      "Epoch 70/150\n",
      "300/300 [==============================] - 1s 3ms/step - loss: 0.4136 - accuracy: 0.8144\n",
      "Epoch 71/150\n",
      "300/300 [==============================] - 1s 3ms/step - loss: 0.4139 - accuracy: 0.8117\n",
      "Epoch 72/150\n",
      "300/300 [==============================] - 1s 3ms/step - loss: 0.4179 - accuracy: 0.8121\n",
      "Epoch 73/150\n",
      "300/300 [==============================] - 1s 3ms/step - loss: 0.4198 - accuracy: 0.8128\n",
      "Epoch 74/150\n",
      "300/300 [==============================] - 1s 3ms/step - loss: 0.4323 - accuracy: 0.8076\n",
      "Epoch 75/150\n",
      "300/300 [==============================] - 1s 3ms/step - loss: 0.4120 - accuracy: 0.8121\n",
      "Epoch 76/150\n",
      "300/300 [==============================] - 1s 3ms/step - loss: 0.4143 - accuracy: 0.8134\n",
      "Epoch 77/150\n",
      "300/300 [==============================] - 1s 3ms/step - loss: 0.4191 - accuracy: 0.8134\n",
      "Epoch 78/150\n",
      "300/300 [==============================] - 1s 3ms/step - loss: 0.4144 - accuracy: 0.8140\n",
      "Epoch 79/150\n",
      "300/300 [==============================] - 1s 3ms/step - loss: 0.4074 - accuracy: 0.8156\n",
      "Epoch 80/150\n",
      "300/300 [==============================] - 1s 2ms/step - loss: 0.4174 - accuracy: 0.8125\n",
      "Epoch 81/150\n"
     ]
    },
    {
     "name": "stdout",
     "output_type": "stream",
     "text": [
      "300/300 [==============================] - 1s 3ms/step - loss: 0.4138 - accuracy: 0.8107\n",
      "Epoch 82/150\n",
      "300/300 [==============================] - 1s 2ms/step - loss: 0.4152 - accuracy: 0.8094\n",
      "Epoch 83/150\n",
      "300/300 [==============================] - 1s 3ms/step - loss: 0.4076 - accuracy: 0.8130\n",
      "Epoch 84/150\n",
      "300/300 [==============================] - 1s 3ms/step - loss: 0.4191 - accuracy: 0.8070\n",
      "Epoch 85/150\n",
      "300/300 [==============================] - 1s 2ms/step - loss: 0.4204 - accuracy: 0.8083\n",
      "Epoch 86/150\n",
      "300/300 [==============================] - 1s 2ms/step - loss: 0.4188 - accuracy: 0.8082\n",
      "Epoch 87/150\n",
      "300/300 [==============================] - 1s 3ms/step - loss: 0.4074 - accuracy: 0.8146\n",
      "Epoch 88/150\n",
      "300/300 [==============================] - 1s 2ms/step - loss: 0.4141 - accuracy: 0.8108\n",
      "Epoch 89/150\n",
      "300/300 [==============================] - 1s 2ms/step - loss: 0.4106 - accuracy: 0.8118\n",
      "Epoch 90/150\n",
      "300/300 [==============================] - 1s 3ms/step - loss: 0.4135 - accuracy: 0.8109\n",
      "Epoch 91/150\n",
      "300/300 [==============================] - 1s 2ms/step - loss: 0.4120 - accuracy: 0.8128\n",
      "Epoch 92/150\n",
      "300/300 [==============================] - 1s 2ms/step - loss: 0.4191 - accuracy: 0.8108\n",
      "Epoch 93/150\n",
      "300/300 [==============================] - 1s 2ms/step - loss: 0.4209 - accuracy: 0.8133\n",
      "Epoch 94/150\n",
      "300/300 [==============================] - 1s 2ms/step - loss: 0.4127 - accuracy: 0.8129\n",
      "Epoch 95/150\n",
      "300/300 [==============================] - 1s 3ms/step - loss: 0.4131 - accuracy: 0.8107\n",
      "Epoch 96/150\n",
      "300/300 [==============================] - 1s 2ms/step - loss: 0.4149 - accuracy: 0.8095\n",
      "Epoch 97/150\n",
      "300/300 [==============================] - 1s 3ms/step - loss: 0.4211 - accuracy: 0.8097\n",
      "Epoch 98/150\n",
      "300/300 [==============================] - 1s 2ms/step - loss: 0.4174 - accuracy: 0.8092\n",
      "Epoch 99/150\n",
      "300/300 [==============================] - 1s 3ms/step - loss: 0.4166 - accuracy: 0.8114\n",
      "Epoch 100/150\n",
      "300/300 [==============================] - 1s 3ms/step - loss: 0.4163 - accuracy: 0.8101\n",
      "Epoch 101/150\n",
      "300/300 [==============================] - 1s 3ms/step - loss: 0.4094 - accuracy: 0.8161\n",
      "Epoch 102/150\n",
      "300/300 [==============================] - 1s 3ms/step - loss: 0.4161 - accuracy: 0.8135\n",
      "Epoch 103/150\n",
      "300/300 [==============================] - 1s 3ms/step - loss: 0.4164 - accuracy: 0.8105\n",
      "Epoch 104/150\n",
      "300/300 [==============================] - 1s 2ms/step - loss: 0.4155 - accuracy: 0.8111\n",
      "Epoch 105/150\n",
      "300/300 [==============================] - 1s 3ms/step - loss: 0.4106 - accuracy: 0.8110\n",
      "Epoch 106/150\n",
      "300/300 [==============================] - 1s 2ms/step - loss: 0.4191 - accuracy: 0.8113\n",
      "Epoch 107/150\n",
      "300/300 [==============================] - 1s 2ms/step - loss: 0.4142 - accuracy: 0.8098\n",
      "Epoch 108/150\n",
      "300/300 [==============================] - 1s 2ms/step - loss: 0.4100 - accuracy: 0.8129\n",
      "Epoch 109/150\n",
      "300/300 [==============================] - 1s 2ms/step - loss: 0.4134 - accuracy: 0.8146\n",
      "Epoch 110/150\n",
      "300/300 [==============================] - 1s 3ms/step - loss: 0.4249 - accuracy: 0.8091\n",
      "Epoch 111/150\n",
      "300/300 [==============================] - 1s 3ms/step - loss: 0.4101 - accuracy: 0.8170\n",
      "Epoch 112/150\n",
      "300/300 [==============================] - 1s 3ms/step - loss: 0.4149 - accuracy: 0.8175\n",
      "Epoch 113/150\n",
      "300/300 [==============================] - 1s 3ms/step - loss: 0.4187 - accuracy: 0.8107\n",
      "Epoch 114/150\n",
      "300/300 [==============================] - 1s 2ms/step - loss: 0.4189 - accuracy: 0.8116\n",
      "Epoch 115/150\n",
      "300/300 [==============================] - 1s 3ms/step - loss: 0.4188 - accuracy: 0.8116\n",
      "Epoch 116/150\n",
      "300/300 [==============================] - 1s 3ms/step - loss: 0.4167 - accuracy: 0.8105\n",
      "Epoch 117/150\n",
      "300/300 [==============================] - 1s 2ms/step - loss: 0.4138 - accuracy: 0.8139\n",
      "Epoch 118/150\n",
      "300/300 [==============================] - 1s 2ms/step - loss: 0.4184 - accuracy: 0.8095\n",
      "Epoch 119/150\n",
      "300/300 [==============================] - 1s 3ms/step - loss: 0.4110 - accuracy: 0.8154\n",
      "Epoch 120/150\n",
      "300/300 [==============================] - 1s 2ms/step - loss: 0.4113 - accuracy: 0.8144: 0s - loss: 0.4\n",
      "Epoch 121/150\n",
      "300/300 [==============================] - 1s 2ms/step - loss: 0.4115 - accuracy: 0.8127\n",
      "Epoch 122/150\n",
      "300/300 [==============================] - 1s 2ms/step - loss: 0.4126 - accuracy: 0.8148\n",
      "Epoch 123/150\n",
      "300/300 [==============================] - 1s 3ms/step - loss: 0.4245 - accuracy: 0.8067\n",
      "Epoch 124/150\n",
      "300/300 [==============================] - 1s 2ms/step - loss: 0.4213 - accuracy: 0.8088\n",
      "Epoch 125/150\n",
      "300/300 [==============================] - 1s 2ms/step - loss: 0.4150 - accuracy: 0.8086\n",
      "Epoch 126/150\n",
      "300/300 [==============================] - 1s 3ms/step - loss: 0.4136 - accuracy: 0.8117\n",
      "Epoch 127/150\n",
      "300/300 [==============================] - 1s 3ms/step - loss: 0.4239 - accuracy: 0.8077\n",
      "Epoch 128/150\n",
      "300/300 [==============================] - 1s 2ms/step - loss: 0.4232 - accuracy: 0.8069\n",
      "Epoch 129/150\n",
      "300/300 [==============================] - 1s 2ms/step - loss: 0.4148 - accuracy: 0.8150\n",
      "Epoch 130/150\n",
      "300/300 [==============================] - 1s 2ms/step - loss: 0.4192 - accuracy: 0.8095\n",
      "Epoch 131/150\n",
      "300/300 [==============================] - 1s 2ms/step - loss: 0.4188 - accuracy: 0.8086\n",
      "Epoch 132/150\n",
      "300/300 [==============================] - 1s 3ms/step - loss: 0.4171 - accuracy: 0.8108\n",
      "Epoch 133/150\n",
      "300/300 [==============================] - 1s 2ms/step - loss: 0.4159 - accuracy: 0.8097\n",
      "Epoch 134/150\n",
      "300/300 [==============================] - 1s 2ms/step - loss: 0.4159 - accuracy: 0.8122\n",
      "Epoch 135/150\n",
      "300/300 [==============================] - 1s 2ms/step - loss: 0.4203 - accuracy: 0.8114\n",
      "Epoch 136/150\n",
      "300/300 [==============================] - 1s 2ms/step - loss: 0.4103 - accuracy: 0.8132\n",
      "Epoch 137/150\n",
      "300/300 [==============================] - 1s 2ms/step - loss: 0.4127 - accuracy: 0.8108\n",
      "Epoch 138/150\n",
      "300/300 [==============================] - 1s 2ms/step - loss: 0.4207 - accuracy: 0.8086\n",
      "Epoch 139/150\n",
      "300/300 [==============================] - 1s 2ms/step - loss: 0.4157 - accuracy: 0.8141\n",
      "Epoch 140/150\n",
      "300/300 [==============================] - 1s 2ms/step - loss: 0.4155 - accuracy: 0.8109\n",
      "Epoch 141/150\n",
      "300/300 [==============================] - 1s 2ms/step - loss: 0.4152 - accuracy: 0.8124\n",
      "Epoch 142/150\n",
      "300/300 [==============================] - 1s 2ms/step - loss: 0.4138 - accuracy: 0.8109\n",
      "Epoch 143/150\n",
      "300/300 [==============================] - 1s 2ms/step - loss: 0.4109 - accuracy: 0.8148\n",
      "Epoch 144/150\n",
      "300/300 [==============================] - 1s 2ms/step - loss: 0.4111 - accuracy: 0.8118\n",
      "Epoch 145/150\n",
      "300/300 [==============================] - 1s 2ms/step - loss: 0.4157 - accuracy: 0.8107\n",
      "Epoch 146/150\n",
      "300/300 [==============================] - 1s 3ms/step - loss: 0.4178 - accuracy: 0.8075\n",
      "Epoch 147/150\n",
      "300/300 [==============================] - 1s 2ms/step - loss: 0.4107 - accuracy: 0.8109\n",
      "Epoch 148/150\n",
      "300/300 [==============================] - 1s 3ms/step - loss: 0.4118 - accuracy: 0.8139\n",
      "Epoch 149/150\n",
      "300/300 [==============================] - 1s 2ms/step - loss: 0.4173 - accuracy: 0.8115\n",
      "Epoch 150/150\n",
      "300/300 [==============================] - 1s 2ms/step - loss: 0.4176 - accuracy: 0.8085: 0s - loss: 0.427\n"
     ]
    },
    {
     "data": {
      "text/plain": [
       "<tensorflow.python.keras.callbacks.History at 0x1d0fb34e788>"
      ]
     },
     "execution_count": 87,
     "metadata": {},
     "output_type": "execute_result"
    }
   ],
   "source": [
    "model_3.fit(x= X_res, y= y_res, epochs=150)"
   ]
  },
  {
   "cell_type": "markdown",
   "metadata": {},
   "source": [
    "### 4. Model with SGD Optimizer"
   ]
  },
  {
   "cell_type": "code",
   "execution_count": 88,
   "metadata": {},
   "outputs": [],
   "source": [
    "model_4 = tf.keras.models.Sequential()"
   ]
  },
  {
   "cell_type": "code",
   "execution_count": 89,
   "metadata": {},
   "outputs": [],
   "source": [
    "model_4.add(tf.keras.layers.Dense(units=128, activation='relu', input_shape=(8,)))"
   ]
  },
  {
   "cell_type": "code",
   "execution_count": 90,
   "metadata": {},
   "outputs": [],
   "source": [
    "model_4.add(tf.keras.layers.Dense(units=64, activation='relu'))"
   ]
  },
  {
   "cell_type": "code",
   "execution_count": 91,
   "metadata": {},
   "outputs": [],
   "source": [
    "model_4.add(tf.keras.layers.Dense(units=32, activation='relu'))"
   ]
  },
  {
   "cell_type": "code",
   "execution_count": 92,
   "metadata": {},
   "outputs": [],
   "source": [
    "model_4.add(tf.keras.layers.Dense(units=1, activation = 'sigmoid'))"
   ]
  },
  {
   "cell_type": "code",
   "execution_count": 93,
   "metadata": {},
   "outputs": [],
   "source": [
    "model_4.compile(optimizer = tf.keras.optimizers.SGD(learning_rate=0.1), loss = 'binary_crossentropy', metrics = ['accuracy'])"
   ]
  },
  {
   "cell_type": "code",
   "execution_count": 94,
   "metadata": {},
   "outputs": [
    {
     "name": "stdout",
     "output_type": "stream",
     "text": [
      "Model: \"sequential_3\"\n",
      "_________________________________________________________________\n",
      "Layer (type)                 Output Shape              Param #   \n",
      "=================================================================\n",
      "dense_12 (Dense)             (None, 128)               1152      \n",
      "_________________________________________________________________\n",
      "dense_13 (Dense)             (None, 64)                8256      \n",
      "_________________________________________________________________\n",
      "dense_14 (Dense)             (None, 32)                2080      \n",
      "_________________________________________________________________\n",
      "dense_15 (Dense)             (None, 1)                 33        \n",
      "=================================================================\n",
      "Total params: 11,521\n",
      "Trainable params: 11,521\n",
      "Non-trainable params: 0\n",
      "_________________________________________________________________\n"
     ]
    }
   ],
   "source": [
    "model_4.summary()"
   ]
  },
  {
   "cell_type": "code",
   "execution_count": 95,
   "metadata": {
    "scrolled": true
   },
   "outputs": [
    {
     "name": "stdout",
     "output_type": "stream",
     "text": [
      "Epoch 1/150\n",
      "300/300 [==============================] - 1s 2ms/step - loss: 0.4916 - accuracy: 0.7586\n",
      "Epoch 2/150\n",
      "300/300 [==============================] - 1s 3ms/step - loss: 0.4097 - accuracy: 0.8108\n",
      "Epoch 3/150\n",
      "300/300 [==============================] - 1s 2ms/step - loss: 0.4049 - accuracy: 0.8160\n",
      "Epoch 4/150\n",
      "300/300 [==============================] - 1s 2ms/step - loss: 0.3993 - accuracy: 0.8195\n",
      "Epoch 5/150\n",
      "300/300 [==============================] - 1s 2ms/step - loss: 0.3990 - accuracy: 0.8214\n",
      "Epoch 6/150\n",
      "300/300 [==============================] - 1s 2ms/step - loss: 0.3972 - accuracy: 0.8206\n",
      "Epoch 7/150\n",
      "300/300 [==============================] - 1s 2ms/step - loss: 0.3963 - accuracy: 0.8205\n",
      "Epoch 8/150\n",
      "300/300 [==============================] - 1s 2ms/step - loss: 0.3959 - accuracy: 0.8201\n",
      "Epoch 9/150\n",
      "300/300 [==============================] - 1s 2ms/step - loss: 0.3936 - accuracy: 0.8215\n",
      "Epoch 10/150\n",
      "300/300 [==============================] - 1s 2ms/step - loss: 0.3941 - accuracy: 0.8217\n",
      "Epoch 11/150\n",
      "300/300 [==============================] - 1s 2ms/step - loss: 0.3913 - accuracy: 0.8258\n",
      "Epoch 12/150\n",
      "300/300 [==============================] - 1s 2ms/step - loss: 0.3910 - accuracy: 0.8256\n",
      "Epoch 13/150\n",
      "300/300 [==============================] - 1s 2ms/step - loss: 0.3894 - accuracy: 0.8242\n",
      "Epoch 14/150\n",
      "300/300 [==============================] - 1s 3ms/step - loss: 0.3887 - accuracy: 0.8243\n",
      "Epoch 15/150\n",
      "300/300 [==============================] - 1s 3ms/step - loss: 0.3867 - accuracy: 0.8300\n",
      "Epoch 16/150\n",
      "300/300 [==============================] - 1s 2ms/step - loss: 0.3898 - accuracy: 0.8249\n",
      "Epoch 17/150\n",
      "300/300 [==============================] - 1s 3ms/step - loss: 0.3881 - accuracy: 0.8258\n",
      "Epoch 18/150\n",
      "300/300 [==============================] - 1s 2ms/step - loss: 0.3892 - accuracy: 0.8243\n",
      "Epoch 19/150\n",
      "300/300 [==============================] - 1s 2ms/step - loss: 0.3866 - accuracy: 0.8260\n",
      "Epoch 20/150\n",
      "300/300 [==============================] - 1s 2ms/step - loss: 0.3848 - accuracy: 0.8290\n",
      "Epoch 21/150\n",
      "300/300 [==============================] - 1s 2ms/step - loss: 0.3857 - accuracy: 0.8252\n",
      "Epoch 22/150\n",
      "300/300 [==============================] - 1s 2ms/step - loss: 0.3834 - accuracy: 0.8284\n",
      "Epoch 23/150\n",
      "300/300 [==============================] - 1s 2ms/step - loss: 0.3828 - accuracy: 0.8297\n",
      "Epoch 24/150\n",
      "300/300 [==============================] - 1s 2ms/step - loss: 0.3815 - accuracy: 0.8318\n",
      "Epoch 25/150\n",
      "300/300 [==============================] - 1s 2ms/step - loss: 0.3806 - accuracy: 0.8327\n",
      "Epoch 26/150\n",
      "300/300 [==============================] - 1s 2ms/step - loss: 0.3804 - accuracy: 0.8337\n",
      "Epoch 27/150\n",
      "300/300 [==============================] - 1s 2ms/step - loss: 0.3774 - accuracy: 0.8315\n",
      "Epoch 28/150\n",
      "300/300 [==============================] - 1s 3ms/step - loss: 0.3764 - accuracy: 0.8350\n",
      "Epoch 29/150\n",
      "300/300 [==============================] - 1s 3ms/step - loss: 0.3762 - accuracy: 0.8307\n",
      "Epoch 30/150\n",
      "300/300 [==============================] - 1s 3ms/step - loss: 0.3768 - accuracy: 0.8341\n",
      "Epoch 31/150\n",
      "300/300 [==============================] - 1s 3ms/step - loss: 0.3754 - accuracy: 0.8333\n",
      "Epoch 32/150\n",
      "300/300 [==============================] - 1s 3ms/step - loss: 0.3765 - accuracy: 0.8337\n",
      "Epoch 33/150\n",
      "300/300 [==============================] - 1s 3ms/step - loss: 0.3733 - accuracy: 0.8345\n",
      "Epoch 34/150\n",
      "300/300 [==============================] - 1s 3ms/step - loss: 0.3722 - accuracy: 0.8312\n",
      "Epoch 35/150\n",
      "300/300 [==============================] - 1s 3ms/step - loss: 0.3710 - accuracy: 0.8362\n",
      "Epoch 36/150\n",
      "300/300 [==============================] - 1s 2ms/step - loss: 0.3718 - accuracy: 0.8339\n",
      "Epoch 37/150\n",
      "300/300 [==============================] - 1s 2ms/step - loss: 0.3675 - accuracy: 0.8371: 0s - loss: 0.3\n",
      "Epoch 38/150\n",
      "300/300 [==============================] - 1s 2ms/step - loss: 0.3683 - accuracy: 0.8396: 0s - loss:\n",
      "Epoch 39/150\n",
      "300/300 [==============================] - 1s 3ms/step - loss: 0.3656 - accuracy: 0.8380\n",
      "Epoch 40/150\n",
      "300/300 [==============================] - 1s 3ms/step - loss: 0.3636 - accuracy: 0.8408\n",
      "Epoch 41/150\n",
      "300/300 [==============================] - 1s 3ms/step - loss: 0.3647 - accuracy: 0.8396\n",
      "Epoch 42/150\n",
      "300/300 [==============================] - 1s 3ms/step - loss: 0.3623 - accuracy: 0.8434\n",
      "Epoch 43/150\n",
      "300/300 [==============================] - 1s 2ms/step - loss: 0.3607 - accuracy: 0.8410\n",
      "Epoch 44/150\n",
      "300/300 [==============================] - 1s 2ms/step - loss: 0.3598 - accuracy: 0.8431\n",
      "Epoch 45/150\n",
      "300/300 [==============================] - 1s 2ms/step - loss: 0.3583 - accuracy: 0.8427\n",
      "Epoch 46/150\n",
      "300/300 [==============================] - 1s 2ms/step - loss: 0.3566 - accuracy: 0.8450\n",
      "Epoch 47/150\n",
      "300/300 [==============================] - 1s 2ms/step - loss: 0.3567 - accuracy: 0.8442\n",
      "Epoch 48/150\n",
      "300/300 [==============================] - 1s 2ms/step - loss: 0.3560 - accuracy: 0.8440\n",
      "Epoch 49/150\n",
      "300/300 [==============================] - 1s 3ms/step - loss: 0.3558 - accuracy: 0.8438\n",
      "Epoch 50/150\n",
      "300/300 [==============================] - 1s 3ms/step - loss: 0.3552 - accuracy: 0.8434\n",
      "Epoch 51/150\n",
      "300/300 [==============================] - 1s 3ms/step - loss: 0.3556 - accuracy: 0.8410\n",
      "Epoch 52/150\n",
      "300/300 [==============================] - 1s 3ms/step - loss: 0.3523 - accuracy: 0.8456\n",
      "Epoch 53/150\n",
      "300/300 [==============================] - 1s 3ms/step - loss: 0.3511 - accuracy: 0.8432\n",
      "Epoch 54/150\n",
      "300/300 [==============================] - 1s 3ms/step - loss: 0.3494 - accuracy: 0.8464\n",
      "Epoch 55/150\n",
      "300/300 [==============================] - 1s 3ms/step - loss: 0.3492 - accuracy: 0.8454\n",
      "Epoch 56/150\n",
      "300/300 [==============================] - 1s 3ms/step - loss: 0.3474 - accuracy: 0.8488\n",
      "Epoch 57/150\n",
      "300/300 [==============================] - 1s 3ms/step - loss: 0.3465 - accuracy: 0.8476\n",
      "Epoch 58/150\n",
      "300/300 [==============================] - 1s 3ms/step - loss: 0.3453 - accuracy: 0.8498\n",
      "Epoch 59/150\n",
      "300/300 [==============================] - 1s 3ms/step - loss: 0.3477 - accuracy: 0.8500\n",
      "Epoch 60/150\n",
      "300/300 [==============================] - 1s 3ms/step - loss: 0.3424 - accuracy: 0.8510\n",
      "Epoch 61/150\n",
      "300/300 [==============================] - 1s 3ms/step - loss: 0.3418 - accuracy: 0.8507\n",
      "Epoch 62/150\n",
      "300/300 [==============================] - 1s 3ms/step - loss: 0.3418 - accuracy: 0.8500\n",
      "Epoch 63/150\n",
      "300/300 [==============================] - 1s 2ms/step - loss: 0.3406 - accuracy: 0.8512\n",
      "Epoch 64/150\n",
      "300/300 [==============================] - 1s 2ms/step - loss: 0.3395 - accuracy: 0.8525\n",
      "Epoch 65/150\n",
      "300/300 [==============================] - 1s 2ms/step - loss: 0.3383 - accuracy: 0.8547\n",
      "Epoch 66/150\n",
      "300/300 [==============================] - 1s 2ms/step - loss: 0.3405 - accuracy: 0.8545\n",
      "Epoch 67/150\n",
      "300/300 [==============================] - 1s 2ms/step - loss: 0.3390 - accuracy: 0.8532\n",
      "Epoch 68/150\n",
      "300/300 [==============================] - 1s 2ms/step - loss: 0.3366 - accuracy: 0.8545\n",
      "Epoch 69/150\n",
      "300/300 [==============================] - 1s 3ms/step - loss: 0.3363 - accuracy: 0.8505\n",
      "Epoch 70/150\n",
      "300/300 [==============================] - 1s 3ms/step - loss: 0.3367 - accuracy: 0.8539\n",
      "Epoch 71/150\n",
      "300/300 [==============================] - 1s 3ms/step - loss: 0.3356 - accuracy: 0.8531\n",
      "Epoch 72/150\n",
      "300/300 [==============================] - 1s 2ms/step - loss: 0.3359 - accuracy: 0.8527\n",
      "Epoch 73/150\n",
      "300/300 [==============================] - 1s 3ms/step - loss: 0.3328 - accuracy: 0.8559\n",
      "Epoch 74/150\n",
      "300/300 [==============================] - 1s 3ms/step - loss: 0.3313 - accuracy: 0.8549\n",
      "Epoch 75/150\n",
      "300/300 [==============================] - 1s 3ms/step - loss: 0.3311 - accuracy: 0.8521\n",
      "Epoch 76/150\n",
      "300/300 [==============================] - 1s 3ms/step - loss: 0.3321 - accuracy: 0.8559\n",
      "Epoch 77/150\n",
      "300/300 [==============================] - 1s 3ms/step - loss: 0.3306 - accuracy: 0.8551\n",
      "Epoch 78/150\n",
      "300/300 [==============================] - 1s 3ms/step - loss: 0.3316 - accuracy: 0.8562\n",
      "Epoch 79/150\n",
      "300/300 [==============================] - 1s 3ms/step - loss: 0.3300 - accuracy: 0.8558\n",
      "Epoch 80/150\n",
      "300/300 [==============================] - 1s 3ms/step - loss: 0.3292 - accuracy: 0.8558\n",
      "Epoch 81/150\n"
     ]
    },
    {
     "name": "stdout",
     "output_type": "stream",
     "text": [
      "300/300 [==============================] - 1s 2ms/step - loss: 0.3269 - accuracy: 0.8599\n",
      "Epoch 82/150\n",
      "300/300 [==============================] - 1s 2ms/step - loss: 0.3268 - accuracy: 0.8572\n",
      "Epoch 83/150\n",
      "300/300 [==============================] - 1s 2ms/step - loss: 0.3282 - accuracy: 0.8588\n",
      "Epoch 84/150\n",
      "300/300 [==============================] - 1s 2ms/step - loss: 0.3276 - accuracy: 0.8590\n",
      "Epoch 85/150\n",
      "300/300 [==============================] - 1s 2ms/step - loss: 0.3267 - accuracy: 0.8593\n",
      "Epoch 86/150\n",
      "300/300 [==============================] - 1s 2ms/step - loss: 0.3252 - accuracy: 0.8569\n",
      "Epoch 87/150\n",
      "300/300 [==============================] - 1s 2ms/step - loss: 0.3251 - accuracy: 0.8581\n",
      "Epoch 88/150\n",
      "300/300 [==============================] - 1s 3ms/step - loss: 0.3243 - accuracy: 0.8608\n",
      "Epoch 89/150\n",
      "300/300 [==============================] - 1s 3ms/step - loss: 0.3258 - accuracy: 0.8618\n",
      "Epoch 90/150\n",
      "300/300 [==============================] - 1s 3ms/step - loss: 0.3222 - accuracy: 0.8624\n",
      "Epoch 91/150\n",
      "300/300 [==============================] - 1s 3ms/step - loss: 0.3205 - accuracy: 0.8624\n",
      "Epoch 92/150\n",
      "300/300 [==============================] - 1s 3ms/step - loss: 0.3209 - accuracy: 0.8603\n",
      "Epoch 93/150\n",
      "300/300 [==============================] - 1s 3ms/step - loss: 0.3203 - accuracy: 0.8634\n",
      "Epoch 94/150\n",
      "300/300 [==============================] - 1s 3ms/step - loss: 0.3214 - accuracy: 0.8605\n",
      "Epoch 95/150\n",
      "300/300 [==============================] - 1s 3ms/step - loss: 0.3201 - accuracy: 0.8603\n",
      "Epoch 96/150\n",
      "300/300 [==============================] - 1s 3ms/step - loss: 0.3195 - accuracy: 0.8606\n",
      "Epoch 97/150\n",
      "300/300 [==============================] - 1s 3ms/step - loss: 0.3175 - accuracy: 0.8613\n",
      "Epoch 98/150\n",
      "300/300 [==============================] - 1s 3ms/step - loss: 0.3164 - accuracy: 0.8619\n",
      "Epoch 99/150\n",
      "300/300 [==============================] - 1s 3ms/step - loss: 0.3173 - accuracy: 0.8609\n",
      "Epoch 100/150\n",
      "300/300 [==============================] - 1s 3ms/step - loss: 0.3144 - accuracy: 0.8645\n",
      "Epoch 101/150\n",
      "300/300 [==============================] - 1s 2ms/step - loss: 0.3156 - accuracy: 0.8647\n",
      "Epoch 102/150\n",
      "300/300 [==============================] - 1s 2ms/step - loss: 0.3148 - accuracy: 0.8666\n",
      "Epoch 103/150\n",
      "300/300 [==============================] - 1s 2ms/step - loss: 0.3135 - accuracy: 0.8621\n",
      "Epoch 104/150\n",
      "300/300 [==============================] - 1s 2ms/step - loss: 0.3141 - accuracy: 0.8642\n",
      "Epoch 105/150\n",
      "300/300 [==============================] - 1s 2ms/step - loss: 0.3132 - accuracy: 0.8663\n",
      "Epoch 106/150\n",
      "300/300 [==============================] - 1s 3ms/step - loss: 0.3095 - accuracy: 0.8665\n",
      "Epoch 107/150\n",
      "300/300 [==============================] - 1s 3ms/step - loss: 0.3099 - accuracy: 0.8670\n",
      "Epoch 108/150\n",
      "300/300 [==============================] - 1s 3ms/step - loss: 0.3122 - accuracy: 0.8645\n",
      "Epoch 109/150\n",
      "300/300 [==============================] - 1s 3ms/step - loss: 0.3126 - accuracy: 0.8665\n",
      "Epoch 110/150\n",
      "300/300 [==============================] - 1s 3ms/step - loss: 0.3062 - accuracy: 0.8704\n",
      "Epoch 111/150\n",
      "300/300 [==============================] - 1s 3ms/step - loss: 0.3082 - accuracy: 0.8688\n",
      "Epoch 112/150\n",
      "300/300 [==============================] - 1s 3ms/step - loss: 0.3071 - accuracy: 0.8696\n",
      "Epoch 113/150\n",
      "300/300 [==============================] - 1s 3ms/step - loss: 0.3040 - accuracy: 0.8701\n",
      "Epoch 114/150\n",
      "300/300 [==============================] - 1s 3ms/step - loss: 0.3067 - accuracy: 0.8702\n",
      "Epoch 115/150\n",
      "300/300 [==============================] - 1s 3ms/step - loss: 0.3040 - accuracy: 0.8698\n",
      "Epoch 116/150\n",
      "300/300 [==============================] - 1s 3ms/step - loss: 0.3046 - accuracy: 0.8724\n",
      "Epoch 117/150\n",
      "300/300 [==============================] - 1s 3ms/step - loss: 0.3064 - accuracy: 0.8684\n",
      "Epoch 118/150\n",
      "300/300 [==============================] - 1s 3ms/step - loss: 0.3042 - accuracy: 0.8708\n",
      "Epoch 119/150\n",
      "300/300 [==============================] - 1s 2ms/step - loss: 0.3016 - accuracy: 0.8725\n",
      "Epoch 120/150\n",
      "300/300 [==============================] - 1s 2ms/step - loss: 0.3019 - accuracy: 0.8721\n",
      "Epoch 121/150\n",
      "300/300 [==============================] - 1s 2ms/step - loss: 0.3033 - accuracy: 0.8715\n",
      "Epoch 122/150\n",
      "300/300 [==============================] - 1s 2ms/step - loss: 0.3006 - accuracy: 0.8745\n",
      "Epoch 123/150\n",
      "300/300 [==============================] - 1s 2ms/step - loss: 0.2984 - accuracy: 0.8761\n",
      "Epoch 124/150\n",
      "300/300 [==============================] - 1s 2ms/step - loss: 0.3013 - accuracy: 0.8744\n",
      "Epoch 125/150\n",
      "300/300 [==============================] - 1s 3ms/step - loss: 0.2992 - accuracy: 0.8737\n",
      "Epoch 126/150\n",
      "300/300 [==============================] - 1s 3ms/step - loss: 0.2988 - accuracy: 0.8758\n",
      "Epoch 127/150\n",
      "300/300 [==============================] - 1s 3ms/step - loss: 0.2949 - accuracy: 0.8763\n",
      "Epoch 128/150\n",
      "300/300 [==============================] - 1s 3ms/step - loss: 0.2938 - accuracy: 0.8780\n",
      "Epoch 129/150\n",
      "300/300 [==============================] - 1s 3ms/step - loss: 0.2954 - accuracy: 0.8760\n",
      "Epoch 130/150\n",
      "300/300 [==============================] - 1s 3ms/step - loss: 0.2961 - accuracy: 0.8775\n",
      "Epoch 131/150\n",
      "300/300 [==============================] - ETA: 0s - loss: 0.2913 - accuracy: 0.87 - 1s 2ms/step - loss: 0.2920 - accuracy: 0.8795\n",
      "Epoch 132/150\n",
      "300/300 [==============================] - 1s 3ms/step - loss: 0.2898 - accuracy: 0.8793\n",
      "Epoch 133/150\n",
      "300/300 [==============================] - 1s 3ms/step - loss: 0.2933 - accuracy: 0.8783\n",
      "Epoch 134/150\n",
      "300/300 [==============================] - 1s 3ms/step - loss: 0.2914 - accuracy: 0.8784\n",
      "Epoch 135/150\n",
      "300/300 [==============================] - 1s 3ms/step - loss: 0.2903 - accuracy: 0.8799\n",
      "Epoch 136/150\n",
      "300/300 [==============================] - 1s 3ms/step - loss: 0.2889 - accuracy: 0.8794\n",
      "Epoch 137/150\n",
      "300/300 [==============================] - 1s 3ms/step - loss: 0.2895 - accuracy: 0.8799\n",
      "Epoch 138/150\n",
      "300/300 [==============================] - 1s 3ms/step - loss: 0.2880 - accuracy: 0.8823\n",
      "Epoch 139/150\n",
      "300/300 [==============================] - 1s 2ms/step - loss: 0.2886 - accuracy: 0.8831\n",
      "Epoch 140/150\n",
      "300/300 [==============================] - 1s 2ms/step - loss: 0.2827 - accuracy: 0.8855\n",
      "Epoch 141/150\n",
      "300/300 [==============================] - 1s 2ms/step - loss: 0.2914 - accuracy: 0.8803\n",
      "Epoch 142/150\n",
      "300/300 [==============================] - 1s 2ms/step - loss: 0.2840 - accuracy: 0.8830\n",
      "Epoch 143/150\n",
      "300/300 [==============================] - 1s 2ms/step - loss: 0.2881 - accuracy: 0.8801\n",
      "Epoch 144/150\n",
      "300/300 [==============================] - 1s 2ms/step - loss: 0.2850 - accuracy: 0.8844\n",
      "Epoch 145/150\n",
      "300/300 [==============================] - 1s 3ms/step - loss: 0.2833 - accuracy: 0.8816\n",
      "Epoch 146/150\n",
      "300/300 [==============================] - 1s 3ms/step - loss: 0.2847 - accuracy: 0.8831\n",
      "Epoch 147/150\n",
      "300/300 [==============================] - 1s 2ms/step - loss: 0.2838 - accuracy: 0.8847\n",
      "Epoch 148/150\n",
      "300/300 [==============================] - 1s 3ms/step - loss: 0.2837 - accuracy: 0.8823\n",
      "Epoch 149/150\n",
      "300/300 [==============================] - 1s 3ms/step - loss: 0.2823 - accuracy: 0.8852\n",
      "Epoch 150/150\n",
      "300/300 [==============================] - 1s 3ms/step - loss: 0.2812 - accuracy: 0.8874\n"
     ]
    },
    {
     "data": {
      "text/plain": [
       "<tensorflow.python.keras.callbacks.History at 0x1d0fb4a8108>"
      ]
     },
     "execution_count": 95,
     "metadata": {},
     "output_type": "execute_result"
    }
   ],
   "source": [
    "model_4.fit(x= X_res, y= y_res, epochs=150)"
   ]
  },
  {
   "cell_type": "markdown",
   "metadata": {},
   "source": [
    "### 5. Model with RMSprop Optimizer"
   ]
  },
  {
   "cell_type": "code",
   "execution_count": 104,
   "metadata": {},
   "outputs": [],
   "source": [
    "model_5 = tf.keras.models.Sequential()"
   ]
  },
  {
   "cell_type": "code",
   "execution_count": 105,
   "metadata": {},
   "outputs": [],
   "source": [
    "model_5.add(tf.keras.layers.Dense(units=128, activation='relu', input_shape=(8,)))"
   ]
  },
  {
   "cell_type": "code",
   "execution_count": 106,
   "metadata": {},
   "outputs": [],
   "source": [
    "model_5.add(tf.keras.layers.Dense(units=64, activation='relu'))"
   ]
  },
  {
   "cell_type": "code",
   "execution_count": 107,
   "metadata": {},
   "outputs": [],
   "source": [
    "model_5.add(tf.keras.layers.Dense(units=32, activation='relu'))"
   ]
  },
  {
   "cell_type": "code",
   "execution_count": 108,
   "metadata": {},
   "outputs": [],
   "source": [
    "model_5.add(tf.keras.layers.Dense(units=1, activation = 'sigmoid'))"
   ]
  },
  {
   "cell_type": "code",
   "execution_count": 109,
   "metadata": {},
   "outputs": [],
   "source": [
    "model_5.compile(optimizer = tf.keras.optimizers.RMSprop(learning_rate=0.1), loss = 'binary_crossentropy', metrics = ['accuracy'])"
   ]
  },
  {
   "cell_type": "code",
   "execution_count": 110,
   "metadata": {},
   "outputs": [
    {
     "name": "stdout",
     "output_type": "stream",
     "text": [
      "Model: \"sequential_5\"\n",
      "_________________________________________________________________\n",
      "Layer (type)                 Output Shape              Param #   \n",
      "=================================================================\n",
      "dense_20 (Dense)             (None, 128)               1152      \n",
      "_________________________________________________________________\n",
      "dense_21 (Dense)             (None, 64)                8256      \n",
      "_________________________________________________________________\n",
      "dense_22 (Dense)             (None, 32)                2080      \n",
      "_________________________________________________________________\n",
      "dense_23 (Dense)             (None, 1)                 33        \n",
      "=================================================================\n",
      "Total params: 11,521\n",
      "Trainable params: 11,521\n",
      "Non-trainable params: 0\n",
      "_________________________________________________________________\n"
     ]
    }
   ],
   "source": [
    "model_5.summary()"
   ]
  },
  {
   "cell_type": "code",
   "execution_count": 111,
   "metadata": {},
   "outputs": [
    {
     "name": "stdout",
     "output_type": "stream",
     "text": [
      "Epoch 1/150\n",
      "300/300 [==============================] - 1s 2ms/step - loss: 1.9359 - accuracy: 0.6989\n",
      "Epoch 2/150\n",
      "300/300 [==============================] - 1s 2ms/step - loss: 0.4664 - accuracy: 0.7817\n",
      "Epoch 3/150\n",
      "300/300 [==============================] - 1s 2ms/step - loss: 0.4531 - accuracy: 0.7928\n",
      "Epoch 4/150\n",
      "300/300 [==============================] - 1s 2ms/step - loss: 0.4392 - accuracy: 0.8018\n",
      "Epoch 5/150\n",
      "300/300 [==============================] - 1s 2ms/step - loss: 0.4535 - accuracy: 0.7933\n",
      "Epoch 6/150\n",
      "300/300 [==============================] - 1s 2ms/step - loss: 0.4421 - accuracy: 0.8007\n",
      "Epoch 7/150\n",
      "300/300 [==============================] - 1s 3ms/step - loss: 0.4451 - accuracy: 0.8038\n",
      "Epoch 8/150\n",
      "300/300 [==============================] - 1s 3ms/step - loss: 0.4390 - accuracy: 0.8043\n",
      "Epoch 9/150\n",
      "300/300 [==============================] - 1s 3ms/step - loss: 0.4535 - accuracy: 0.7971\n",
      "Epoch 10/150\n",
      "300/300 [==============================] - 1s 3ms/step - loss: 0.4475 - accuracy: 0.8009\n",
      "Epoch 11/150\n",
      "300/300 [==============================] - 1s 2ms/step - loss: 0.4336 - accuracy: 0.8071\n",
      "Epoch 12/150\n",
      "300/300 [==============================] - 1s 3ms/step - loss: 0.4363 - accuracy: 0.8069\n",
      "Epoch 13/150\n",
      "300/300 [==============================] - 1s 3ms/step - loss: 0.4648 - accuracy: 0.7938\n",
      "Epoch 14/150\n",
      "300/300 [==============================] - 1s 3ms/step - loss: 0.4535 - accuracy: 0.7990\n",
      "Epoch 15/150\n",
      "300/300 [==============================] - 1s 2ms/step - loss: 0.4404 - accuracy: 0.8068\n",
      "Epoch 16/150\n",
      "300/300 [==============================] - 1s 2ms/step - loss: 0.4317 - accuracy: 0.8102\n",
      "Epoch 17/150\n",
      "300/300 [==============================] - 1s 2ms/step - loss: 0.4366 - accuracy: 0.8044\n",
      "Epoch 18/150\n",
      "300/300 [==============================] - 1s 2ms/step - loss: 0.4364 - accuracy: 0.8033\n",
      "Epoch 19/150\n",
      "300/300 [==============================] - 1s 2ms/step - loss: 0.4312 - accuracy: 0.8088\n",
      "Epoch 20/150\n",
      "300/300 [==============================] - 1s 2ms/step - loss: 0.4569 - accuracy: 0.7986\n",
      "Epoch 21/150\n",
      "300/300 [==============================] - 1s 2ms/step - loss: 0.4346 - accuracy: 0.8038\n",
      "Epoch 22/150\n",
      "300/300 [==============================] - 1s 3ms/step - loss: 0.4295 - accuracy: 0.8127\n",
      "Epoch 23/150\n",
      "300/300 [==============================] - 1s 2ms/step - loss: 0.4543 - accuracy: 0.8015\n",
      "Epoch 24/150\n",
      "300/300 [==============================] - 1s 2ms/step - loss: 0.4424 - accuracy: 0.7973\n",
      "Epoch 25/150\n",
      "300/300 [==============================] - 1s 2ms/step - loss: 0.4422 - accuracy: 0.8000\n",
      "Epoch 26/150\n",
      "300/300 [==============================] - 1s 2ms/step - loss: 0.4320 - accuracy: 0.8073\n",
      "Epoch 27/150\n",
      "300/300 [==============================] - 1s 2ms/step - loss: 0.4409 - accuracy: 0.8042\n",
      "Epoch 28/150\n",
      "300/300 [==============================] - 1s 2ms/step - loss: 0.4499 - accuracy: 0.7989\n",
      "Epoch 29/150\n",
      "300/300 [==============================] - 1s 2ms/step - loss: 0.4745 - accuracy: 0.7973\n",
      "Epoch 30/150\n",
      "300/300 [==============================] - 1s 2ms/step - loss: 0.4452 - accuracy: 0.8036\n",
      "Epoch 31/150\n",
      "300/300 [==============================] - 1s 2ms/step - loss: 0.4483 - accuracy: 0.7984\n",
      "Epoch 32/150\n",
      "300/300 [==============================] - 1s 2ms/step - loss: 0.4429 - accuracy: 0.8084\n",
      "Epoch 33/150\n",
      "300/300 [==============================] - 1s 2ms/step - loss: 0.4400 - accuracy: 0.8034\n",
      "Epoch 34/150\n",
      "300/300 [==============================] - 1s 3ms/step - loss: 0.4504 - accuracy: 0.8062: 0s - loss:\n",
      "Epoch 35/150\n",
      "300/300 [==============================] - 1s 3ms/step - loss: 0.4420 - accuracy: 0.8100\n",
      "Epoch 36/150\n",
      "300/300 [==============================] - 1s 3ms/step - loss: 0.4673 - accuracy: 0.8048\n",
      "Epoch 37/150\n",
      "300/300 [==============================] - 1s 3ms/step - loss: 0.4429 - accuracy: 0.8007\n",
      "Epoch 38/150\n",
      "300/300 [==============================] - 1s 3ms/step - loss: 0.4376 - accuracy: 0.8097\n",
      "Epoch 39/150\n",
      "300/300 [==============================] - 1s 3ms/step - loss: 0.4392 - accuracy: 0.8099\n",
      "Epoch 40/150\n",
      "300/300 [==============================] - 1s 2ms/step - loss: 0.4475 - accuracy: 0.8129\n",
      "Epoch 41/150\n",
      "300/300 [==============================] - 1s 2ms/step - loss: 0.4453 - accuracy: 0.8066\n",
      "Epoch 42/150\n",
      "300/300 [==============================] - 1s 2ms/step - loss: 0.4483 - accuracy: 0.8085\n",
      "Epoch 43/150\n",
      "300/300 [==============================] - 1s 3ms/step - loss: 0.4614 - accuracy: 0.8111\n",
      "Epoch 44/150\n",
      "300/300 [==============================] - 1s 2ms/step - loss: 0.4499 - accuracy: 0.8080\n",
      "Epoch 45/150\n",
      "300/300 [==============================] - 1s 3ms/step - loss: 0.4497 - accuracy: 0.8099\n",
      "Epoch 46/150\n",
      "300/300 [==============================] - 1s 2ms/step - loss: 0.4370 - accuracy: 0.8034\n",
      "Epoch 47/150\n",
      "300/300 [==============================] - 1s 2ms/step - loss: 0.4429 - accuracy: 0.8110\n",
      "Epoch 48/150\n",
      "300/300 [==============================] - 1s 2ms/step - loss: 0.4740 - accuracy: 0.7999\n",
      "Epoch 49/150\n",
      "300/300 [==============================] - 1s 2ms/step - loss: 0.4838 - accuracy: 0.7988\n",
      "Epoch 50/150\n",
      "300/300 [==============================] - 1s 2ms/step - loss: 0.4579 - accuracy: 0.8075\n",
      "Epoch 51/150\n",
      "300/300 [==============================] - 1s 2ms/step - loss: 0.4388 - accuracy: 0.8159\n",
      "Epoch 52/150\n",
      "300/300 [==============================] - 1s 2ms/step - loss: 0.4394 - accuracy: 0.8130\n",
      "Epoch 53/150\n",
      "300/300 [==============================] - 1s 3ms/step - loss: 0.4415 - accuracy: 0.8093\n",
      "Epoch 54/150\n",
      "300/300 [==============================] - 1s 2ms/step - loss: 0.4299 - accuracy: 0.8177\n",
      "Epoch 55/150\n",
      "300/300 [==============================] - 1s 2ms/step - loss: 0.4384 - accuracy: 0.8107\n",
      "Epoch 56/150\n",
      "300/300 [==============================] - 1s 2ms/step - loss: 0.4374 - accuracy: 0.8131\n",
      "Epoch 57/150\n",
      "300/300 [==============================] - 1s 3ms/step - loss: 0.4431 - accuracy: 0.8201\n",
      "Epoch 58/150\n",
      "300/300 [==============================] - 1s 3ms/step - loss: 0.4483 - accuracy: 0.8151\n",
      "Epoch 59/150\n",
      "300/300 [==============================] - 1s 3ms/step - loss: 0.4564 - accuracy: 0.8122\n",
      "Epoch 60/150\n",
      "300/300 [==============================] - 1s 3ms/step - loss: 0.4586 - accuracy: 0.8066\n",
      "Epoch 61/150\n",
      "300/300 [==============================] - 1s 3ms/step - loss: 0.6357 - accuracy: 0.7721\n",
      "Epoch 62/150\n",
      "300/300 [==============================] - 1s 3ms/step - loss: 0.4924 - accuracy: 0.7926\n",
      "Epoch 63/150\n",
      "300/300 [==============================] - 1s 2ms/step - loss: 0.4421 - accuracy: 0.8067\n",
      "Epoch 64/150\n",
      "300/300 [==============================] - 1s 2ms/step - loss: 0.4439 - accuracy: 0.8056\n",
      "Epoch 65/150\n",
      "300/300 [==============================] - 1s 3ms/step - loss: 0.4370 - accuracy: 0.8129\n",
      "Epoch 66/150\n",
      "300/300 [==============================] - 1s 3ms/step - loss: 0.4351 - accuracy: 0.8141\n",
      "Epoch 67/150\n",
      "300/300 [==============================] - 1s 2ms/step - loss: 0.4331 - accuracy: 0.8151\n",
      "Epoch 68/150\n",
      "300/300 [==============================] - 1s 2ms/step - loss: 0.4310 - accuracy: 0.8121\n",
      "Epoch 69/150\n",
      "300/300 [==============================] - 1s 2ms/step - loss: 0.4408 - accuracy: 0.8044\n",
      "Epoch 70/150\n",
      "300/300 [==============================] - 1s 2ms/step - loss: 0.4388 - accuracy: 0.8062\n",
      "Epoch 71/150\n",
      "300/300 [==============================] - 1s 2ms/step - loss: 0.4447 - accuracy: 0.8067\n",
      "Epoch 72/150\n",
      "300/300 [==============================] - 1s 2ms/step - loss: 0.4389 - accuracy: 0.8109: 0s - loss: 0.4\n",
      "Epoch 73/150\n",
      "300/300 [==============================] - 1s 2ms/step - loss: 0.4415 - accuracy: 0.8099\n",
      "Epoch 74/150\n",
      "300/300 [==============================] - 1s 2ms/step - loss: 0.4500 - accuracy: 0.8145\n",
      "Epoch 75/150\n",
      "300/300 [==============================] - 1s 2ms/step - loss: 0.4538 - accuracy: 0.8097\n",
      "Epoch 76/150\n",
      "300/300 [==============================] - 1s 2ms/step - loss: 0.4416 - accuracy: 0.8145\n",
      "Epoch 77/150\n",
      "300/300 [==============================] - 1s 2ms/step - loss: 0.4396 - accuracy: 0.8168\n",
      "Epoch 78/150\n",
      "300/300 [==============================] - 1s 2ms/step - loss: 0.4544 - accuracy: 0.8108\n",
      "Epoch 79/150\n",
      "300/300 [==============================] - 1s 2ms/step - loss: 0.4426 - accuracy: 0.8173\n",
      "Epoch 80/150\n",
      "300/300 [==============================] - 1s 2ms/step - loss: 0.4340 - accuracy: 0.8158\n",
      "Epoch 81/150\n"
     ]
    },
    {
     "name": "stdout",
     "output_type": "stream",
     "text": [
      "300/300 [==============================] - 1s 3ms/step - loss: 0.4367 - accuracy: 0.8131\n",
      "Epoch 82/150\n",
      "300/300 [==============================] - 1s 3ms/step - loss: 0.4351 - accuracy: 0.8161\n",
      "Epoch 83/150\n",
      "300/300 [==============================] - 1s 3ms/step - loss: 0.4685 - accuracy: 0.8171\n",
      "Epoch 84/150\n",
      "300/300 [==============================] - 1s 3ms/step - loss: 0.4479 - accuracy: 0.8122\n",
      "Epoch 85/150\n",
      "300/300 [==============================] - 1s 3ms/step - loss: 0.4370 - accuracy: 0.8206\n",
      "Epoch 86/150\n",
      "300/300 [==============================] - 1s 3ms/step - loss: 0.4330 - accuracy: 0.8193\n",
      "Epoch 87/150\n",
      "300/300 [==============================] - 1s 3ms/step - loss: 0.4335 - accuracy: 0.8114\n",
      "Epoch 88/150\n",
      "300/300 [==============================] - 1s 3ms/step - loss: 0.4373 - accuracy: 0.8113\n",
      "Epoch 89/150\n",
      "300/300 [==============================] - 1s 2ms/step - loss: 0.4369 - accuracy: 0.8152\n",
      "Epoch 90/150\n",
      "300/300 [==============================] - 1s 2ms/step - loss: 0.4417 - accuracy: 0.8137\n",
      "Epoch 91/150\n",
      "300/300 [==============================] - 1s 2ms/step - loss: 0.4761 - accuracy: 0.8137\n",
      "Epoch 92/150\n",
      "300/300 [==============================] - 1s 3ms/step - loss: 0.4477 - accuracy: 0.8199\n",
      "Epoch 93/150\n",
      "300/300 [==============================] - 1s 2ms/step - loss: 0.4498 - accuracy: 0.8144\n",
      "Epoch 94/150\n",
      "300/300 [==============================] - 1s 2ms/step - loss: 0.4550 - accuracy: 0.8157\n",
      "Epoch 95/150\n",
      "300/300 [==============================] - 1s 3ms/step - loss: 0.4461 - accuracy: 0.8229\n",
      "Epoch 96/150\n",
      "300/300 [==============================] - 1s 3ms/step - loss: 0.4365 - accuracy: 0.8167\n",
      "Epoch 97/150\n",
      "300/300 [==============================] - 1s 3ms/step - loss: 0.4363 - accuracy: 0.8055\n",
      "Epoch 98/150\n",
      "300/300 [==============================] - 1s 3ms/step - loss: 0.4479 - accuracy: 0.8175\n",
      "Epoch 99/150\n",
      "300/300 [==============================] - 1s 3ms/step - loss: 0.4384 - accuracy: 0.8183\n",
      "Epoch 100/150\n",
      "300/300 [==============================] - 1s 3ms/step - loss: 0.4594 - accuracy: 0.8121\n",
      "Epoch 101/150\n",
      "300/300 [==============================] - 1s 3ms/step - loss: 0.4759 - accuracy: 0.8011\n",
      "Epoch 102/150\n",
      "300/300 [==============================] - 1s 2ms/step - loss: 0.4453 - accuracy: 0.8017\n",
      "Epoch 103/150\n",
      "300/300 [==============================] - 1s 3ms/step - loss: 0.4370 - accuracy: 0.8146\n",
      "Epoch 104/150\n",
      "300/300 [==============================] - 1s 3ms/step - loss: 0.4420 - accuracy: 0.8212\n",
      "Epoch 105/150\n",
      "300/300 [==============================] - 1s 3ms/step - loss: 0.4465 - accuracy: 0.8175\n",
      "Epoch 106/150\n",
      "300/300 [==============================] - 1s 3ms/step - loss: 0.4563 - accuracy: 0.8100\n",
      "Epoch 107/150\n",
      "300/300 [==============================] - 1s 3ms/step - loss: 0.4427 - accuracy: 0.8159\n",
      "Epoch 108/150\n",
      "300/300 [==============================] - 1s 3ms/step - loss: 0.4628 - accuracy: 0.8085\n",
      "Epoch 109/150\n",
      "300/300 [==============================] - 1s 2ms/step - loss: 0.4580 - accuracy: 0.8163\n",
      "Epoch 110/150\n",
      "300/300 [==============================] - 1s 2ms/step - loss: 0.4848 - accuracy: 0.8013\n",
      "Epoch 111/150\n",
      "300/300 [==============================] - 1s 2ms/step - loss: 0.4552 - accuracy: 0.8112\n",
      "Epoch 112/150\n",
      "300/300 [==============================] - 1s 2ms/step - loss: 0.4387 - accuracy: 0.8158\n",
      "Epoch 113/150\n",
      "300/300 [==============================] - 1s 2ms/step - loss: 0.4939 - accuracy: 0.7948\n",
      "Epoch 114/150\n",
      "300/300 [==============================] - 1s 2ms/step - loss: 0.4571 - accuracy: 0.8077\n",
      "Epoch 115/150\n",
      "300/300 [==============================] - 1s 2ms/step - loss: 0.4613 - accuracy: 0.8060\n",
      "Epoch 116/150\n",
      "300/300 [==============================] - 1s 2ms/step - loss: 0.4557 - accuracy: 0.8083\n",
      "Epoch 117/150\n",
      "300/300 [==============================] - 1s 2ms/step - loss: 0.4533 - accuracy: 0.8104\n",
      "Epoch 118/150\n",
      "300/300 [==============================] - 1s 3ms/step - loss: 0.4537 - accuracy: 0.8073\n",
      "Epoch 119/150\n",
      "300/300 [==============================] - 1s 3ms/step - loss: 0.4682 - accuracy: 0.8147\n",
      "Epoch 120/150\n",
      "300/300 [==============================] - 1s 3ms/step - loss: 0.4609 - accuracy: 0.8139\n",
      "Epoch 121/150\n",
      "300/300 [==============================] - 1s 3ms/step - loss: 0.4599 - accuracy: 0.8118\n",
      "Epoch 122/150\n",
      "300/300 [==============================] - 1s 3ms/step - loss: 0.4580 - accuracy: 0.8103\n",
      "Epoch 123/150\n",
      "300/300 [==============================] - 1s 3ms/step - loss: 0.4560 - accuracy: 0.8139\n",
      "Epoch 124/150\n",
      "300/300 [==============================] - 1s 3ms/step - loss: 0.4417 - accuracy: 0.8184\n",
      "Epoch 125/150\n",
      "300/300 [==============================] - 1s 3ms/step - loss: 0.4396 - accuracy: 0.8165\n",
      "Epoch 126/150\n",
      "300/300 [==============================] - 1s 3ms/step - loss: 0.4564 - accuracy: 0.8124\n",
      "Epoch 127/150\n",
      "300/300 [==============================] - 1s 3ms/step - loss: 0.4485 - accuracy: 0.8118\n",
      "Epoch 128/150\n",
      "300/300 [==============================] - 1s 2ms/step - loss: 0.4460 - accuracy: 0.8136\n",
      "Epoch 129/150\n",
      "300/300 [==============================] - 1s 4ms/step - loss: 0.4496 - accuracy: 0.8127\n",
      "Epoch 130/150\n",
      "300/300 [==============================] - 1s 2ms/step - loss: 0.4480 - accuracy: 0.8088\n",
      "Epoch 131/150\n",
      "300/300 [==============================] - 1s 2ms/step - loss: 0.4466 - accuracy: 0.8144\n",
      "Epoch 132/150\n",
      "300/300 [==============================] - 1s 2ms/step - loss: 0.4370 - accuracy: 0.8129\n",
      "Epoch 133/150\n",
      "300/300 [==============================] - 1s 2ms/step - loss: 0.4398 - accuracy: 0.8159\n",
      "Epoch 134/150\n",
      "300/300 [==============================] - 1s 2ms/step - loss: 0.4522 - accuracy: 0.8067\n",
      "Epoch 135/150\n",
      "300/300 [==============================] - 1s 2ms/step - loss: 0.4647 - accuracy: 0.7989\n",
      "Epoch 136/150\n",
      "300/300 [==============================] - 1s 2ms/step - loss: 0.4496 - accuracy: 0.8038\n",
      "Epoch 137/150\n",
      "300/300 [==============================] - 1s 2ms/step - loss: 0.4761 - accuracy: 0.8005\n",
      "Epoch 138/150\n",
      "300/300 [==============================] - 1s 3ms/step - loss: 0.4605 - accuracy: 0.8148\n",
      "Epoch 139/150\n",
      "300/300 [==============================] - 1s 3ms/step - loss: 0.4496 - accuracy: 0.8106\n",
      "Epoch 140/150\n",
      "300/300 [==============================] - 1s 2ms/step - loss: 0.4522 - accuracy: 0.8092\n",
      "Epoch 141/150\n",
      "300/300 [==============================] - 1s 2ms/step - loss: 0.4551 - accuracy: 0.8132\n",
      "Epoch 142/150\n",
      "300/300 [==============================] - 1s 2ms/step - loss: 0.4597 - accuracy: 0.8135\n",
      "Epoch 143/150\n",
      "300/300 [==============================] - 1s 2ms/step - loss: 0.4867 - accuracy: 0.8129\n",
      "Epoch 144/150\n",
      "300/300 [==============================] - 1s 2ms/step - loss: 0.4615 - accuracy: 0.7982\n",
      "Epoch 145/150\n",
      "300/300 [==============================] - 1s 3ms/step - loss: 0.4531 - accuracy: 0.8070\n",
      "Epoch 146/150\n",
      "300/300 [==============================] - 1s 2ms/step - loss: 0.4395 - accuracy: 0.8058\n",
      "Epoch 147/150\n",
      "300/300 [==============================] - 1s 2ms/step - loss: 0.4379 - accuracy: 0.8103\n",
      "Epoch 148/150\n",
      "300/300 [==============================] - 1s 3ms/step - loss: 0.4396 - accuracy: 0.8145\n",
      "Epoch 149/150\n",
      "300/300 [==============================] - 1s 3ms/step - loss: 0.4412 - accuracy: 0.8101\n",
      "Epoch 150/150\n",
      "300/300 [==============================] - 1s 2ms/step - loss: 0.4331 - accuracy: 0.8117\n"
     ]
    },
    {
     "data": {
      "text/plain": [
       "<tensorflow.python.keras.callbacks.History at 0x1d0fc853188>"
      ]
     },
     "execution_count": 111,
     "metadata": {},
     "output_type": "execute_result"
    }
   ],
   "source": [
    "model_5.fit(x= X_res, y= y_res, epochs=150)"
   ]
  },
  {
   "cell_type": "markdown",
   "metadata": {},
   "source": [
    "### Evaluating the models"
   ]
  },
  {
   "cell_type": "code",
   "execution_count": 112,
   "metadata": {},
   "outputs": [
    {
     "name": "stdout",
     "output_type": "stream",
     "text": [
      "Evaluate on test data - Nadam Optimizer\n",
      "48/48 [==============================] - 0s 3ms/step - loss: 0.2990 - accuracy: 0.8695\n",
      "Test Loss:  0.2990114092826843 \n",
      "\n",
      "Test Accuracy:  0.8695368766784668\n"
     ]
    }
   ],
   "source": [
    "print(\"Evaluate on test data - Nadam Optimizer\")\n",
    "test_loss, test_acc = model_1.evaluate(X_test, y_test)\n",
    "print(\"Test Loss: \", test_loss, \"\\n\")\n",
    "print(\"Test Accuracy: \", test_acc)"
   ]
  },
  {
   "cell_type": "code",
   "execution_count": 113,
   "metadata": {},
   "outputs": [
    {
     "name": "stdout",
     "output_type": "stream",
     "text": [
      "Evaluate on test data - Adamax Optimizer\n",
      "48/48 [==============================] - 0s 1ms/step - loss: 0.3781 - accuracy: 0.8141\n",
      "Test Loss:  0.3781340420246124 \n",
      "\n",
      "Test Accuracy:  0.8140900135040283\n"
     ]
    }
   ],
   "source": [
    "print(\"Evaluate on test data - Adamax Optimizer\")\n",
    "test_loss_2, test_acc_2 = model_2.evaluate(X_test, y_test)\n",
    "print(\"Test Loss: \", test_loss_2, \"\\n\")\n",
    "print(\"Test Accuracy: \", test_acc_2)"
   ]
  },
  {
   "cell_type": "code",
   "execution_count": 114,
   "metadata": {},
   "outputs": [
    {
     "name": "stdout",
     "output_type": "stream",
     "text": [
      "Evaluate on test data - Adam Optimizer\n",
      "48/48 [==============================] - 0s 1ms/step - loss: 0.4331 - accuracy: 0.7736\n",
      "Test Loss:  0.43310263752937317 \n",
      "\n",
      "Test Accuracy:  0.7736464738845825\n"
     ]
    }
   ],
   "source": [
    "print(\"Evaluate on test data - Adam Optimizer\")\n",
    "test_loss_3, test_acc_3 = model_3.evaluate(X_test, y_test)\n",
    "print(\"Test Loss: \", test_loss_3, \"\\n\")\n",
    "print(\"Test Accuracy: \", test_acc_3)"
   ]
  },
  {
   "cell_type": "code",
   "execution_count": 115,
   "metadata": {},
   "outputs": [
    {
     "name": "stdout",
     "output_type": "stream",
     "text": [
      "Evaluate on test data - SGD Optimizer\n",
      "48/48 [==============================] - 0s 2ms/step - loss: 0.4244 - accuracy: 0.8108\n",
      "Test Loss:  0.42436572909355164 \n",
      "\n",
      "Test Accuracy:  0.810828447341919\n"
     ]
    }
   ],
   "source": [
    "print(\"Evaluate on test data - SGD Optimizer\")\n",
    "test_loss_4, test_acc_4 = model_4.evaluate(X_test, y_test)\n",
    "print(\"Test Loss: \", test_loss_4, \"\\n\")\n",
    "print(\"Test Accuracy: \", test_acc_4)"
   ]
  },
  {
   "cell_type": "code",
   "execution_count": 116,
   "metadata": {},
   "outputs": [
    {
     "name": "stdout",
     "output_type": "stream",
     "text": [
      "Evaluate on test data - RMSprop Optimizer\n",
      "48/48 [==============================] - 0s 2ms/step - loss: 0.8268 - accuracy: 0.6725\n",
      "Test Loss:  0.8268325328826904 \n",
      "\n",
      "Test Accuracy:  0.6725375056266785\n"
     ]
    }
   ],
   "source": [
    "print(\"Evaluate on test data - RMSprop Optimizer\")\n",
    "test_loss_5, test_acc_5 = model_5.evaluate(X_test, y_test)\n",
    "print(\"Test Loss: \", test_loss_5, \"\\n\")\n",
    "print(\"Test Accuracy: \", test_acc_5)"
   ]
  },
  {
   "cell_type": "markdown",
   "metadata": {},
   "source": [
    "## Saving the best model"
   ]
  },
  {
   "cell_type": "code",
   "execution_count": 117,
   "metadata": {},
   "outputs": [],
   "source": [
    "Keras_file = \"Strokes_Predictor.h5\""
   ]
  },
  {
   "cell_type": "code",
   "execution_count": 118,
   "metadata": {},
   "outputs": [],
   "source": [
    "tf.keras.models.save_model(model_1, Keras_file)"
   ]
  },
  {
   "cell_type": "code",
   "execution_count": null,
   "metadata": {},
   "outputs": [],
   "source": [
    "converter = tf.lite.TFLiteConverter.from_keras_model(model)\n",
    "tfmodel = converter.convert()\n",
    "open(\"Strokesv2.tflite\",\"wb\").write(tfmodel)"
   ]
  }
 ],
 "metadata": {
  "kernelspec": {
   "display_name": "Python 3",
   "language": "python",
   "name": "python3"
  },
  "language_info": {
   "codemirror_mode": {
    "name": "ipython",
    "version": 3
   },
   "file_extension": ".py",
   "mimetype": "text/x-python",
   "name": "python",
   "nbconvert_exporter": "python",
   "pygments_lexer": "ipython3",
   "version": "3.7.6"
  }
 },
 "nbformat": 4,
 "nbformat_minor": 4
}
